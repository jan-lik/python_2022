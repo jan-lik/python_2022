{
 "cells": [
  {
   "cell_type": "markdown",
   "id": "d52f429d",
   "metadata": {},
   "source": [
    "# Pandas (продолжение)"
   ]
  },
  {
   "cell_type": "code",
   "execution_count": 30,
   "id": "e356d834",
   "metadata": {},
   "outputs": [],
   "source": [
    "import pandas as pd\n",
    "import numpy as np\n",
    "import matplotlib.pyplot as plt"
   ]
  },
  {
   "cell_type": "markdown",
   "id": "218b2ba7",
   "metadata": {},
   "source": [
    "## Упражнение 1\n",
    "\n",
    "Найдите и выведи индексы пропущенных значений.\n",
    "Заполните пропущеные значения следующими способами: \n",
    "\n",
    "1) Среднимим значения \n",
    "2) Медианными значениями \n",
    "3) Наиболее часто встечающимися \n",
    "4) Линейной интерполяцией "
   ]
  },
  {
   "cell_type": "code",
   "execution_count": 4,
   "id": "ecffbd6f",
   "metadata": {},
   "outputs": [
    {
     "data": {
      "text/plain": "     ord_no  purch_amt  sale_amt   ord_date  customer_id  salesman_id\n0   70001.0     150.50     10.50 2012-10-05         3002       5002.0\n1       NaN        NaN     20.65 2012-09-10         3001       5003.0\n2   70002.0      65.26       NaN        NaT         3001       5001.0\n3   70004.0     110.50     11.50 2012-08-17         3003          NaN\n4       NaN     948.50     98.50 2012-09-10         3002       5002.0\n5   70005.0        NaN       NaN 2012-07-27         3001       5001.0\n6       NaN    5760.00     57.00 2012-09-10         3001       5001.0\n7   70010.0    1983.43     19.43 2012-10-10         3004          NaN\n8   70003.0        NaN       NaN 2012-10-10         3003       5003.0\n9   70012.0     250.45     25.45 2012-06-27         3002       5002.0\n10      NaN      75.29     75.29 2012-08-17         3001       5003.0\n11  70013.0    3045.60     35.60 2012-04-25         3001          NaN",
      "text/html": "<div>\n<style scoped>\n    .dataframe tbody tr th:only-of-type {\n        vertical-align: middle;\n    }\n\n    .dataframe tbody tr th {\n        vertical-align: top;\n    }\n\n    .dataframe thead th {\n        text-align: right;\n    }\n</style>\n<table border=\"1\" class=\"dataframe\">\n  <thead>\n    <tr style=\"text-align: right;\">\n      <th></th>\n      <th>ord_no</th>\n      <th>purch_amt</th>\n      <th>sale_amt</th>\n      <th>ord_date</th>\n      <th>customer_id</th>\n      <th>salesman_id</th>\n    </tr>\n  </thead>\n  <tbody>\n    <tr>\n      <th>0</th>\n      <td>70001.0</td>\n      <td>150.50</td>\n      <td>10.50</td>\n      <td>2012-10-05</td>\n      <td>3002</td>\n      <td>5002.0</td>\n    </tr>\n    <tr>\n      <th>1</th>\n      <td>NaN</td>\n      <td>NaN</td>\n      <td>20.65</td>\n      <td>2012-09-10</td>\n      <td>3001</td>\n      <td>5003.0</td>\n    </tr>\n    <tr>\n      <th>2</th>\n      <td>70002.0</td>\n      <td>65.26</td>\n      <td>NaN</td>\n      <td>NaT</td>\n      <td>3001</td>\n      <td>5001.0</td>\n    </tr>\n    <tr>\n      <th>3</th>\n      <td>70004.0</td>\n      <td>110.50</td>\n      <td>11.50</td>\n      <td>2012-08-17</td>\n      <td>3003</td>\n      <td>NaN</td>\n    </tr>\n    <tr>\n      <th>4</th>\n      <td>NaN</td>\n      <td>948.50</td>\n      <td>98.50</td>\n      <td>2012-09-10</td>\n      <td>3002</td>\n      <td>5002.0</td>\n    </tr>\n    <tr>\n      <th>5</th>\n      <td>70005.0</td>\n      <td>NaN</td>\n      <td>NaN</td>\n      <td>2012-07-27</td>\n      <td>3001</td>\n      <td>5001.0</td>\n    </tr>\n    <tr>\n      <th>6</th>\n      <td>NaN</td>\n      <td>5760.00</td>\n      <td>57.00</td>\n      <td>2012-09-10</td>\n      <td>3001</td>\n      <td>5001.0</td>\n    </tr>\n    <tr>\n      <th>7</th>\n      <td>70010.0</td>\n      <td>1983.43</td>\n      <td>19.43</td>\n      <td>2012-10-10</td>\n      <td>3004</td>\n      <td>NaN</td>\n    </tr>\n    <tr>\n      <th>8</th>\n      <td>70003.0</td>\n      <td>NaN</td>\n      <td>NaN</td>\n      <td>2012-10-10</td>\n      <td>3003</td>\n      <td>5003.0</td>\n    </tr>\n    <tr>\n      <th>9</th>\n      <td>70012.0</td>\n      <td>250.45</td>\n      <td>25.45</td>\n      <td>2012-06-27</td>\n      <td>3002</td>\n      <td>5002.0</td>\n    </tr>\n    <tr>\n      <th>10</th>\n      <td>NaN</td>\n      <td>75.29</td>\n      <td>75.29</td>\n      <td>2012-08-17</td>\n      <td>3001</td>\n      <td>5003.0</td>\n    </tr>\n    <tr>\n      <th>11</th>\n      <td>70013.0</td>\n      <td>3045.60</td>\n      <td>35.60</td>\n      <td>2012-04-25</td>\n      <td>3001</td>\n      <td>NaN</td>\n    </tr>\n  </tbody>\n</table>\n</div>"
     },
     "execution_count": 4,
     "metadata": {},
     "output_type": "execute_result"
    }
   ],
   "source": [
    "df = pd.DataFrame({\n",
    "'ord_no': [70001, np.nan, 70002, 70004, np.nan, 70005, np.nan, 70010, 70003, 70012, np.nan, 70013],\n",
    "'purch_amt': [150.5, np.nan, 65.26, 110.5, 948.5, np.nan, 5760, 1983.43, np.nan, 250.45, 75.29, 3045.6],\n",
    "'sale_amt': [10.5, 20.65, np.nan, 11.5, 98.5, np.nan, 57, 19.43, np.nan, 25.45, 75.29, 35.6],\n",
    "'ord_date': ['2012-10-05', '2012-09-10', np.nan, '2012-08-17', '2012-09-10', '2012-07-27', '2012-09-10', '2012-10-10', '2012-10-10', '2012-06-27', '2012-08-17', '2012-04-25'],\n",
    "'customer_id': [3002, 3001, 3001, 3003, 3002, 3001, 3001, 3004, 3003, 3002, 3001, 3001],\n",
    "'salesman_id': [5002, 5003, 5001,np.nan, 5002, 5001, 5001,np.nan, 5003, 5002, 5003,np.nan]})\n",
    "\n",
    "df[\"ord_date\"] = pd.to_datetime(df[\"ord_date\"])\n",
    "\n",
    "df[[\"ord_date\",\"purch_amt\"]].index.values\n",
    "df"
   ]
  },
  {
   "cell_type": "code",
   "execution_count": 5,
   "id": "a44891cd",
   "metadata": {},
   "outputs": [
    {
     "name": "stderr",
     "output_type": "stream",
     "text": [
      "C:\\Users\\HP\\AppData\\Local\\Temp\\ipykernel_1744\\3020038484.py:1: FutureWarning: DataFrame.mean and DataFrame.median with numeric_only=None will include datetime64 and datetime64tz columns in a future version.\n",
      "  df.fillna(df.mean())\n"
     ]
    },
    {
     "data": {
      "text/plain": "      ord_no    purch_amt   sale_amt   ord_date  customer_id  salesman_id\n0   70001.00   150.500000  10.500000 2012-10-05         3002       5002.0\n1   70006.25  1376.614444  20.650000 2012-09-10         3001       5003.0\n2   70002.00    65.260000  39.324444        NaT         3001       5001.0\n3   70004.00   110.500000  11.500000 2012-08-17         3003       5002.0\n4   70006.25   948.500000  98.500000 2012-09-10         3002       5002.0\n5   70005.00  1376.614444  39.324444 2012-07-27         3001       5001.0\n6   70006.25  5760.000000  57.000000 2012-09-10         3001       5001.0\n7   70010.00  1983.430000  19.430000 2012-10-10         3004       5002.0\n8   70003.00  1376.614444  39.324444 2012-10-10         3003       5003.0\n9   70012.00   250.450000  25.450000 2012-06-27         3002       5002.0\n10  70006.25    75.290000  75.290000 2012-08-17         3001       5003.0\n11  70013.00  3045.600000  35.600000 2012-04-25         3001       5002.0",
      "text/html": "<div>\n<style scoped>\n    .dataframe tbody tr th:only-of-type {\n        vertical-align: middle;\n    }\n\n    .dataframe tbody tr th {\n        vertical-align: top;\n    }\n\n    .dataframe thead th {\n        text-align: right;\n    }\n</style>\n<table border=\"1\" class=\"dataframe\">\n  <thead>\n    <tr style=\"text-align: right;\">\n      <th></th>\n      <th>ord_no</th>\n      <th>purch_amt</th>\n      <th>sale_amt</th>\n      <th>ord_date</th>\n      <th>customer_id</th>\n      <th>salesman_id</th>\n    </tr>\n  </thead>\n  <tbody>\n    <tr>\n      <th>0</th>\n      <td>70001.00</td>\n      <td>150.500000</td>\n      <td>10.500000</td>\n      <td>2012-10-05</td>\n      <td>3002</td>\n      <td>5002.0</td>\n    </tr>\n    <tr>\n      <th>1</th>\n      <td>70006.25</td>\n      <td>1376.614444</td>\n      <td>20.650000</td>\n      <td>2012-09-10</td>\n      <td>3001</td>\n      <td>5003.0</td>\n    </tr>\n    <tr>\n      <th>2</th>\n      <td>70002.00</td>\n      <td>65.260000</td>\n      <td>39.324444</td>\n      <td>NaT</td>\n      <td>3001</td>\n      <td>5001.0</td>\n    </tr>\n    <tr>\n      <th>3</th>\n      <td>70004.00</td>\n      <td>110.500000</td>\n      <td>11.500000</td>\n      <td>2012-08-17</td>\n      <td>3003</td>\n      <td>5002.0</td>\n    </tr>\n    <tr>\n      <th>4</th>\n      <td>70006.25</td>\n      <td>948.500000</td>\n      <td>98.500000</td>\n      <td>2012-09-10</td>\n      <td>3002</td>\n      <td>5002.0</td>\n    </tr>\n    <tr>\n      <th>5</th>\n      <td>70005.00</td>\n      <td>1376.614444</td>\n      <td>39.324444</td>\n      <td>2012-07-27</td>\n      <td>3001</td>\n      <td>5001.0</td>\n    </tr>\n    <tr>\n      <th>6</th>\n      <td>70006.25</td>\n      <td>5760.000000</td>\n      <td>57.000000</td>\n      <td>2012-09-10</td>\n      <td>3001</td>\n      <td>5001.0</td>\n    </tr>\n    <tr>\n      <th>7</th>\n      <td>70010.00</td>\n      <td>1983.430000</td>\n      <td>19.430000</td>\n      <td>2012-10-10</td>\n      <td>3004</td>\n      <td>5002.0</td>\n    </tr>\n    <tr>\n      <th>8</th>\n      <td>70003.00</td>\n      <td>1376.614444</td>\n      <td>39.324444</td>\n      <td>2012-10-10</td>\n      <td>3003</td>\n      <td>5003.0</td>\n    </tr>\n    <tr>\n      <th>9</th>\n      <td>70012.00</td>\n      <td>250.450000</td>\n      <td>25.450000</td>\n      <td>2012-06-27</td>\n      <td>3002</td>\n      <td>5002.0</td>\n    </tr>\n    <tr>\n      <th>10</th>\n      <td>70006.25</td>\n      <td>75.290000</td>\n      <td>75.290000</td>\n      <td>2012-08-17</td>\n      <td>3001</td>\n      <td>5003.0</td>\n    </tr>\n    <tr>\n      <th>11</th>\n      <td>70013.00</td>\n      <td>3045.600000</td>\n      <td>35.600000</td>\n      <td>2012-04-25</td>\n      <td>3001</td>\n      <td>5002.0</td>\n    </tr>\n  </tbody>\n</table>\n</div>"
     },
     "execution_count": 5,
     "metadata": {},
     "output_type": "execute_result"
    }
   ],
   "source": [
    "df.fillna(df.mean())"
   ]
  },
  {
   "cell_type": "code",
   "execution_count": 6,
   "id": "31acc468",
   "metadata": {},
   "outputs": [
    {
     "name": "stdout",
     "output_type": "stream",
     "text": [
      "ord_no [ 1  4  6 10]\n",
      "purch_amt [1 5 8]\n",
      "sale_amt [2 5 8]\n",
      "ord_date [2]\n",
      "customer_id []\n",
      "salesman_id [ 3  7 11]\n"
     ]
    }
   ],
   "source": [
    "for column in df.columns:\n",
    "    mask = pd.isnull(df[column])\n",
    "    print(column, df[mask].index.values)\n"
   ]
  },
  {
   "cell_type": "code",
   "execution_count": 7,
   "id": "db7edad0",
   "metadata": {},
   "outputs": [
    {
     "name": "stderr",
     "output_type": "stream",
     "text": [
      "C:\\Users\\HP\\AppData\\Local\\Temp\\ipykernel_1744\\652313308.py:1: FutureWarning: DataFrame.mean and DataFrame.median with numeric_only=None will include datetime64 and datetime64tz columns in a future version.\n",
      "  df.fillna(df.median())\n"
     ]
    },
    {
     "data": {
      "text/plain": "     ord_no  purch_amt  sale_amt   ord_date  customer_id  salesman_id\n0   70001.0     150.50     10.50 2012-10-05         3002       5002.0\n1   70004.5     250.45     20.65 2012-09-10         3001       5003.0\n2   70002.0      65.26     25.45        NaT         3001       5001.0\n3   70004.0     110.50     11.50 2012-08-17         3003       5002.0\n4   70004.5     948.50     98.50 2012-09-10         3002       5002.0\n5   70005.0     250.45     25.45 2012-07-27         3001       5001.0\n6   70004.5    5760.00     57.00 2012-09-10         3001       5001.0\n7   70010.0    1983.43     19.43 2012-10-10         3004       5002.0\n8   70003.0     250.45     25.45 2012-10-10         3003       5003.0\n9   70012.0     250.45     25.45 2012-06-27         3002       5002.0\n10  70004.5      75.29     75.29 2012-08-17         3001       5003.0\n11  70013.0    3045.60     35.60 2012-04-25         3001       5002.0",
      "text/html": "<div>\n<style scoped>\n    .dataframe tbody tr th:only-of-type {\n        vertical-align: middle;\n    }\n\n    .dataframe tbody tr th {\n        vertical-align: top;\n    }\n\n    .dataframe thead th {\n        text-align: right;\n    }\n</style>\n<table border=\"1\" class=\"dataframe\">\n  <thead>\n    <tr style=\"text-align: right;\">\n      <th></th>\n      <th>ord_no</th>\n      <th>purch_amt</th>\n      <th>sale_amt</th>\n      <th>ord_date</th>\n      <th>customer_id</th>\n      <th>salesman_id</th>\n    </tr>\n  </thead>\n  <tbody>\n    <tr>\n      <th>0</th>\n      <td>70001.0</td>\n      <td>150.50</td>\n      <td>10.50</td>\n      <td>2012-10-05</td>\n      <td>3002</td>\n      <td>5002.0</td>\n    </tr>\n    <tr>\n      <th>1</th>\n      <td>70004.5</td>\n      <td>250.45</td>\n      <td>20.65</td>\n      <td>2012-09-10</td>\n      <td>3001</td>\n      <td>5003.0</td>\n    </tr>\n    <tr>\n      <th>2</th>\n      <td>70002.0</td>\n      <td>65.26</td>\n      <td>25.45</td>\n      <td>NaT</td>\n      <td>3001</td>\n      <td>5001.0</td>\n    </tr>\n    <tr>\n      <th>3</th>\n      <td>70004.0</td>\n      <td>110.50</td>\n      <td>11.50</td>\n      <td>2012-08-17</td>\n      <td>3003</td>\n      <td>5002.0</td>\n    </tr>\n    <tr>\n      <th>4</th>\n      <td>70004.5</td>\n      <td>948.50</td>\n      <td>98.50</td>\n      <td>2012-09-10</td>\n      <td>3002</td>\n      <td>5002.0</td>\n    </tr>\n    <tr>\n      <th>5</th>\n      <td>70005.0</td>\n      <td>250.45</td>\n      <td>25.45</td>\n      <td>2012-07-27</td>\n      <td>3001</td>\n      <td>5001.0</td>\n    </tr>\n    <tr>\n      <th>6</th>\n      <td>70004.5</td>\n      <td>5760.00</td>\n      <td>57.00</td>\n      <td>2012-09-10</td>\n      <td>3001</td>\n      <td>5001.0</td>\n    </tr>\n    <tr>\n      <th>7</th>\n      <td>70010.0</td>\n      <td>1983.43</td>\n      <td>19.43</td>\n      <td>2012-10-10</td>\n      <td>3004</td>\n      <td>5002.0</td>\n    </tr>\n    <tr>\n      <th>8</th>\n      <td>70003.0</td>\n      <td>250.45</td>\n      <td>25.45</td>\n      <td>2012-10-10</td>\n      <td>3003</td>\n      <td>5003.0</td>\n    </tr>\n    <tr>\n      <th>9</th>\n      <td>70012.0</td>\n      <td>250.45</td>\n      <td>25.45</td>\n      <td>2012-06-27</td>\n      <td>3002</td>\n      <td>5002.0</td>\n    </tr>\n    <tr>\n      <th>10</th>\n      <td>70004.5</td>\n      <td>75.29</td>\n      <td>75.29</td>\n      <td>2012-08-17</td>\n      <td>3001</td>\n      <td>5003.0</td>\n    </tr>\n    <tr>\n      <th>11</th>\n      <td>70013.0</td>\n      <td>3045.60</td>\n      <td>35.60</td>\n      <td>2012-04-25</td>\n      <td>3001</td>\n      <td>5002.0</td>\n    </tr>\n  </tbody>\n</table>\n</div>"
     },
     "execution_count": 7,
     "metadata": {},
     "output_type": "execute_result"
    }
   ],
   "source": [
    "df.fillna(df.median())"
   ]
  },
  {
   "cell_type": "code",
   "execution_count": 8,
   "id": "7fce9263",
   "metadata": {
    "scrolled": true
   },
   "outputs": [
    {
     "data": {
      "text/plain": "     ord_no  purch_amt  sale_amt   ord_date  customer_id  salesman_id\n0   70001.0     150.50     10.50 2012-10-05         3002       5002.0\n1   70001.0      65.26     20.65 2012-09-10         3001       5003.0\n2   70002.0      65.26     10.50 2012-09-10         3001       5001.0\n3   70004.0     110.50     11.50 2012-08-17         3003       5001.0\n4   70001.0     948.50     98.50 2012-09-10         3002       5002.0\n5   70005.0      65.26     10.50 2012-07-27         3001       5001.0\n6   70001.0    5760.00     57.00 2012-09-10         3001       5001.0\n7   70010.0    1983.43     19.43 2012-10-10         3004       5001.0\n8   70003.0      65.26     10.50 2012-10-10         3003       5003.0\n9   70012.0     250.45     25.45 2012-06-27         3002       5002.0\n10  70001.0      75.29     75.29 2012-08-17         3001       5003.0\n11  70013.0    3045.60     35.60 2012-04-25         3001       5001.0",
      "text/html": "<div>\n<style scoped>\n    .dataframe tbody tr th:only-of-type {\n        vertical-align: middle;\n    }\n\n    .dataframe tbody tr th {\n        vertical-align: top;\n    }\n\n    .dataframe thead th {\n        text-align: right;\n    }\n</style>\n<table border=\"1\" class=\"dataframe\">\n  <thead>\n    <tr style=\"text-align: right;\">\n      <th></th>\n      <th>ord_no</th>\n      <th>purch_amt</th>\n      <th>sale_amt</th>\n      <th>ord_date</th>\n      <th>customer_id</th>\n      <th>salesman_id</th>\n    </tr>\n  </thead>\n  <tbody>\n    <tr>\n      <th>0</th>\n      <td>70001.0</td>\n      <td>150.50</td>\n      <td>10.50</td>\n      <td>2012-10-05</td>\n      <td>3002</td>\n      <td>5002.0</td>\n    </tr>\n    <tr>\n      <th>1</th>\n      <td>70001.0</td>\n      <td>65.26</td>\n      <td>20.65</td>\n      <td>2012-09-10</td>\n      <td>3001</td>\n      <td>5003.0</td>\n    </tr>\n    <tr>\n      <th>2</th>\n      <td>70002.0</td>\n      <td>65.26</td>\n      <td>10.50</td>\n      <td>2012-09-10</td>\n      <td>3001</td>\n      <td>5001.0</td>\n    </tr>\n    <tr>\n      <th>3</th>\n      <td>70004.0</td>\n      <td>110.50</td>\n      <td>11.50</td>\n      <td>2012-08-17</td>\n      <td>3003</td>\n      <td>5001.0</td>\n    </tr>\n    <tr>\n      <th>4</th>\n      <td>70001.0</td>\n      <td>948.50</td>\n      <td>98.50</td>\n      <td>2012-09-10</td>\n      <td>3002</td>\n      <td>5002.0</td>\n    </tr>\n    <tr>\n      <th>5</th>\n      <td>70005.0</td>\n      <td>65.26</td>\n      <td>10.50</td>\n      <td>2012-07-27</td>\n      <td>3001</td>\n      <td>5001.0</td>\n    </tr>\n    <tr>\n      <th>6</th>\n      <td>70001.0</td>\n      <td>5760.00</td>\n      <td>57.00</td>\n      <td>2012-09-10</td>\n      <td>3001</td>\n      <td>5001.0</td>\n    </tr>\n    <tr>\n      <th>7</th>\n      <td>70010.0</td>\n      <td>1983.43</td>\n      <td>19.43</td>\n      <td>2012-10-10</td>\n      <td>3004</td>\n      <td>5001.0</td>\n    </tr>\n    <tr>\n      <th>8</th>\n      <td>70003.0</td>\n      <td>65.26</td>\n      <td>10.50</td>\n      <td>2012-10-10</td>\n      <td>3003</td>\n      <td>5003.0</td>\n    </tr>\n    <tr>\n      <th>9</th>\n      <td>70012.0</td>\n      <td>250.45</td>\n      <td>25.45</td>\n      <td>2012-06-27</td>\n      <td>3002</td>\n      <td>5002.0</td>\n    </tr>\n    <tr>\n      <th>10</th>\n      <td>70001.0</td>\n      <td>75.29</td>\n      <td>75.29</td>\n      <td>2012-08-17</td>\n      <td>3001</td>\n      <td>5003.0</td>\n    </tr>\n    <tr>\n      <th>11</th>\n      <td>70013.0</td>\n      <td>3045.60</td>\n      <td>35.60</td>\n      <td>2012-04-25</td>\n      <td>3001</td>\n      <td>5001.0</td>\n    </tr>\n  </tbody>\n</table>\n</div>"
     },
     "execution_count": 8,
     "metadata": {},
     "output_type": "execute_result"
    }
   ],
   "source": [
    "df.fillna(df.mode().iloc[0])"
   ]
  },
  {
   "cell_type": "code",
   "execution_count": 9,
   "id": "82f74e05",
   "metadata": {},
   "outputs": [
    {
     "data": {
      "text/plain": "     ord_no  purch_amt  sale_amt             ord_date  customer_id  \\\n0   70001.0     150.50    10.500  2012-10-05 00:00:00         3002   \n1   70001.5     107.88    20.650  2012-09-10 00:00:00         3001   \n2   70002.0      65.26    16.075                  NaN         3001   \n3   70004.0     110.50    11.500  2012-08-17 00:00:00         3003   \n4   70004.5     948.50    98.500  2012-09-10 00:00:00         3002   \n5   70005.0    3354.25    77.750  2012-07-27 00:00:00         3001   \n6   70007.5    5760.00    57.000  2012-09-10 00:00:00         3001   \n7   70010.0    1983.43    19.430  2012-10-10 00:00:00         3004   \n8   70003.0    1116.94    22.440  2012-10-10 00:00:00         3003   \n9   70012.0     250.45    25.450  2012-06-27 00:00:00         3002   \n10  70012.5      75.29    75.290  2012-08-17 00:00:00         3001   \n11  70013.0    3045.60    35.600  2012-04-25 00:00:00         3001   \n\n    salesman_id  \n0        5002.0  \n1        5003.0  \n2        5001.0  \n3        5001.5  \n4        5002.0  \n5        5001.0  \n6        5001.0  \n7        5002.0  \n8        5003.0  \n9        5002.0  \n10       5003.0  \n11       5003.0  ",
      "text/html": "<div>\n<style scoped>\n    .dataframe tbody tr th:only-of-type {\n        vertical-align: middle;\n    }\n\n    .dataframe tbody tr th {\n        vertical-align: top;\n    }\n\n    .dataframe thead th {\n        text-align: right;\n    }\n</style>\n<table border=\"1\" class=\"dataframe\">\n  <thead>\n    <tr style=\"text-align: right;\">\n      <th></th>\n      <th>ord_no</th>\n      <th>purch_amt</th>\n      <th>sale_amt</th>\n      <th>ord_date</th>\n      <th>customer_id</th>\n      <th>salesman_id</th>\n    </tr>\n  </thead>\n  <tbody>\n    <tr>\n      <th>0</th>\n      <td>70001.0</td>\n      <td>150.50</td>\n      <td>10.500</td>\n      <td>2012-10-05 00:00:00</td>\n      <td>3002</td>\n      <td>5002.0</td>\n    </tr>\n    <tr>\n      <th>1</th>\n      <td>70001.5</td>\n      <td>107.88</td>\n      <td>20.650</td>\n      <td>2012-09-10 00:00:00</td>\n      <td>3001</td>\n      <td>5003.0</td>\n    </tr>\n    <tr>\n      <th>2</th>\n      <td>70002.0</td>\n      <td>65.26</td>\n      <td>16.075</td>\n      <td>NaN</td>\n      <td>3001</td>\n      <td>5001.0</td>\n    </tr>\n    <tr>\n      <th>3</th>\n      <td>70004.0</td>\n      <td>110.50</td>\n      <td>11.500</td>\n      <td>2012-08-17 00:00:00</td>\n      <td>3003</td>\n      <td>5001.5</td>\n    </tr>\n    <tr>\n      <th>4</th>\n      <td>70004.5</td>\n      <td>948.50</td>\n      <td>98.500</td>\n      <td>2012-09-10 00:00:00</td>\n      <td>3002</td>\n      <td>5002.0</td>\n    </tr>\n    <tr>\n      <th>5</th>\n      <td>70005.0</td>\n      <td>3354.25</td>\n      <td>77.750</td>\n      <td>2012-07-27 00:00:00</td>\n      <td>3001</td>\n      <td>5001.0</td>\n    </tr>\n    <tr>\n      <th>6</th>\n      <td>70007.5</td>\n      <td>5760.00</td>\n      <td>57.000</td>\n      <td>2012-09-10 00:00:00</td>\n      <td>3001</td>\n      <td>5001.0</td>\n    </tr>\n    <tr>\n      <th>7</th>\n      <td>70010.0</td>\n      <td>1983.43</td>\n      <td>19.430</td>\n      <td>2012-10-10 00:00:00</td>\n      <td>3004</td>\n      <td>5002.0</td>\n    </tr>\n    <tr>\n      <th>8</th>\n      <td>70003.0</td>\n      <td>1116.94</td>\n      <td>22.440</td>\n      <td>2012-10-10 00:00:00</td>\n      <td>3003</td>\n      <td>5003.0</td>\n    </tr>\n    <tr>\n      <th>9</th>\n      <td>70012.0</td>\n      <td>250.45</td>\n      <td>25.450</td>\n      <td>2012-06-27 00:00:00</td>\n      <td>3002</td>\n      <td>5002.0</td>\n    </tr>\n    <tr>\n      <th>10</th>\n      <td>70012.5</td>\n      <td>75.29</td>\n      <td>75.290</td>\n      <td>2012-08-17 00:00:00</td>\n      <td>3001</td>\n      <td>5003.0</td>\n    </tr>\n    <tr>\n      <th>11</th>\n      <td>70013.0</td>\n      <td>3045.60</td>\n      <td>35.600</td>\n      <td>2012-04-25 00:00:00</td>\n      <td>3001</td>\n      <td>5003.0</td>\n    </tr>\n  </tbody>\n</table>\n</div>"
     },
     "execution_count": 9,
     "metadata": {},
     "output_type": "execute_result"
    }
   ],
   "source": [
    "df.fillna(df[[\"ord_no\",\"purch_amt\", \"sale_amt\", \"customer_id\", \"salesman_id\"]].interpolate())"
   ]
  },
  {
   "cell_type": "code",
   "execution_count": 10,
   "id": "3ad23af6",
   "metadata": {},
   "outputs": [
    {
     "data": {
      "text/plain": "    ord_no  purch_amt  sale_amt   ord_date  customer_id  salesman_id\n1      NaN        NaN     20.65 2012-09-10         3001       5003.0\n4      NaN     948.50     98.50 2012-09-10         3002       5002.0\n6      NaN    5760.00     57.00 2012-09-10         3001       5001.0\n10     NaN      75.29     75.29 2012-08-17         3001       5003.0",
      "text/html": "<div>\n<style scoped>\n    .dataframe tbody tr th:only-of-type {\n        vertical-align: middle;\n    }\n\n    .dataframe tbody tr th {\n        vertical-align: top;\n    }\n\n    .dataframe thead th {\n        text-align: right;\n    }\n</style>\n<table border=\"1\" class=\"dataframe\">\n  <thead>\n    <tr style=\"text-align: right;\">\n      <th></th>\n      <th>ord_no</th>\n      <th>purch_amt</th>\n      <th>sale_amt</th>\n      <th>ord_date</th>\n      <th>customer_id</th>\n      <th>salesman_id</th>\n    </tr>\n  </thead>\n  <tbody>\n    <tr>\n      <th>1</th>\n      <td>NaN</td>\n      <td>NaN</td>\n      <td>20.65</td>\n      <td>2012-09-10</td>\n      <td>3001</td>\n      <td>5003.0</td>\n    </tr>\n    <tr>\n      <th>4</th>\n      <td>NaN</td>\n      <td>948.50</td>\n      <td>98.50</td>\n      <td>2012-09-10</td>\n      <td>3002</td>\n      <td>5002.0</td>\n    </tr>\n    <tr>\n      <th>6</th>\n      <td>NaN</td>\n      <td>5760.00</td>\n      <td>57.00</td>\n      <td>2012-09-10</td>\n      <td>3001</td>\n      <td>5001.0</td>\n    </tr>\n    <tr>\n      <th>10</th>\n      <td>NaN</td>\n      <td>75.29</td>\n      <td>75.29</td>\n      <td>2012-08-17</td>\n      <td>3001</td>\n      <td>5003.0</td>\n    </tr>\n  </tbody>\n</table>\n</div>"
     },
     "execution_count": 10,
     "metadata": {},
     "output_type": "execute_result"
    }
   ],
   "source": [
    "pd.isnull(df[\"ord_no\"])\n",
    "mask = pd.isnull(df[\"ord_no\"])\n",
    "df[mask]"
   ]
  },
  {
   "cell_type": "code",
   "execution_count": 11,
   "id": "9cc58ea7",
   "metadata": {},
   "outputs": [
    {
     "name": "stderr",
     "output_type": "stream",
     "text": [
      "C:\\Users\\HP\\AppData\\Local\\Temp\\ipykernel_1744\\4268039953.py:2: SettingWithCopyWarning: \n",
      "A value is trying to be set on a copy of a slice from a DataFrame.\n",
      "Try using .loc[row_indexer,col_indexer] = value instead\n",
      "\n",
      "See the caveats in the documentation: https://pandas.pydata.org/pandas-docs/stable/user_guide/indexing.html#returning-a-view-versus-a-copy\n",
      "  df[mask][\"ord_no\"] = df[\"ord_no\"].mean()\n"
     ]
    },
    {
     "data": {
      "text/plain": "      ord_no  purch_amt  sale_amt   ord_date  customer_id  salesman_id\n0   70001.00     150.50     10.50 2012-10-05         3002       5002.0\n1   70006.25        NaN     20.65 2012-09-10         3001       5003.0\n2   70002.00      65.26       NaN        NaT         3001       5001.0\n3   70004.00     110.50     11.50 2012-08-17         3003          NaN\n4   70006.25     948.50     98.50 2012-09-10         3002       5002.0\n5   70005.00        NaN       NaN 2012-07-27         3001       5001.0\n6   70006.25    5760.00     57.00 2012-09-10         3001       5001.0\n7   70010.00    1983.43     19.43 2012-10-10         3004          NaN\n8   70003.00        NaN       NaN 2012-10-10         3003       5003.0\n9   70012.00     250.45     25.45 2012-06-27         3002       5002.0\n10  70006.25      75.29     75.29 2012-08-17         3001       5003.0\n11  70013.00    3045.60     35.60 2012-04-25         3001          NaN",
      "text/html": "<div>\n<style scoped>\n    .dataframe tbody tr th:only-of-type {\n        vertical-align: middle;\n    }\n\n    .dataframe tbody tr th {\n        vertical-align: top;\n    }\n\n    .dataframe thead th {\n        text-align: right;\n    }\n</style>\n<table border=\"1\" class=\"dataframe\">\n  <thead>\n    <tr style=\"text-align: right;\">\n      <th></th>\n      <th>ord_no</th>\n      <th>purch_amt</th>\n      <th>sale_amt</th>\n      <th>ord_date</th>\n      <th>customer_id</th>\n      <th>salesman_id</th>\n    </tr>\n  </thead>\n  <tbody>\n    <tr>\n      <th>0</th>\n      <td>70001.00</td>\n      <td>150.50</td>\n      <td>10.50</td>\n      <td>2012-10-05</td>\n      <td>3002</td>\n      <td>5002.0</td>\n    </tr>\n    <tr>\n      <th>1</th>\n      <td>70006.25</td>\n      <td>NaN</td>\n      <td>20.65</td>\n      <td>2012-09-10</td>\n      <td>3001</td>\n      <td>5003.0</td>\n    </tr>\n    <tr>\n      <th>2</th>\n      <td>70002.00</td>\n      <td>65.26</td>\n      <td>NaN</td>\n      <td>NaT</td>\n      <td>3001</td>\n      <td>5001.0</td>\n    </tr>\n    <tr>\n      <th>3</th>\n      <td>70004.00</td>\n      <td>110.50</td>\n      <td>11.50</td>\n      <td>2012-08-17</td>\n      <td>3003</td>\n      <td>NaN</td>\n    </tr>\n    <tr>\n      <th>4</th>\n      <td>70006.25</td>\n      <td>948.50</td>\n      <td>98.50</td>\n      <td>2012-09-10</td>\n      <td>3002</td>\n      <td>5002.0</td>\n    </tr>\n    <tr>\n      <th>5</th>\n      <td>70005.00</td>\n      <td>NaN</td>\n      <td>NaN</td>\n      <td>2012-07-27</td>\n      <td>3001</td>\n      <td>5001.0</td>\n    </tr>\n    <tr>\n      <th>6</th>\n      <td>70006.25</td>\n      <td>5760.00</td>\n      <td>57.00</td>\n      <td>2012-09-10</td>\n      <td>3001</td>\n      <td>5001.0</td>\n    </tr>\n    <tr>\n      <th>7</th>\n      <td>70010.00</td>\n      <td>1983.43</td>\n      <td>19.43</td>\n      <td>2012-10-10</td>\n      <td>3004</td>\n      <td>NaN</td>\n    </tr>\n    <tr>\n      <th>8</th>\n      <td>70003.00</td>\n      <td>NaN</td>\n      <td>NaN</td>\n      <td>2012-10-10</td>\n      <td>3003</td>\n      <td>5003.0</td>\n    </tr>\n    <tr>\n      <th>9</th>\n      <td>70012.00</td>\n      <td>250.45</td>\n      <td>25.45</td>\n      <td>2012-06-27</td>\n      <td>3002</td>\n      <td>5002.0</td>\n    </tr>\n    <tr>\n      <th>10</th>\n      <td>70006.25</td>\n      <td>75.29</td>\n      <td>75.29</td>\n      <td>2012-08-17</td>\n      <td>3001</td>\n      <td>5003.0</td>\n    </tr>\n    <tr>\n      <th>11</th>\n      <td>70013.00</td>\n      <td>3045.60</td>\n      <td>35.60</td>\n      <td>2012-04-25</td>\n      <td>3001</td>\n      <td>NaN</td>\n    </tr>\n  </tbody>\n</table>\n</div>"
     },
     "execution_count": 11,
     "metadata": {},
     "output_type": "execute_result"
    }
   ],
   "source": [
    "mask = pd.isnull(df[\"ord_no\"])\n",
    "df[mask][\"ord_no\"] = df[\"ord_no\"].mean()\n",
    "df[\"ord_no\"].fillna(df[\"ord_no\"].mean(), inplace=True)\n",
    "\n",
    "df"
   ]
  },
  {
   "cell_type": "markdown",
   "id": "ae8f5b22",
   "metadata": {},
   "source": [
    "## Упражнение 2\n",
    "\n",
    "\n",
    "DataFrame дан ниже\n",
    "\n",
    "\n",
    "1. Найдите все алмазы которые по любому линейному размеру больше 5.\n",
    "\n",
    "2. Создайте новый DataFrame в которому исключены все не чсиловые столбы исходного DataFrame. \n",
    "\n",
    "3. Расчитатйте средние значения для каждого столбца\n",
    "\n",
    "4. Пострйоет график средних цен для каждой категории (cut) алмазов.\n",
    "\n",
    "5. Постройте гистрограмму  веса ('carat') алмазов.\n",
    "\n",
    "6. Посчитаете все пропущенные занчения в Dataframe\n",
    "\n",
    "7. Создайте новый DataFrame в которому исключены все строки с пропущенными занчениями\n",
    "\n",
    "8. Узнайте реальное использование оперативной памяти вашим DataFrame\n",
    "\n",
    "9. Напишите функцию возращающую 20 случайныз строчек из DataFrame (без повторений)"
   ]
  },
  {
   "cell_type": "code",
   "execution_count": 12,
   "id": "8e7be875",
   "metadata": {},
   "outputs": [
    {
     "data": {
      "text/plain": "       carat        cut color clarity  depth  table  price     x     y     z\n0       0.23      Ideal     E     SI2   61.5   55.0    326  3.95  3.98  2.43\n1       0.21    Premium     E     SI1   59.8   61.0    326  3.89  3.84  2.31\n2       0.23       Good     E     VS1   56.9   65.0    327  4.05  4.07  2.31\n3       0.29    Premium     I     VS2   62.4   58.0    334  4.20  4.23  2.63\n4       0.31       Good     J     SI2   63.3   58.0    335  4.34  4.35  2.75\n...      ...        ...   ...     ...    ...    ...    ...   ...   ...   ...\n53935   0.72      Ideal     D     SI1   60.8   57.0   2757  5.75  5.76  3.50\n53936   0.72       Good     D     SI1   63.1   55.0   2757  5.69  5.75  3.61\n53937   0.70  Very Good     D     SI1   62.8   60.0   2757  5.66  5.68  3.56\n53938   0.86    Premium     H     SI2   61.0   58.0   2757  6.15  6.12  3.74\n53939   0.75      Ideal     D     SI2   62.2   55.0   2757  5.83  5.87  3.64\n\n[53940 rows x 10 columns]",
      "text/html": "<div>\n<style scoped>\n    .dataframe tbody tr th:only-of-type {\n        vertical-align: middle;\n    }\n\n    .dataframe tbody tr th {\n        vertical-align: top;\n    }\n\n    .dataframe thead th {\n        text-align: right;\n    }\n</style>\n<table border=\"1\" class=\"dataframe\">\n  <thead>\n    <tr style=\"text-align: right;\">\n      <th></th>\n      <th>carat</th>\n      <th>cut</th>\n      <th>color</th>\n      <th>clarity</th>\n      <th>depth</th>\n      <th>table</th>\n      <th>price</th>\n      <th>x</th>\n      <th>y</th>\n      <th>z</th>\n    </tr>\n  </thead>\n  <tbody>\n    <tr>\n      <th>0</th>\n      <td>0.23</td>\n      <td>Ideal</td>\n      <td>E</td>\n      <td>SI2</td>\n      <td>61.5</td>\n      <td>55.0</td>\n      <td>326</td>\n      <td>3.95</td>\n      <td>3.98</td>\n      <td>2.43</td>\n    </tr>\n    <tr>\n      <th>1</th>\n      <td>0.21</td>\n      <td>Premium</td>\n      <td>E</td>\n      <td>SI1</td>\n      <td>59.8</td>\n      <td>61.0</td>\n      <td>326</td>\n      <td>3.89</td>\n      <td>3.84</td>\n      <td>2.31</td>\n    </tr>\n    <tr>\n      <th>2</th>\n      <td>0.23</td>\n      <td>Good</td>\n      <td>E</td>\n      <td>VS1</td>\n      <td>56.9</td>\n      <td>65.0</td>\n      <td>327</td>\n      <td>4.05</td>\n      <td>4.07</td>\n      <td>2.31</td>\n    </tr>\n    <tr>\n      <th>3</th>\n      <td>0.29</td>\n      <td>Premium</td>\n      <td>I</td>\n      <td>VS2</td>\n      <td>62.4</td>\n      <td>58.0</td>\n      <td>334</td>\n      <td>4.20</td>\n      <td>4.23</td>\n      <td>2.63</td>\n    </tr>\n    <tr>\n      <th>4</th>\n      <td>0.31</td>\n      <td>Good</td>\n      <td>J</td>\n      <td>SI2</td>\n      <td>63.3</td>\n      <td>58.0</td>\n      <td>335</td>\n      <td>4.34</td>\n      <td>4.35</td>\n      <td>2.75</td>\n    </tr>\n    <tr>\n      <th>...</th>\n      <td>...</td>\n      <td>...</td>\n      <td>...</td>\n      <td>...</td>\n      <td>...</td>\n      <td>...</td>\n      <td>...</td>\n      <td>...</td>\n      <td>...</td>\n      <td>...</td>\n    </tr>\n    <tr>\n      <th>53935</th>\n      <td>0.72</td>\n      <td>Ideal</td>\n      <td>D</td>\n      <td>SI1</td>\n      <td>60.8</td>\n      <td>57.0</td>\n      <td>2757</td>\n      <td>5.75</td>\n      <td>5.76</td>\n      <td>3.50</td>\n    </tr>\n    <tr>\n      <th>53936</th>\n      <td>0.72</td>\n      <td>Good</td>\n      <td>D</td>\n      <td>SI1</td>\n      <td>63.1</td>\n      <td>55.0</td>\n      <td>2757</td>\n      <td>5.69</td>\n      <td>5.75</td>\n      <td>3.61</td>\n    </tr>\n    <tr>\n      <th>53937</th>\n      <td>0.70</td>\n      <td>Very Good</td>\n      <td>D</td>\n      <td>SI1</td>\n      <td>62.8</td>\n      <td>60.0</td>\n      <td>2757</td>\n      <td>5.66</td>\n      <td>5.68</td>\n      <td>3.56</td>\n    </tr>\n    <tr>\n      <th>53938</th>\n      <td>0.86</td>\n      <td>Premium</td>\n      <td>H</td>\n      <td>SI2</td>\n      <td>61.0</td>\n      <td>58.0</td>\n      <td>2757</td>\n      <td>6.15</td>\n      <td>6.12</td>\n      <td>3.74</td>\n    </tr>\n    <tr>\n      <th>53939</th>\n      <td>0.75</td>\n      <td>Ideal</td>\n      <td>D</td>\n      <td>SI2</td>\n      <td>62.2</td>\n      <td>55.0</td>\n      <td>2757</td>\n      <td>5.83</td>\n      <td>5.87</td>\n      <td>3.64</td>\n    </tr>\n  </tbody>\n</table>\n<p>53940 rows × 10 columns</p>\n</div>"
     },
     "execution_count": 12,
     "metadata": {},
     "output_type": "execute_result"
    }
   ],
   "source": [
    "import pandas as pd\n",
    "diamonds = pd.read_csv('https://raw.githubusercontent.com/mwaskom/seaborn-data/master/diamonds.csv')\n",
    "\n",
    "diamonds"
   ]
  },
  {
   "cell_type": "code",
   "execution_count": 16,
   "outputs": [
    {
     "data": {
      "text/plain": "       carat        cut color clarity  depth  table  price     x     y     z\n90      0.70      Ideal     E     SI1   62.5   57.0   2757  5.70  5.72  3.57\n91      0.86       Fair     E     SI2   55.1   69.0   2757  6.45  6.33  3.52\n92      0.70      Ideal     G     VS2   61.6   56.0   2757  5.70  5.67  3.50\n93      0.71  Very Good     E     VS2   62.4   57.0   2759  5.68  5.73  3.56\n94      0.78  Very Good     G     SI2   63.8   56.0   2759  5.81  5.85  3.72\n...      ...        ...   ...     ...    ...    ...    ...   ...   ...   ...\n53935   0.72      Ideal     D     SI1   60.8   57.0   2757  5.75  5.76  3.50\n53936   0.72       Good     D     SI1   63.1   55.0   2757  5.69  5.75  3.61\n53937   0.70  Very Good     D     SI1   62.8   60.0   2757  5.66  5.68  3.56\n53938   0.86    Premium     H     SI2   61.0   58.0   2757  6.15  6.12  3.74\n53939   0.75      Ideal     D     SI2   62.2   55.0   2757  5.83  5.87  3.64\n\n[36444 rows x 10 columns]",
      "text/html": "<div>\n<style scoped>\n    .dataframe tbody tr th:only-of-type {\n        vertical-align: middle;\n    }\n\n    .dataframe tbody tr th {\n        vertical-align: top;\n    }\n\n    .dataframe thead th {\n        text-align: right;\n    }\n</style>\n<table border=\"1\" class=\"dataframe\">\n  <thead>\n    <tr style=\"text-align: right;\">\n      <th></th>\n      <th>carat</th>\n      <th>cut</th>\n      <th>color</th>\n      <th>clarity</th>\n      <th>depth</th>\n      <th>table</th>\n      <th>price</th>\n      <th>x</th>\n      <th>y</th>\n      <th>z</th>\n    </tr>\n  </thead>\n  <tbody>\n    <tr>\n      <th>90</th>\n      <td>0.70</td>\n      <td>Ideal</td>\n      <td>E</td>\n      <td>SI1</td>\n      <td>62.5</td>\n      <td>57.0</td>\n      <td>2757</td>\n      <td>5.70</td>\n      <td>5.72</td>\n      <td>3.57</td>\n    </tr>\n    <tr>\n      <th>91</th>\n      <td>0.86</td>\n      <td>Fair</td>\n      <td>E</td>\n      <td>SI2</td>\n      <td>55.1</td>\n      <td>69.0</td>\n      <td>2757</td>\n      <td>6.45</td>\n      <td>6.33</td>\n      <td>3.52</td>\n    </tr>\n    <tr>\n      <th>92</th>\n      <td>0.70</td>\n      <td>Ideal</td>\n      <td>G</td>\n      <td>VS2</td>\n      <td>61.6</td>\n      <td>56.0</td>\n      <td>2757</td>\n      <td>5.70</td>\n      <td>5.67</td>\n      <td>3.50</td>\n    </tr>\n    <tr>\n      <th>93</th>\n      <td>0.71</td>\n      <td>Very Good</td>\n      <td>E</td>\n      <td>VS2</td>\n      <td>62.4</td>\n      <td>57.0</td>\n      <td>2759</td>\n      <td>5.68</td>\n      <td>5.73</td>\n      <td>3.56</td>\n    </tr>\n    <tr>\n      <th>94</th>\n      <td>0.78</td>\n      <td>Very Good</td>\n      <td>G</td>\n      <td>SI2</td>\n      <td>63.8</td>\n      <td>56.0</td>\n      <td>2759</td>\n      <td>5.81</td>\n      <td>5.85</td>\n      <td>3.72</td>\n    </tr>\n    <tr>\n      <th>...</th>\n      <td>...</td>\n      <td>...</td>\n      <td>...</td>\n      <td>...</td>\n      <td>...</td>\n      <td>...</td>\n      <td>...</td>\n      <td>...</td>\n      <td>...</td>\n      <td>...</td>\n    </tr>\n    <tr>\n      <th>53935</th>\n      <td>0.72</td>\n      <td>Ideal</td>\n      <td>D</td>\n      <td>SI1</td>\n      <td>60.8</td>\n      <td>57.0</td>\n      <td>2757</td>\n      <td>5.75</td>\n      <td>5.76</td>\n      <td>3.50</td>\n    </tr>\n    <tr>\n      <th>53936</th>\n      <td>0.72</td>\n      <td>Good</td>\n      <td>D</td>\n      <td>SI1</td>\n      <td>63.1</td>\n      <td>55.0</td>\n      <td>2757</td>\n      <td>5.69</td>\n      <td>5.75</td>\n      <td>3.61</td>\n    </tr>\n    <tr>\n      <th>53937</th>\n      <td>0.70</td>\n      <td>Very Good</td>\n      <td>D</td>\n      <td>SI1</td>\n      <td>62.8</td>\n      <td>60.0</td>\n      <td>2757</td>\n      <td>5.66</td>\n      <td>5.68</td>\n      <td>3.56</td>\n    </tr>\n    <tr>\n      <th>53938</th>\n      <td>0.86</td>\n      <td>Premium</td>\n      <td>H</td>\n      <td>SI2</td>\n      <td>61.0</td>\n      <td>58.0</td>\n      <td>2757</td>\n      <td>6.15</td>\n      <td>6.12</td>\n      <td>3.74</td>\n    </tr>\n    <tr>\n      <th>53939</th>\n      <td>0.75</td>\n      <td>Ideal</td>\n      <td>D</td>\n      <td>SI2</td>\n      <td>62.2</td>\n      <td>55.0</td>\n      <td>2757</td>\n      <td>5.83</td>\n      <td>5.87</td>\n      <td>3.64</td>\n    </tr>\n  </tbody>\n</table>\n<p>36444 rows × 10 columns</p>\n</div>"
     },
     "execution_count": 16,
     "metadata": {},
     "output_type": "execute_result"
    }
   ],
   "source": [
    "razmer = ((diamonds[\"x\"]>5)|(diamonds[\"y\"]>5)|(diamonds[\"z\"]>5))\n",
    "diamonds[razmer]\n",
    "#1"
   ],
   "metadata": {
    "collapsed": false
   }
  },
  {
   "cell_type": "code",
   "execution_count": 18,
   "outputs": [
    {
     "data": {
      "text/plain": "       carat  depth  table  price     x     y     z\n0       0.23   61.5   55.0    326  3.95  3.98  2.43\n1       0.21   59.8   61.0    326  3.89  3.84  2.31\n2       0.23   56.9   65.0    327  4.05  4.07  2.31\n3       0.29   62.4   58.0    334  4.20  4.23  2.63\n4       0.31   63.3   58.0    335  4.34  4.35  2.75\n...      ...    ...    ...    ...   ...   ...   ...\n53935   0.72   60.8   57.0   2757  5.75  5.76  3.50\n53936   0.72   63.1   55.0   2757  5.69  5.75  3.61\n53937   0.70   62.8   60.0   2757  5.66  5.68  3.56\n53938   0.86   61.0   58.0   2757  6.15  6.12  3.74\n53939   0.75   62.2   55.0   2757  5.83  5.87  3.64\n\n[53940 rows x 7 columns]",
      "text/html": "<div>\n<style scoped>\n    .dataframe tbody tr th:only-of-type {\n        vertical-align: middle;\n    }\n\n    .dataframe tbody tr th {\n        vertical-align: top;\n    }\n\n    .dataframe thead th {\n        text-align: right;\n    }\n</style>\n<table border=\"1\" class=\"dataframe\">\n  <thead>\n    <tr style=\"text-align: right;\">\n      <th></th>\n      <th>carat</th>\n      <th>depth</th>\n      <th>table</th>\n      <th>price</th>\n      <th>x</th>\n      <th>y</th>\n      <th>z</th>\n    </tr>\n  </thead>\n  <tbody>\n    <tr>\n      <th>0</th>\n      <td>0.23</td>\n      <td>61.5</td>\n      <td>55.0</td>\n      <td>326</td>\n      <td>3.95</td>\n      <td>3.98</td>\n      <td>2.43</td>\n    </tr>\n    <tr>\n      <th>1</th>\n      <td>0.21</td>\n      <td>59.8</td>\n      <td>61.0</td>\n      <td>326</td>\n      <td>3.89</td>\n      <td>3.84</td>\n      <td>2.31</td>\n    </tr>\n    <tr>\n      <th>2</th>\n      <td>0.23</td>\n      <td>56.9</td>\n      <td>65.0</td>\n      <td>327</td>\n      <td>4.05</td>\n      <td>4.07</td>\n      <td>2.31</td>\n    </tr>\n    <tr>\n      <th>3</th>\n      <td>0.29</td>\n      <td>62.4</td>\n      <td>58.0</td>\n      <td>334</td>\n      <td>4.20</td>\n      <td>4.23</td>\n      <td>2.63</td>\n    </tr>\n    <tr>\n      <th>4</th>\n      <td>0.31</td>\n      <td>63.3</td>\n      <td>58.0</td>\n      <td>335</td>\n      <td>4.34</td>\n      <td>4.35</td>\n      <td>2.75</td>\n    </tr>\n    <tr>\n      <th>...</th>\n      <td>...</td>\n      <td>...</td>\n      <td>...</td>\n      <td>...</td>\n      <td>...</td>\n      <td>...</td>\n      <td>...</td>\n    </tr>\n    <tr>\n      <th>53935</th>\n      <td>0.72</td>\n      <td>60.8</td>\n      <td>57.0</td>\n      <td>2757</td>\n      <td>5.75</td>\n      <td>5.76</td>\n      <td>3.50</td>\n    </tr>\n    <tr>\n      <th>53936</th>\n      <td>0.72</td>\n      <td>63.1</td>\n      <td>55.0</td>\n      <td>2757</td>\n      <td>5.69</td>\n      <td>5.75</td>\n      <td>3.61</td>\n    </tr>\n    <tr>\n      <th>53937</th>\n      <td>0.70</td>\n      <td>62.8</td>\n      <td>60.0</td>\n      <td>2757</td>\n      <td>5.66</td>\n      <td>5.68</td>\n      <td>3.56</td>\n    </tr>\n    <tr>\n      <th>53938</th>\n      <td>0.86</td>\n      <td>61.0</td>\n      <td>58.0</td>\n      <td>2757</td>\n      <td>6.15</td>\n      <td>6.12</td>\n      <td>3.74</td>\n    </tr>\n    <tr>\n      <th>53939</th>\n      <td>0.75</td>\n      <td>62.2</td>\n      <td>55.0</td>\n      <td>2757</td>\n      <td>5.83</td>\n      <td>5.87</td>\n      <td>3.64</td>\n    </tr>\n  </tbody>\n</table>\n<p>53940 rows × 7 columns</p>\n</div>"
     },
     "execution_count": 18,
     "metadata": {},
     "output_type": "execute_result"
    }
   ],
   "source": [
    "chisl = diamonds.select_dtypes(include=['int64','float64'])\n",
    "chisl\n",
    "#2"
   ],
   "metadata": {
    "collapsed": false
   }
  },
  {
   "cell_type": "code",
   "execution_count": 19,
   "outputs": [
    {
     "data": {
      "text/plain": "carat       0.797940\ndepth      61.749405\ntable      57.457184\nprice    3932.799722\nx           5.731157\ny           5.734526\nz           3.538734\ndtype: float64"
     },
     "execution_count": 19,
     "metadata": {},
     "output_type": "execute_result"
    }
   ],
   "source": [
    "#3\n",
    "chisl.mean()"
   ],
   "metadata": {
    "collapsed": false
   }
  },
  {
   "cell_type": "code",
   "execution_count": 14,
   "id": "58f254c6",
   "metadata": {},
   "outputs": [
    {
     "data": {
      "text/plain": "<AxesSubplot: xlabel='cut'>"
     },
     "execution_count": 14,
     "metadata": {},
     "output_type": "execute_result"
    },
    {
     "data": {
      "text/plain": "<Figure size 640x480 with 1 Axes>",
      "image/png": "[encoded data removed]"
     },
     "metadata": {},
     "output_type": "display_data"
    }
   ],
   "source": [
    "#4\n",
    "result = diamonds.groupby([\"cut\"]).agg({\"price\":\"mean\"})\n",
    "result.plot(kind = \"bar\")"
   ]
  },
  {
   "cell_type": "code",
   "execution_count": 34,
   "outputs": [
    {
     "data": {
      "text/plain": "<Figure size 640x480 with 1 Axes>",
      "image/png": "[encoded data removed]"
     },
     "metadata": {},
     "output_type": "display_data"
    }
   ],
   "source": [
    "#5\n",
    "plt.hist(diamonds['carat'], bins = 100)\n",
    "plt.show()"
   ],
   "metadata": {
    "collapsed": false
   }
  },
  {
   "cell_type": "code",
   "execution_count": 35,
   "outputs": [
    {
     "data": {
      "text/plain": "carat      0\ncut        0\ncolor      0\nclarity    0\ndepth      0\ntable      0\nprice      0\nx          0\ny          0\nz          0\ndtype: int64"
     },
     "execution_count": 35,
     "metadata": {},
     "output_type": "execute_result"
    }
   ],
   "source": [
    "#6\n",
    "pd.isna(diamonds).sum()"
   ],
   "metadata": {
    "collapsed": false
   }
  },
  {
   "cell_type": "code",
   "execution_count": 37,
   "outputs": [
    {
     "data": {
      "text/plain": "       carat        cut color clarity  depth  table  price     x     y     z\n0       0.23      Ideal     E     SI2   61.5   55.0    326  3.95  3.98  2.43\n1       0.21    Premium     E     SI1   59.8   61.0    326  3.89  3.84  2.31\n2       0.23       Good     E     VS1   56.9   65.0    327  4.05  4.07  2.31\n3       0.29    Premium     I     VS2   62.4   58.0    334  4.20  4.23  2.63\n4       0.31       Good     J     SI2   63.3   58.0    335  4.34  4.35  2.75\n...      ...        ...   ...     ...    ...    ...    ...   ...   ...   ...\n53935   0.72      Ideal     D     SI1   60.8   57.0   2757  5.75  5.76  3.50\n53936   0.72       Good     D     SI1   63.1   55.0   2757  5.69  5.75  3.61\n53937   0.70  Very Good     D     SI1   62.8   60.0   2757  5.66  5.68  3.56\n53938   0.86    Premium     H     SI2   61.0   58.0   2757  6.15  6.12  3.74\n53939   0.75      Ideal     D     SI2   62.2   55.0   2757  5.83  5.87  3.64\n\n[53940 rows x 10 columns]",
      "text/html": "<div>\n<style scoped>\n    .dataframe tbody tr th:only-of-type {\n        vertical-align: middle;\n    }\n\n    .dataframe tbody tr th {\n        vertical-align: top;\n    }\n\n    .dataframe thead th {\n        text-align: right;\n    }\n</style>\n<table border=\"1\" class=\"dataframe\">\n  <thead>\n    <tr style=\"text-align: right;\">\n      <th></th>\n      <th>carat</th>\n      <th>cut</th>\n      <th>color</th>\n      <th>clarity</th>\n      <th>depth</th>\n      <th>table</th>\n      <th>price</th>\n      <th>x</th>\n      <th>y</th>\n      <th>z</th>\n    </tr>\n  </thead>\n  <tbody>\n    <tr>\n      <th>0</th>\n      <td>0.23</td>\n      <td>Ideal</td>\n      <td>E</td>\n      <td>SI2</td>\n      <td>61.5</td>\n      <td>55.0</td>\n      <td>326</td>\n      <td>3.95</td>\n      <td>3.98</td>\n      <td>2.43</td>\n    </tr>\n    <tr>\n      <th>1</th>\n      <td>0.21</td>\n      <td>Premium</td>\n      <td>E</td>\n      <td>SI1</td>\n      <td>59.8</td>\n      <td>61.0</td>\n      <td>326</td>\n      <td>3.89</td>\n      <td>3.84</td>\n      <td>2.31</td>\n    </tr>\n    <tr>\n      <th>2</th>\n      <td>0.23</td>\n      <td>Good</td>\n      <td>E</td>\n      <td>VS1</td>\n      <td>56.9</td>\n      <td>65.0</td>\n      <td>327</td>\n      <td>4.05</td>\n      <td>4.07</td>\n      <td>2.31</td>\n    </tr>\n    <tr>\n      <th>3</th>\n      <td>0.29</td>\n      <td>Premium</td>\n      <td>I</td>\n      <td>VS2</td>\n      <td>62.4</td>\n      <td>58.0</td>\n      <td>334</td>\n      <td>4.20</td>\n      <td>4.23</td>\n      <td>2.63</td>\n    </tr>\n    <tr>\n      <th>4</th>\n      <td>0.31</td>\n      <td>Good</td>\n      <td>J</td>\n      <td>SI2</td>\n      <td>63.3</td>\n      <td>58.0</td>\n      <td>335</td>\n      <td>4.34</td>\n      <td>4.35</td>\n      <td>2.75</td>\n    </tr>\n    <tr>\n      <th>...</th>\n      <td>...</td>\n      <td>...</td>\n      <td>...</td>\n      <td>...</td>\n      <td>...</td>\n      <td>...</td>\n      <td>...</td>\n      <td>...</td>\n      <td>...</td>\n      <td>...</td>\n    </tr>\n    <tr>\n      <th>53935</th>\n      <td>0.72</td>\n      <td>Ideal</td>\n      <td>D</td>\n      <td>SI1</td>\n      <td>60.8</td>\n      <td>57.0</td>\n      <td>2757</td>\n      <td>5.75</td>\n      <td>5.76</td>\n      <td>3.50</td>\n    </tr>\n    <tr>\n      <th>53936</th>\n      <td>0.72</td>\n      <td>Good</td>\n      <td>D</td>\n      <td>SI1</td>\n      <td>63.1</td>\n      <td>55.0</td>\n      <td>2757</td>\n      <td>5.69</td>\n      <td>5.75</td>\n      <td>3.61</td>\n    </tr>\n    <tr>\n      <th>53937</th>\n      <td>0.70</td>\n      <td>Very Good</td>\n      <td>D</td>\n      <td>SI1</td>\n      <td>62.8</td>\n      <td>60.0</td>\n      <td>2757</td>\n      <td>5.66</td>\n      <td>5.68</td>\n      <td>3.56</td>\n    </tr>\n    <tr>\n      <th>53938</th>\n      <td>0.86</td>\n      <td>Premium</td>\n      <td>H</td>\n      <td>SI2</td>\n      <td>61.0</td>\n      <td>58.0</td>\n      <td>2757</td>\n      <td>6.15</td>\n      <td>6.12</td>\n      <td>3.74</td>\n    </tr>\n    <tr>\n      <th>53939</th>\n      <td>0.75</td>\n      <td>Ideal</td>\n      <td>D</td>\n      <td>SI2</td>\n      <td>62.2</td>\n      <td>55.0</td>\n      <td>2757</td>\n      <td>5.83</td>\n      <td>5.87</td>\n      <td>3.64</td>\n    </tr>\n  </tbody>\n</table>\n<p>53940 rows × 10 columns</p>\n</div>"
     },
     "execution_count": 37,
     "metadata": {},
     "output_type": "execute_result"
    }
   ],
   "source": [
    "#7\n",
    "no_nulls = diamonds[diamonds.isnull() == False]\n",
    "no_nulls"
   ],
   "metadata": {
    "collapsed": false
   }
  },
  {
   "cell_type": "code",
   "execution_count": 39,
   "outputs": [
    {
     "data": {
      "text/plain": "Index         128\ncarat      431520\ncut        431520\ncolor      431520\nclarity    431520\ndepth      431520\ntable      431520\nprice      431520\nx          431520\ny          431520\nz          431520\ndtype: int64"
     },
     "execution_count": 39,
     "metadata": {},
     "output_type": "execute_result"
    }
   ],
   "source": [
    "#8\n",
    "diamonds.memory_usage()\n",
    "#diamonds.memory_usage().sum()"
   ],
   "metadata": {
    "collapsed": false
   }
  },
  {
   "cell_type": "code",
   "execution_count": 40,
   "outputs": [
    {
     "data": {
      "text/plain": "4315328"
     },
     "execution_count": 40,
     "metadata": {},
     "output_type": "execute_result"
    }
   ],
   "source": [
    "#8\n",
    "diamonds.memory_usage().sum()"
   ],
   "metadata": {
    "collapsed": false
   }
  },
  {
   "cell_type": "code",
   "execution_count": 47,
   "outputs": [
    {
     "data": {
      "text/plain": "       carat        cut color clarity  depth  table  price     x     y     z\n1428    0.81    Premium     H     VS1   62.6   58.0   2972  5.96  5.90  3.71\n3186    0.71      Ideal     E     VS2   61.1   56.0   3342  5.77  5.79  3.53\n7498    0.70  Very Good     E    VVS2   61.7   57.0   4240  5.68  5.71  3.51\n12352   1.04      Ideal     I     VS1   61.8   56.0   5229  6.49  6.51  4.02\n12425   1.02    Premium     H     VS2   61.8   58.0   5241  6.49  6.43  3.99\n12819   1.01      Ideal     F     SI1   60.9   55.0   5345  6.50  6.48  3.95\n18963   1.29    Premium     H     VS2   60.7   61.0   7802  7.10  7.01  4.28\n20497   1.24      Ideal     G     VS1   61.5   56.0   8830  6.92  6.97  4.27\n24655   1.70      Ideal     I     VS1   61.9   55.0  12996  7.65  7.72  4.75\n26381   2.08    Premium     E     SI2   62.3   59.0  15873  8.22  8.16  5.10\n27042   0.32    Premium     F     VS2   59.4   58.0    645  4.44  4.48  2.65\n27048   0.32    Premium     F     VS2   61.2   59.0    645  4.40  4.42  2.70\n35596   0.31    Premium     H    VVS1   63.0   58.0    907  4.37  4.33  2.74\n35715   0.30      Ideal     D     VS2   60.8   57.0    911  4.34  4.31  2.63\n37563   0.31       Good     G      IF   63.9   58.0    988  4.30  4.27  2.74\n38246   0.32      Ideal     E      IF   61.1   58.0   1018  4.42  4.45  2.71\n40454   0.32      Ideal     E    VVS1   61.5   56.0   1140  4.43  4.45  2.73\n41585   0.30  Very Good     H     SI1   62.4   58.0    389  4.23  4.29  2.66\n42418   0.33      Ideal     E    VVS1   61.9   57.0   1312  4.43  4.46  2.75\n52924   0.71      Ideal     H     VS1   60.9   58.0   2590  5.74  5.79  3.51",
      "text/html": "<div>\n<style scoped>\n    .dataframe tbody tr th:only-of-type {\n        vertical-align: middle;\n    }\n\n    .dataframe tbody tr th {\n        vertical-align: top;\n    }\n\n    .dataframe thead th {\n        text-align: right;\n    }\n</style>\n<table border=\"1\" class=\"dataframe\">\n  <thead>\n    <tr style=\"text-align: right;\">\n      <th></th>\n      <th>carat</th>\n      <th>cut</th>\n      <th>color</th>\n      <th>clarity</th>\n      <th>depth</th>\n      <th>table</th>\n      <th>price</th>\n      <th>x</th>\n      <th>y</th>\n      <th>z</th>\n    </tr>\n  </thead>\n  <tbody>\n    <tr>\n      <th>1428</th>\n      <td>0.81</td>\n      <td>Premium</td>\n      <td>H</td>\n      <td>VS1</td>\n      <td>62.6</td>\n      <td>58.0</td>\n      <td>2972</td>\n      <td>5.96</td>\n      <td>5.90</td>\n      <td>3.71</td>\n    </tr>\n    <tr>\n      <th>3186</th>\n      <td>0.71</td>\n      <td>Ideal</td>\n      <td>E</td>\n      <td>VS2</td>\n      <td>61.1</td>\n      <td>56.0</td>\n      <td>3342</td>\n      <td>5.77</td>\n      <td>5.79</td>\n      <td>3.53</td>\n    </tr>\n    <tr>\n      <th>7498</th>\n      <td>0.70</td>\n      <td>Very Good</td>\n      <td>E</td>\n      <td>VVS2</td>\n      <td>61.7</td>\n      <td>57.0</td>\n      <td>4240</td>\n      <td>5.68</td>\n      <td>5.71</td>\n      <td>3.51</td>\n    </tr>\n    <tr>\n      <th>12352</th>\n      <td>1.04</td>\n      <td>Ideal</td>\n      <td>I</td>\n      <td>VS1</td>\n      <td>61.8</td>\n      <td>56.0</td>\n      <td>5229</td>\n      <td>6.49</td>\n      <td>6.51</td>\n      <td>4.02</td>\n    </tr>\n    <tr>\n      <th>12425</th>\n      <td>1.02</td>\n      <td>Premium</td>\n      <td>H</td>\n      <td>VS2</td>\n      <td>61.8</td>\n      <td>58.0</td>\n      <td>5241</td>\n      <td>6.49</td>\n      <td>6.43</td>\n      <td>3.99</td>\n    </tr>\n    <tr>\n      <th>12819</th>\n      <td>1.01</td>\n      <td>Ideal</td>\n      <td>F</td>\n      <td>SI1</td>\n      <td>60.9</td>\n      <td>55.0</td>\n      <td>5345</td>\n      <td>6.50</td>\n      <td>6.48</td>\n      <td>3.95</td>\n    </tr>\n    <tr>\n      <th>18963</th>\n      <td>1.29</td>\n      <td>Premium</td>\n      <td>H</td>\n      <td>VS2</td>\n      <td>60.7</td>\n      <td>61.0</td>\n      <td>7802</td>\n      <td>7.10</td>\n      <td>7.01</td>\n      <td>4.28</td>\n    </tr>\n    <tr>\n      <th>20497</th>\n      <td>1.24</td>\n      <td>Ideal</td>\n      <td>G</td>\n      <td>VS1</td>\n      <td>61.5</td>\n      <td>56.0</td>\n      <td>8830</td>\n      <td>6.92</td>\n      <td>6.97</td>\n      <td>4.27</td>\n    </tr>\n    <tr>\n      <th>24655</th>\n      <td>1.70</td>\n      <td>Ideal</td>\n      <td>I</td>\n      <td>VS1</td>\n      <td>61.9</td>\n      <td>55.0</td>\n      <td>12996</td>\n      <td>7.65</td>\n      <td>7.72</td>\n      <td>4.75</td>\n    </tr>\n    <tr>\n      <th>26381</th>\n      <td>2.08</td>\n      <td>Premium</td>\n      <td>E</td>\n      <td>SI2</td>\n      <td>62.3</td>\n      <td>59.0</td>\n      <td>15873</td>\n      <td>8.22</td>\n      <td>8.16</td>\n      <td>5.10</td>\n    </tr>\n    <tr>\n      <th>27042</th>\n      <td>0.32</td>\n      <td>Premium</td>\n      <td>F</td>\n      <td>VS2</td>\n      <td>59.4</td>\n      <td>58.0</td>\n      <td>645</td>\n      <td>4.44</td>\n      <td>4.48</td>\n      <td>2.65</td>\n    </tr>\n    <tr>\n      <th>27048</th>\n      <td>0.32</td>\n      <td>Premium</td>\n      <td>F</td>\n      <td>VS2</td>\n      <td>61.2</td>\n      <td>59.0</td>\n      <td>645</td>\n      <td>4.40</td>\n      <td>4.42</td>\n      <td>2.70</td>\n    </tr>\n    <tr>\n      <th>35596</th>\n      <td>0.31</td>\n      <td>Premium</td>\n      <td>H</td>\n      <td>VVS1</td>\n      <td>63.0</td>\n      <td>58.0</td>\n      <td>907</td>\n      <td>4.37</td>\n      <td>4.33</td>\n      <td>2.74</td>\n    </tr>\n    <tr>\n      <th>35715</th>\n      <td>0.30</td>\n      <td>Ideal</td>\n      <td>D</td>\n      <td>VS2</td>\n      <td>60.8</td>\n      <td>57.0</td>\n      <td>911</td>\n      <td>4.34</td>\n      <td>4.31</td>\n      <td>2.63</td>\n    </tr>\n    <tr>\n      <th>37563</th>\n      <td>0.31</td>\n      <td>Good</td>\n      <td>G</td>\n      <td>IF</td>\n      <td>63.9</td>\n      <td>58.0</td>\n      <td>988</td>\n      <td>4.30</td>\n      <td>4.27</td>\n      <td>2.74</td>\n    </tr>\n    <tr>\n      <th>38246</th>\n      <td>0.32</td>\n      <td>Ideal</td>\n      <td>E</td>\n      <td>IF</td>\n      <td>61.1</td>\n      <td>58.0</td>\n      <td>1018</td>\n      <td>4.42</td>\n      <td>4.45</td>\n      <td>2.71</td>\n    </tr>\n    <tr>\n      <th>40454</th>\n      <td>0.32</td>\n      <td>Ideal</td>\n      <td>E</td>\n      <td>VVS1</td>\n      <td>61.5</td>\n      <td>56.0</td>\n      <td>1140</td>\n      <td>4.43</td>\n      <td>4.45</td>\n      <td>2.73</td>\n    </tr>\n    <tr>\n      <th>41585</th>\n      <td>0.30</td>\n      <td>Very Good</td>\n      <td>H</td>\n      <td>SI1</td>\n      <td>62.4</td>\n      <td>58.0</td>\n      <td>389</td>\n      <td>4.23</td>\n      <td>4.29</td>\n      <td>2.66</td>\n    </tr>\n    <tr>\n      <th>42418</th>\n      <td>0.33</td>\n      <td>Ideal</td>\n      <td>E</td>\n      <td>VVS1</td>\n      <td>61.9</td>\n      <td>57.0</td>\n      <td>1312</td>\n      <td>4.43</td>\n      <td>4.46</td>\n      <td>2.75</td>\n    </tr>\n    <tr>\n      <th>52924</th>\n      <td>0.71</td>\n      <td>Ideal</td>\n      <td>H</td>\n      <td>VS1</td>\n      <td>60.9</td>\n      <td>58.0</td>\n      <td>2590</td>\n      <td>5.74</td>\n      <td>5.79</td>\n      <td>3.51</td>\n    </tr>\n  </tbody>\n</table>\n</div>"
     },
     "execution_count": 47,
     "metadata": {},
     "output_type": "execute_result"
    }
   ],
   "source": [
    "#9\n",
    "import random\n",
    "def random_20_str(x):\n",
    "    index = np.sort(random.sample(range(len(diamonds)), 20))\n",
    "    return diamonds.iloc[index]\n",
    "random_20_str(diamonds)"
   ],
   "metadata": {
    "collapsed": false
   }
  },
  {
   "cell_type": "markdown",
   "id": "ec750f29",
   "metadata": {},
   "source": [
    "## Упражнение 3\n",
    "##### ~определенно не баян~ classic\n",
    "\n",
    "Наконец-то, пришло время взяться за настоящий дата инжениринг и дата саенс. Датасет [титаник](https://www.kaggle.com/c/titanic).\n",
    "\n",
    "1. Найдите два отдельных распределения по классам и возрастам пассажиров Титаника.\n",
    "2. Разделите на две возрастные группы такие, что в них входят одинаковое количество пассажиров определенного класса. Определить такие группы для каждого пола (male/female)\n",
    "3. На основе полученных групп определите доли выживших. (должно получится 12 чисел)\n",
    "4. Найдите средний возраст выжившего для каждого из полов на основе полного набора данных\n",
    "5. Найдите несмещенное среднеквадратическое отклонение возраста для выживших\n",
    "6. Постройте график зависимости доли выживаемости от возроста\n",
    "7. Постройте куммулятивный график выживаемости в зависимости от возраста для разных полов\n",
    "8. Определите общие расходы пассажиров\n",
    "9. Средих всех пассажиров найдите Екатерин (`Kate`, `Katerina`, `Ekaterina` ...)\n",
    "10. `*`Определите имена для мужчин и женщин, которые чаще остальных встречались на корабле. Выведите список первых пяти."
   ]
  },
  {
   "cell_type": "code",
   "execution_count": 48,
   "id": "9a653a35",
   "metadata": {},
   "outputs": [
    {
     "data": {
      "text/plain": "     survived  pclass     sex   age  sibsp  parch     fare embarked   class  \\\n0           0       3    male  22.0      1      0   7.2500        S   Third   \n1           1       1  female  38.0      1      0  71.2833        C   First   \n2           1       3  female  26.0      0      0   7.9250        S   Third   \n3           1       1  female  35.0      1      0  53.1000        S   First   \n4           0       3    male  35.0      0      0   8.0500        S   Third   \n..        ...     ...     ...   ...    ...    ...      ...      ...     ...   \n886         0       2    male  27.0      0      0  13.0000        S  Second   \n887         1       1  female  19.0      0      0  30.0000        S   First   \n888         0       3  female   NaN      1      2  23.4500        S   Third   \n889         1       1    male  26.0      0      0  30.0000        C   First   \n890         0       3    male  32.0      0      0   7.7500        Q   Third   \n\n       who  adult_male deck  embark_town alive  alone  \n0      man        True  NaN  Southampton    no  False  \n1    woman       False    C    Cherbourg   yes  False  \n2    woman       False  NaN  Southampton   yes   True  \n3    woman       False    C  Southampton   yes  False  \n4      man        True  NaN  Southampton    no   True  \n..     ...         ...  ...          ...   ...    ...  \n886    man        True  NaN  Southampton    no   True  \n887  woman       False    B  Southampton   yes   True  \n888  woman       False  NaN  Southampton    no  False  \n889    man        True    C    Cherbourg   yes   True  \n890    man        True  NaN   Queenstown    no   True  \n\n[891 rows x 15 columns]",
      "text/html": "<div>\n<style scoped>\n    .dataframe tbody tr th:only-of-type {\n        vertical-align: middle;\n    }\n\n    .dataframe tbody tr th {\n        vertical-align: top;\n    }\n\n    .dataframe thead th {\n        text-align: right;\n    }\n</style>\n<table border=\"1\" class=\"dataframe\">\n  <thead>\n    <tr style=\"text-align: right;\">\n      <th></th>\n      <th>survived</th>\n      <th>pclass</th>\n      <th>sex</th>\n      <th>age</th>\n      <th>sibsp</th>\n      <th>parch</th>\n      <th>fare</th>\n      <th>embarked</th>\n      <th>class</th>\n      <th>who</th>\n      <th>adult_male</th>\n      <th>deck</th>\n      <th>embark_town</th>\n      <th>alive</th>\n      <th>alone</th>\n    </tr>\n  </thead>\n  <tbody>\n    <tr>\n      <th>0</th>\n      <td>0</td>\n      <td>3</td>\n      <td>male</td>\n      <td>22.0</td>\n      <td>1</td>\n      <td>0</td>\n      <td>7.2500</td>\n      <td>S</td>\n      <td>Third</td>\n      <td>man</td>\n      <td>True</td>\n      <td>NaN</td>\n      <td>Southampton</td>\n      <td>no</td>\n      <td>False</td>\n    </tr>\n    <tr>\n      <th>1</th>\n      <td>1</td>\n      <td>1</td>\n      <td>female</td>\n      <td>38.0</td>\n      <td>1</td>\n      <td>0</td>\n      <td>71.2833</td>\n      <td>C</td>\n      <td>First</td>\n      <td>woman</td>\n      <td>False</td>\n      <td>C</td>\n      <td>Cherbourg</td>\n      <td>yes</td>\n      <td>False</td>\n    </tr>\n    <tr>\n      <th>2</th>\n      <td>1</td>\n      <td>3</td>\n      <td>female</td>\n      <td>26.0</td>\n      <td>0</td>\n      <td>0</td>\n      <td>7.9250</td>\n      <td>S</td>\n      <td>Third</td>\n      <td>woman</td>\n      <td>False</td>\n      <td>NaN</td>\n      <td>Southampton</td>\n      <td>yes</td>\n      <td>True</td>\n    </tr>\n    <tr>\n      <th>3</th>\n      <td>1</td>\n      <td>1</td>\n      <td>female</td>\n      <td>35.0</td>\n      <td>1</td>\n      <td>0</td>\n      <td>53.1000</td>\n      <td>S</td>\n      <td>First</td>\n      <td>woman</td>\n      <td>False</td>\n      <td>C</td>\n      <td>Southampton</td>\n      <td>yes</td>\n      <td>False</td>\n    </tr>\n    <tr>\n      <th>4</th>\n      <td>0</td>\n      <td>3</td>\n      <td>male</td>\n      <td>35.0</td>\n      <td>0</td>\n      <td>0</td>\n      <td>8.0500</td>\n      <td>S</td>\n      <td>Third</td>\n      <td>man</td>\n      <td>True</td>\n      <td>NaN</td>\n      <td>Southampton</td>\n      <td>no</td>\n      <td>True</td>\n    </tr>\n    <tr>\n      <th>...</th>\n      <td>...</td>\n      <td>...</td>\n      <td>...</td>\n      <td>...</td>\n      <td>...</td>\n      <td>...</td>\n      <td>...</td>\n      <td>...</td>\n      <td>...</td>\n      <td>...</td>\n      <td>...</td>\n      <td>...</td>\n      <td>...</td>\n      <td>...</td>\n      <td>...</td>\n    </tr>\n    <tr>\n      <th>886</th>\n      <td>0</td>\n      <td>2</td>\n      <td>male</td>\n      <td>27.0</td>\n      <td>0</td>\n      <td>0</td>\n      <td>13.0000</td>\n      <td>S</td>\n      <td>Second</td>\n      <td>man</td>\n      <td>True</td>\n      <td>NaN</td>\n      <td>Southampton</td>\n      <td>no</td>\n      <td>True</td>\n    </tr>\n    <tr>\n      <th>887</th>\n      <td>1</td>\n      <td>1</td>\n      <td>female</td>\n      <td>19.0</td>\n      <td>0</td>\n      <td>0</td>\n      <td>30.0000</td>\n      <td>S</td>\n      <td>First</td>\n      <td>woman</td>\n      <td>False</td>\n      <td>B</td>\n      <td>Southampton</td>\n      <td>yes</td>\n      <td>True</td>\n    </tr>\n    <tr>\n      <th>888</th>\n      <td>0</td>\n      <td>3</td>\n      <td>female</td>\n      <td>NaN</td>\n      <td>1</td>\n      <td>2</td>\n      <td>23.4500</td>\n      <td>S</td>\n      <td>Third</td>\n      <td>woman</td>\n      <td>False</td>\n      <td>NaN</td>\n      <td>Southampton</td>\n      <td>no</td>\n      <td>False</td>\n    </tr>\n    <tr>\n      <th>889</th>\n      <td>1</td>\n      <td>1</td>\n      <td>male</td>\n      <td>26.0</td>\n      <td>0</td>\n      <td>0</td>\n      <td>30.0000</td>\n      <td>C</td>\n      <td>First</td>\n      <td>man</td>\n      <td>True</td>\n      <td>C</td>\n      <td>Cherbourg</td>\n      <td>yes</td>\n      <td>True</td>\n    </tr>\n    <tr>\n      <th>890</th>\n      <td>0</td>\n      <td>3</td>\n      <td>male</td>\n      <td>32.0</td>\n      <td>0</td>\n      <td>0</td>\n      <td>7.7500</td>\n      <td>Q</td>\n      <td>Third</td>\n      <td>man</td>\n      <td>True</td>\n      <td>NaN</td>\n      <td>Queenstown</td>\n      <td>no</td>\n      <td>True</td>\n    </tr>\n  </tbody>\n</table>\n<p>891 rows × 15 columns</p>\n</div>"
     },
     "execution_count": 48,
     "metadata": {},
     "output_type": "execute_result"
    }
   ],
   "source": [
    "import pandas as pd\n",
    "\n",
    "titanic = pd.read_csv(\"https://raw.githubusercontent.com/mwaskom/seaborn-data/master/titanic.csv\")\n",
    "\n",
    "titanic"
   ]
  },
  {
   "cell_type": "code",
   "execution_count": 49,
   "id": "647b8009",
   "metadata": {},
   "outputs": [
    {
     "data": {
      "text/plain": "        survived  sex  age  sibsp  parch  fare  embarked  class  who  \\\npclass                                                                 \n1            216  216  186    216    216   216       214    216  216   \n2            184  184  173    184    184   184       184    184  184   \n3            491  491  355    491    491   491       491    491  491   \n\n        adult_male  deck  embark_town  alive  alone  \npclass                                               \n1              216   175          214    216    216  \n2              184    16          184    184    184  \n3              491    12          491    491    491  ",
      "text/html": "<div>\n<style scoped>\n    .dataframe tbody tr th:only-of-type {\n        vertical-align: middle;\n    }\n\n    .dataframe tbody tr th {\n        vertical-align: top;\n    }\n\n    .dataframe thead th {\n        text-align: right;\n    }\n</style>\n<table border=\"1\" class=\"dataframe\">\n  <thead>\n    <tr style=\"text-align: right;\">\n      <th></th>\n      <th>survived</th>\n      <th>sex</th>\n      <th>age</th>\n      <th>sibsp</th>\n      <th>parch</th>\n      <th>fare</th>\n      <th>embarked</th>\n      <th>class</th>\n      <th>who</th>\n      <th>adult_male</th>\n      <th>deck</th>\n      <th>embark_town</th>\n      <th>alive</th>\n      <th>alone</th>\n    </tr>\n    <tr>\n      <th>pclass</th>\n      <th></th>\n      <th></th>\n      <th></th>\n      <th></th>\n      <th></th>\n      <th></th>\n      <th></th>\n      <th></th>\n      <th></th>\n      <th></th>\n      <th></th>\n      <th></th>\n      <th></th>\n      <th></th>\n    </tr>\n  </thead>\n  <tbody>\n    <tr>\n      <th>1</th>\n      <td>216</td>\n      <td>216</td>\n      <td>186</td>\n      <td>216</td>\n      <td>216</td>\n      <td>216</td>\n      <td>214</td>\n      <td>216</td>\n      <td>216</td>\n      <td>216</td>\n      <td>175</td>\n      <td>214</td>\n      <td>216</td>\n      <td>216</td>\n    </tr>\n    <tr>\n      <th>2</th>\n      <td>184</td>\n      <td>184</td>\n      <td>173</td>\n      <td>184</td>\n      <td>184</td>\n      <td>184</td>\n      <td>184</td>\n      <td>184</td>\n      <td>184</td>\n      <td>184</td>\n      <td>16</td>\n      <td>184</td>\n      <td>184</td>\n      <td>184</td>\n    </tr>\n    <tr>\n      <th>3</th>\n      <td>491</td>\n      <td>491</td>\n      <td>355</td>\n      <td>491</td>\n      <td>491</td>\n      <td>491</td>\n      <td>491</td>\n      <td>491</td>\n      <td>491</td>\n      <td>491</td>\n      <td>12</td>\n      <td>491</td>\n      <td>491</td>\n      <td>491</td>\n    </tr>\n  </tbody>\n</table>\n</div>"
     },
     "execution_count": 49,
     "metadata": {},
     "output_type": "execute_result"
    }
   ],
   "source": [
    "#1\n",
    "titanic.groupby([\"pclass\"]).agg(\"count\")"
   ]
  },
  {
   "cell_type": "code",
   "execution_count": 50,
   "outputs": [
    {
     "data": {
      "text/plain": "       survived  pclass  sex  sibsp  parch  fare  embarked  class  who  \\\nage                                                                      \n0.42          1       1    1      1      1     1         1      1    1   \n0.67          1       1    1      1      1     1         1      1    1   \n0.75          2       2    2      2      2     2         2      2    2   \n0.83          2       2    2      2      2     2         2      2    2   \n0.92          1       1    1      1      1     1         1      1    1   \n...         ...     ...  ...    ...    ...   ...       ...    ...  ...   \n70.00         2       2    2      2      2     2         2      2    2   \n70.50         1       1    1      1      1     1         1      1    1   \n71.00         2       2    2      2      2     2         2      2    2   \n74.00         1       1    1      1      1     1         1      1    1   \n80.00         1       1    1      1      1     1         1      1    1   \n\n       adult_male  deck  embark_town  alive  alone  \nage                                                 \n0.42            1     0            1      1      1  \n0.67            1     0            1      1      1  \n0.75            2     0            2      2      2  \n0.83            2     0            2      2      2  \n0.92            1     1            1      1      1  \n...           ...   ...          ...    ...    ...  \n70.00           2     1            2      2      2  \n70.50           1     0            1      1      1  \n71.00           2     1            2      2      2  \n74.00           1     0            1      1      1  \n80.00           1     1            1      1      1  \n\n[88 rows x 14 columns]",
      "text/html": "<div>\n<style scoped>\n    .dataframe tbody tr th:only-of-type {\n        vertical-align: middle;\n    }\n\n    .dataframe tbody tr th {\n        vertical-align: top;\n    }\n\n    .dataframe thead th {\n        text-align: right;\n    }\n</style>\n<table border=\"1\" class=\"dataframe\">\n  <thead>\n    <tr style=\"text-align: right;\">\n      <th></th>\n      <th>survived</th>\n      <th>pclass</th>\n      <th>sex</th>\n      <th>sibsp</th>\n      <th>parch</th>\n      <th>fare</th>\n      <th>embarked</th>\n      <th>class</th>\n      <th>who</th>\n      <th>adult_male</th>\n      <th>deck</th>\n      <th>embark_town</th>\n      <th>alive</th>\n      <th>alone</th>\n    </tr>\n    <tr>\n      <th>age</th>\n      <th></th>\n      <th></th>\n      <th></th>\n      <th></th>\n      <th></th>\n      <th></th>\n      <th></th>\n      <th></th>\n      <th></th>\n      <th></th>\n      <th></th>\n      <th></th>\n      <th></th>\n      <th></th>\n    </tr>\n  </thead>\n  <tbody>\n    <tr>\n      <th>0.42</th>\n      <td>1</td>\n      <td>1</td>\n      <td>1</td>\n      <td>1</td>\n      <td>1</td>\n      <td>1</td>\n      <td>1</td>\n      <td>1</td>\n      <td>1</td>\n      <td>1</td>\n      <td>0</td>\n      <td>1</td>\n      <td>1</td>\n      <td>1</td>\n    </tr>\n    <tr>\n      <th>0.67</th>\n      <td>1</td>\n      <td>1</td>\n      <td>1</td>\n      <td>1</td>\n      <td>1</td>\n      <td>1</td>\n      <td>1</td>\n      <td>1</td>\n      <td>1</td>\n      <td>1</td>\n      <td>0</td>\n      <td>1</td>\n      <td>1</td>\n      <td>1</td>\n    </tr>\n    <tr>\n      <th>0.75</th>\n      <td>2</td>\n      <td>2</td>\n      <td>2</td>\n      <td>2</td>\n      <td>2</td>\n      <td>2</td>\n      <td>2</td>\n      <td>2</td>\n      <td>2</td>\n      <td>2</td>\n      <td>0</td>\n      <td>2</td>\n      <td>2</td>\n      <td>2</td>\n    </tr>\n    <tr>\n      <th>0.83</th>\n      <td>2</td>\n      <td>2</td>\n      <td>2</td>\n      <td>2</td>\n      <td>2</td>\n      <td>2</td>\n      <td>2</td>\n      <td>2</td>\n      <td>2</td>\n      <td>2</td>\n      <td>0</td>\n      <td>2</td>\n      <td>2</td>\n      <td>2</td>\n    </tr>\n    <tr>\n      <th>0.92</th>\n      <td>1</td>\n      <td>1</td>\n      <td>1</td>\n      <td>1</td>\n      <td>1</td>\n      <td>1</td>\n      <td>1</td>\n      <td>1</td>\n      <td>1</td>\n      <td>1</td>\n      <td>1</td>\n      <td>1</td>\n      <td>1</td>\n      <td>1</td>\n    </tr>\n    <tr>\n      <th>...</th>\n      <td>...</td>\n      <td>...</td>\n      <td>...</td>\n      <td>...</td>\n      <td>...</td>\n      <td>...</td>\n      <td>...</td>\n      <td>...</td>\n      <td>...</td>\n      <td>...</td>\n      <td>...</td>\n      <td>...</td>\n      <td>...</td>\n      <td>...</td>\n    </tr>\n    <tr>\n      <th>70.00</th>\n      <td>2</td>\n      <td>2</td>\n      <td>2</td>\n      <td>2</td>\n      <td>2</td>\n      <td>2</td>\n      <td>2</td>\n      <td>2</td>\n      <td>2</td>\n      <td>2</td>\n      <td>1</td>\n      <td>2</td>\n      <td>2</td>\n      <td>2</td>\n    </tr>\n    <tr>\n      <th>70.50</th>\n      <td>1</td>\n      <td>1</td>\n      <td>1</td>\n      <td>1</td>\n      <td>1</td>\n      <td>1</td>\n      <td>1</td>\n      <td>1</td>\n      <td>1</td>\n      <td>1</td>\n      <td>0</td>\n      <td>1</td>\n      <td>1</td>\n      <td>1</td>\n    </tr>\n    <tr>\n      <th>71.00</th>\n      <td>2</td>\n      <td>2</td>\n      <td>2</td>\n      <td>2</td>\n      <td>2</td>\n      <td>2</td>\n      <td>2</td>\n      <td>2</td>\n      <td>2</td>\n      <td>2</td>\n      <td>1</td>\n      <td>2</td>\n      <td>2</td>\n      <td>2</td>\n    </tr>\n    <tr>\n      <th>74.00</th>\n      <td>1</td>\n      <td>1</td>\n      <td>1</td>\n      <td>1</td>\n      <td>1</td>\n      <td>1</td>\n      <td>1</td>\n      <td>1</td>\n      <td>1</td>\n      <td>1</td>\n      <td>0</td>\n      <td>1</td>\n      <td>1</td>\n      <td>1</td>\n    </tr>\n    <tr>\n      <th>80.00</th>\n      <td>1</td>\n      <td>1</td>\n      <td>1</td>\n      <td>1</td>\n      <td>1</td>\n      <td>1</td>\n      <td>1</td>\n      <td>1</td>\n      <td>1</td>\n      <td>1</td>\n      <td>1</td>\n      <td>1</td>\n      <td>1</td>\n      <td>1</td>\n    </tr>\n  </tbody>\n</table>\n<p>88 rows × 14 columns</p>\n</div>"
     },
     "execution_count": 50,
     "metadata": {},
     "output_type": "execute_result"
    }
   ],
   "source": [
    "#1\n",
    "titanic.groupby([\"age\"]).agg(\"count\")"
   ],
   "metadata": {
    "collapsed": false
   }
  },
  {
   "cell_type": "code",
   "execution_count": 71,
   "outputs": [
    {
     "name": "stdout",
     "output_type": "stream",
     "text": [
      "(     survived  pclass   sex   age  sibsp  parch      fare embarked  class  \\\n",
      "630         1       1  male  80.0      0      0   30.0000        S  First   \n",
      "96          0       1  male  71.0      0      0   34.6542        C  First   \n",
      "493         0       1  male  71.0      0      0   49.5042        C  First   \n",
      "745         0       1  male  70.0      1      1   71.0000        S  First   \n",
      "456         0       1  male  65.0      0      0   26.5500        S  First   \n",
      "..        ...     ...   ...   ...    ...    ...       ...      ...    ...   \n",
      "822         0       1  male  38.0      0      0    0.0000        S  First   \n",
      "248         1       1  male  37.0      1      1   52.5542        S  First   \n",
      "273         0       1  male  37.0      0      1   29.7000        C  First   \n",
      "137         0       1  male  37.0      1      0   53.1000        S  First   \n",
      "679         1       1  male  36.0      0      1  512.3292        C  First   \n",
      "\n",
      "     who  adult_male deck  embark_town alive  alone  \n",
      "630  man        True    A  Southampton   yes   True  \n",
      "96   man        True    A    Cherbourg    no   True  \n",
      "493  man        True  NaN    Cherbourg    no   True  \n",
      "745  man        True    B  Southampton    no  False  \n",
      "456  man        True    E  Southampton    no   True  \n",
      "..   ...         ...  ...          ...   ...    ...  \n",
      "822  man        True  NaN  Southampton    no   True  \n",
      "248  man        True    D  Southampton   yes  False  \n",
      "273  man        True    C    Cherbourg    no  False  \n",
      "137  man        True    C  Southampton    no  False  \n",
      "679  man        True    B    Cherbourg   yes  False  \n",
      "\n",
      "[61 rows x 15 columns],      survived  pclass   sex   age  sibsp  parch      fare embarked  class  \\\n",
      "572         1       1  male  36.0      0      0   26.3875        S  First   \n",
      "583         0       1  male  36.0      0      0   40.1250        C  First   \n",
      "390         1       1  male  36.0      1      2  120.0000        S  First   \n",
      "512         1       1  male  36.0      0      0   26.2875        S  First   \n",
      "741         0       1  male  36.0      1      0   78.8500        S  First   \n",
      "..        ...     ...   ...   ...    ...    ...       ...      ...    ...   \n",
      "740         1       1  male   NaN      0      0   30.0000        S  First   \n",
      "766         0       1  male   NaN      0      0   39.6000        C  First   \n",
      "793         0       1  male   NaN      0      0   30.6958        C  First   \n",
      "815         0       1  male   NaN      0      0    0.0000        S  First   \n",
      "839         1       1  male   NaN      0      0   29.7000        C  First   \n",
      "\n",
      "     who  adult_male deck  embark_town alive  alone  \n",
      "572  man        True    E  Southampton   yes   True  \n",
      "583  man        True    A    Cherbourg    no   True  \n",
      "390  man        True    B  Southampton   yes  False  \n",
      "512  man        True    E  Southampton   yes   True  \n",
      "741  man        True    C  Southampton    no  False  \n",
      "..   ...         ...  ...          ...   ...    ...  \n",
      "740  man        True    D  Southampton   yes   True  \n",
      "766  man        True  NaN    Cherbourg    no   True  \n",
      "793  man        True  NaN    Cherbourg    no   True  \n",
      "815  man        True    B  Southampton    no   True  \n",
      "839  man        True    C    Cherbourg   yes   True  \n",
      "\n",
      "[61 rows x 15 columns])\n",
      "(     survived  pclass     sex   age  sibsp  parch      fare embarked  class  \\\n",
      "275         1       1  female  63.0      1      0   77.9583        S  First   \n",
      "829         1       1  female  62.0      0      0   80.0000      NaN  First   \n",
      "366         1       1  female  60.0      1      0   75.2500        C  First   \n",
      "268         1       1  female  58.0      0      1  153.4625        S  First   \n",
      "195         1       1  female  58.0      0      0  146.5208        C  First   \n",
      "11          1       1  female  58.0      0      0   26.5500        S  First   \n",
      "879         1       1  female  56.0      0      1   83.1583        C  First   \n",
      "513         1       1  female  54.0      1      0   59.4000        C  First   \n",
      "496         1       1  female  54.0      1      0   78.2667        C  First   \n",
      "571         1       1  female  53.0      2      0   51.4792        S  First   \n",
      "591         1       1  female  52.0      1      0   78.2667        C  First   \n",
      "820         1       1  female  52.0      1      1   93.5000        S  First   \n",
      "765         1       1  female  51.0      1      0   77.9583        S  First   \n",
      "299         1       1  female  50.0      0      1  247.5208        C  First   \n",
      "177         0       1  female  50.0      0      0   28.7125        C  First   \n",
      "52          1       1  female  49.0      1      0   76.7292        C  First   \n",
      "796         1       1  female  49.0      0      0   25.9292        S  First   \n",
      "862         1       1  female  48.0      0      0   25.9292        S  First   \n",
      "556         1       1  female  48.0      1      0   39.6000        C  First   \n",
      "871         1       1  female  47.0      1      1   52.5542        S  First   \n",
      "856         1       1  female  45.0      1      1  164.8667        S  First   \n",
      "523         1       1  female  44.0      0      1   57.9792        C  First   \n",
      "194         1       1  female  44.0      0      0   27.7208        C  First   \n",
      "779         1       1  female  43.0      0      1  211.3375        S  First   \n",
      "380         1       1  female  42.0      0      0  227.5250        C  First   \n",
      "337         1       1  female  41.0      0      0  134.5000        C  First   \n",
      "609         1       1  female  40.0      0      0  153.4625        S  First   \n",
      "319         1       1  female  40.0      1      1  134.5000        C  First   \n",
      "581         1       1  female  39.0      1      1  110.8833        C  First   \n",
      "577         1       1  female  39.0      1      0   55.9000        S  First   \n",
      "558         1       1  female  39.0      1      1   79.6500        S  First   \n",
      "835         1       1  female  39.0      1      1   83.1583        C  First   \n",
      "716         1       1  female  38.0      0      0  227.5250        C  First   \n",
      "1           1       1  female  38.0      1      0   71.2833        C  First   \n",
      "61          1       1  female  38.0      0      0   80.0000      NaN  First   \n",
      "540         1       1  female  36.0      0      2   71.0000        S  First   \n",
      "325         1       1  female  36.0      0      0  135.6333        C  First   \n",
      "763         1       1  female  36.0      1      2  120.0000        S  First   \n",
      "269         1       1  female  35.0      0      0  135.6333        S  First   \n",
      "383         1       1  female  35.0      1      0   52.0000        S  First   \n",
      "258         1       1  female  35.0      0      0  512.3292        C  First   \n",
      "486         1       1  female  35.0      1      0   90.0000        S  First   \n",
      "3           1       1  female  35.0      1      0   53.1000        S  First   \n",
      "230         1       1  female  35.0      1      0   83.4750        S  First   \n",
      "759         1       1  female  33.0      0      0   86.5000        S  First   \n",
      "412         1       1  female  33.0      1      0   90.0000        Q  First   \n",
      "809         1       1  female  33.0      1      0   53.1000        S  First   \n",
      "\n",
      "       who  adult_male deck  embark_town alive  alone  \n",
      "275  woman       False    D  Southampton   yes  False  \n",
      "829  woman       False    B          NaN   yes   True  \n",
      "366  woman       False    D    Cherbourg   yes  False  \n",
      "268  woman       False    C  Southampton   yes  False  \n",
      "195  woman       False    B    Cherbourg   yes   True  \n",
      "11   woman       False    C  Southampton   yes   True  \n",
      "879  woman       False    C    Cherbourg   yes  False  \n",
      "513  woman       False  NaN    Cherbourg   yes  False  \n",
      "496  woman       False    D    Cherbourg   yes  False  \n",
      "571  woman       False    C  Southampton   yes  False  \n",
      "591  woman       False    D    Cherbourg   yes  False  \n",
      "820  woman       False    B  Southampton   yes  False  \n",
      "765  woman       False    D  Southampton   yes  False  \n",
      "299  woman       False    B    Cherbourg   yes  False  \n",
      "177  woman       False    C    Cherbourg    no   True  \n",
      "52   woman       False    D    Cherbourg   yes  False  \n",
      "796  woman       False    D  Southampton   yes   True  \n",
      "862  woman       False    D  Southampton   yes   True  \n",
      "556  woman       False    A    Cherbourg   yes  False  \n",
      "871  woman       False    D  Southampton   yes  False  \n",
      "856  woman       False  NaN  Southampton   yes  False  \n",
      "523  woman       False    B    Cherbourg   yes  False  \n",
      "194  woman       False    B    Cherbourg   yes   True  \n",
      "779  woman       False    B  Southampton   yes  False  \n",
      "380  woman       False  NaN    Cherbourg   yes   True  \n",
      "337  woman       False    E    Cherbourg   yes   True  \n",
      "609  woman       False    C  Southampton   yes   True  \n",
      "319  woman       False    E    Cherbourg   yes  False  \n",
      "581  woman       False    C    Cherbourg   yes  False  \n",
      "577  woman       False    E  Southampton   yes  False  \n",
      "558  woman       False    E  Southampton   yes  False  \n",
      "835  woman       False    E    Cherbourg   yes  False  \n",
      "716  woman       False    C    Cherbourg   yes   True  \n",
      "1    woman       False    C    Cherbourg   yes  False  \n",
      "61   woman       False    B          NaN   yes   True  \n",
      "540  woman       False    B  Southampton   yes  False  \n",
      "325  woman       False    C    Cherbourg   yes   True  \n",
      "763  woman       False    B  Southampton   yes  False  \n",
      "269  woman       False    C  Southampton   yes   True  \n",
      "383  woman       False  NaN  Southampton   yes  False  \n",
      "258  woman       False  NaN    Cherbourg   yes   True  \n",
      "486  woman       False    C  Southampton   yes  False  \n",
      "3    woman       False    C  Southampton   yes  False  \n",
      "230  woman       False    C  Southampton   yes  False  \n",
      "759  woman       False    B  Southampton   yes   True  \n",
      "412  woman       False    C   Queenstown   yes  False  \n",
      "809  woman       False    E  Southampton   yes  False  ,      survived  pclass     sex   age  sibsp  parch      fare embarked  class  \\\n",
      "218         1       1  female  32.0      0      0   76.2917        C  First   \n",
      "215         1       1  female  31.0      1      0  113.2750        C  First   \n",
      "318         1       1  female  31.0      0      2  164.8667        S  First   \n",
      "842         1       1  female  30.0      0      0   31.0000        C  First   \n",
      "309         1       1  female  30.0      0      0   56.9292        C  First   \n",
      "520         1       1  female  30.0      0      0   93.5000        S  First   \n",
      "537         1       1  female  30.0      0      0  106.4250        C  First   \n",
      "257         1       1  female  30.0      0      0   86.5000        S  First   \n",
      "730         1       1  female  29.0      0      0  211.3375        S  First   \n",
      "290         1       1  female  26.0      0      0   78.8500        S  First   \n",
      "498         0       1  female  25.0      1      2  151.5500        S  First   \n",
      "369         1       1  female  24.0      0      0   69.3000        C  First   \n",
      "310         1       1  female  24.0      0      0   83.1583        C  First   \n",
      "341         1       1  female  24.0      3      2  263.0000        S  First   \n",
      "641         1       1  female  24.0      0      0   69.3000        C  First   \n",
      "710         1       1  female  24.0      0      0   49.5042        C  First   \n",
      "88          1       1  female  23.0      3      2  263.0000        S  First   \n",
      "393         1       1  female  23.0      1      0  113.2750        C  First   \n",
      "539         1       1  female  22.0      0      2   49.5000        C  First   \n",
      "708         1       1  female  22.0      0      0  151.5500        S  First   \n",
      "151         1       1  female  22.0      1      0   66.6000        S  First   \n",
      "356         1       1  female  22.0      0      1   55.0000        S  First   \n",
      "627         1       1  female  21.0      0      0   77.9583        S  First   \n",
      "742         1       1  female  21.0      2      2  262.3750        C  First   \n",
      "291         1       1  female  19.0      1      0   91.0792        C  First   \n",
      "136         1       1  female  19.0      0      2   26.2833        S  First   \n",
      "887         1       1  female  19.0      0      0   30.0000        S  First   \n",
      "700         1       1  female  18.0      1      0  227.5250        C  First   \n",
      "585         1       1  female  18.0      0      2   79.6500        S  First   \n",
      "311         1       1  female  18.0      2      2  262.3750        C  First   \n",
      "781         1       1  female  17.0      1      0   57.0000        S  First   \n",
      "307         1       1  female  17.0      1      0  108.9000        C  First   \n",
      "853         1       1  female  16.0      0      1   39.4000        S  First   \n",
      "329         1       1  female  16.0      0      1   57.9792        C  First   \n",
      "504         1       1  female  16.0      0      0   86.5000        S  First   \n",
      "689         1       1  female  15.0      0      1  211.3375        S  First   \n",
      "435         1       1  female  14.0      1      2  120.0000        S  First   \n",
      "297         0       1  female   2.0      1      2  151.5500        S  First   \n",
      "31          1       1  female   NaN      1      0  146.5208        C  First   \n",
      "166         1       1  female   NaN      0      1   55.0000        S  First   \n",
      "256         1       1  female   NaN      0      0   79.2000        C  First   \n",
      "306         1       1  female   NaN      0      0  110.8833        C  First   \n",
      "334         1       1  female   NaN      1      0  133.6500        S  First   \n",
      "375         1       1  female   NaN      1      0   82.1708        C  First   \n",
      "457         1       1  female   NaN      1      0   51.8625        S  First   \n",
      "669         1       1  female   NaN      1      0   52.0000        S  First   \n",
      "849         1       1  female   NaN      1      0   89.1042        C  First   \n",
      "\n",
      "       who  adult_male deck  embark_town alive  alone  \n",
      "218  woman       False    D    Cherbourg   yes   True  \n",
      "215  woman       False    D    Cherbourg   yes  False  \n",
      "318  woman       False    C  Southampton   yes  False  \n",
      "842  woman       False  NaN    Cherbourg   yes   True  \n",
      "309  woman       False    E    Cherbourg   yes   True  \n",
      "520  woman       False    B  Southampton   yes   True  \n",
      "537  woman       False  NaN    Cherbourg   yes   True  \n",
      "257  woman       False    B  Southampton   yes   True  \n",
      "730  woman       False    B  Southampton   yes   True  \n",
      "290  woman       False  NaN  Southampton   yes   True  \n",
      "498  woman       False    C  Southampton    no  False  \n",
      "369  woman       False    B    Cherbourg   yes   True  \n",
      "310  woman       False    C    Cherbourg   yes   True  \n",
      "341  woman       False    C  Southampton   yes  False  \n",
      "641  woman       False    B    Cherbourg   yes   True  \n",
      "710  woman       False    C    Cherbourg   yes   True  \n",
      "88   woman       False    C  Southampton   yes  False  \n",
      "393  woman       False    D    Cherbourg   yes  False  \n",
      "539  woman       False    B    Cherbourg   yes  False  \n",
      "708  woman       False  NaN  Southampton   yes   True  \n",
      "151  woman       False    C  Southampton   yes  False  \n",
      "356  woman       False    E  Southampton   yes  False  \n",
      "627  woman       False    D  Southampton   yes   True  \n",
      "742  woman       False    B    Cherbourg   yes  False  \n",
      "291  woman       False    B    Cherbourg   yes  False  \n",
      "136  woman       False    D  Southampton   yes  False  \n",
      "887  woman       False    B  Southampton   yes   True  \n",
      "700  woman       False    C    Cherbourg   yes  False  \n",
      "585  woman       False    E  Southampton   yes  False  \n",
      "311  woman       False    B    Cherbourg   yes  False  \n",
      "781  woman       False    B  Southampton   yes  False  \n",
      "307  woman       False    C    Cherbourg   yes  False  \n",
      "853  woman       False    D  Southampton   yes  False  \n",
      "329  woman       False    B    Cherbourg   yes  False  \n",
      "504  woman       False    B  Southampton   yes   True  \n",
      "689  child       False    B  Southampton   yes  False  \n",
      "435  child       False    B  Southampton   yes  False  \n",
      "297  child       False    C  Southampton    no  False  \n",
      "31   woman       False    B    Cherbourg   yes  False  \n",
      "166  woman       False    E  Southampton   yes  False  \n",
      "256  woman       False  NaN    Cherbourg   yes   True  \n",
      "306  woman       False  NaN    Cherbourg   yes   True  \n",
      "334  woman       False  NaN  Southampton   yes  False  \n",
      "375  woman       False  NaN    Cherbourg   yes  False  \n",
      "457  woman       False    D  Southampton   yes  False  \n",
      "669  woman       False    C  Southampton   yes  False  \n",
      "849  woman       False    C    Cherbourg   yes  False  )\n",
      "(     survived  pclass   sex   age  sibsp  parch     fare embarked   class  \\\n",
      "672         0       2  male  70.0      0      0  10.5000        S  Second   \n",
      "33          0       2  male  66.0      0      0  10.5000        S  Second   \n",
      "570         1       2  male  62.0      0      0  10.5000        S  Second   \n",
      "684         0       2  male  60.0      1      1  39.0000        S  Second   \n",
      "232         0       2  male  59.0      0      0  13.5000        S  Second   \n",
      "626         0       2  male  57.0      0      0  12.3500        Q  Second   \n",
      "582         0       2  male  54.0      0      0  26.0000        S  Second   \n",
      "317         0       2  male  54.0      0      0  14.0000        S  Second   \n",
      "249         0       2  male  54.0      1      0  26.0000        S  Second   \n",
      "695         0       2  male  52.0      0      0  13.5000        S  Second   \n",
      "714         0       2  male  52.0      0      0  13.0000        S  Second   \n",
      "150         0       2  male  51.0      0      0  12.5250        S  Second   \n",
      "723         0       2  male  50.0      0      0  13.0000        S  Second   \n",
      "463         0       2  male  48.0      0      0  13.0000        S  Second   \n",
      "586         0       2  male  47.0      0      0  15.0000        S  Second   \n",
      "397         0       2  male  46.0      0      0  26.0000        S  Second   \n",
      "236         0       2  male  44.0      1      0  26.0000        S  Second   \n",
      "314         0       2  male  43.0      1      1  26.2500        S  Second   \n",
      "217         0       2  male  42.0      1      0  27.0000        S  Second   \n",
      "149         0       2  male  42.0      0      0  13.0000        S  Second   \n",
      "288         1       2  male  42.0      0      0  13.0000        S  Second   \n",
      "705         0       2  male  39.0      0      0  26.0000        S  Second   \n",
      "795         0       2  male  39.0      0      0  13.0000        S  Second   \n",
      "808         0       2  male  39.0      0      0  13.0000        S  Second   \n",
      "594         0       2  male  37.0      1      0  26.0000        S  Second   \n",
      "148         0       2  male  36.5      0      2  26.0000        S  Second   \n",
      "265         0       2  male  36.0      0      0  10.5000        S  Second   \n",
      "450         0       2  male  36.0      1      2  27.7500        S  Second   \n",
      "344         0       2  male  36.0      0      0  13.0000        S  Second   \n",
      "292         0       2  male  36.0      0      0  12.8750        C  Second   \n",
      "20          0       2  male  35.0      0      0  26.0000        S  Second   \n",
      "812         0       2  male  35.0      0      0  10.5000        S  Second   \n",
      "21          1       2  male  34.0      0      0  13.0000        S  Second   \n",
      "800         0       2  male  34.0      0      0  13.0000        S  Second   \n",
      "99          0       2  male  34.0      1      0  26.0000        S  Second   \n",
      "722         0       2  male  34.0      0      0  13.0000        S  Second   \n",
      "476         0       2  male  34.0      1      0  21.0000        S  Second   \n",
      "405         0       2  male  34.0      1      0  21.0000        S  Second   \n",
      "239         0       2  male  33.0      0      0  12.2750        S  Second   \n",
      "122         0       2  male  32.5      1      0  30.0708        C  Second   \n",
      "543         1       2  male  32.0      1      0  26.0000        S  Second   \n",
      "665         0       2  male  32.0      2      0  73.5000        S  Second   \n",
      "70          0       2  male  32.0      0      0  10.5000        S  Second   \n",
      "673         1       2  male  31.0      0      0  13.0000        S  Second   \n",
      "637         0       2  male  31.0      1      1  26.2500        S  Second   \n",
      "439         0       2  male  31.0      0      0  10.5000        S  Second   \n",
      "817         0       2  male  31.0      1      1  37.0042        C  Second   \n",
      "418         0       2  male  30.0      0      0  13.0000        S  Second   \n",
      "178         0       2  male  30.0      0      0  13.0000        S  Second   \n",
      "213         0       2  male  30.0      0      0  13.0000        S  Second   \n",
      "219         0       2  male  30.0      0      0  10.5000        S  Second   \n",
      "308         0       2  male  30.0      1      0  24.0000        C  Second   \n",
      "242         0       2  male  29.0      0      0  10.5000        S  Second   \n",
      "361         0       2  male  29.0      1      0  27.7208        C  Second   \n",
      "\n",
      "     who  adult_male deck  embark_town alive  alone  \n",
      "672  man        True  NaN  Southampton    no   True  \n",
      "33   man        True  NaN  Southampton    no   True  \n",
      "570  man        True  NaN  Southampton   yes   True  \n",
      "684  man        True  NaN  Southampton    no  False  \n",
      "232  man        True  NaN  Southampton    no   True  \n",
      "626  man        True  NaN   Queenstown    no   True  \n",
      "582  man        True  NaN  Southampton    no   True  \n",
      "317  man        True  NaN  Southampton    no   True  \n",
      "249  man        True  NaN  Southampton    no  False  \n",
      "695  man        True  NaN  Southampton    no   True  \n",
      "714  man        True  NaN  Southampton    no   True  \n",
      "150  man        True  NaN  Southampton    no   True  \n",
      "723  man        True  NaN  Southampton    no   True  \n",
      "463  man        True  NaN  Southampton    no   True  \n",
      "586  man        True  NaN  Southampton    no   True  \n",
      "397  man        True  NaN  Southampton    no   True  \n",
      "236  man        True  NaN  Southampton    no  False  \n",
      "314  man        True  NaN  Southampton    no  False  \n",
      "217  man        True  NaN  Southampton    no  False  \n",
      "149  man        True  NaN  Southampton    no   True  \n",
      "288  man        True  NaN  Southampton   yes   True  \n",
      "705  man        True  NaN  Southampton    no   True  \n",
      "795  man        True  NaN  Southampton    no   True  \n",
      "808  man        True  NaN  Southampton    no   True  \n",
      "594  man        True  NaN  Southampton    no  False  \n",
      "148  man        True    F  Southampton    no  False  \n",
      "265  man        True  NaN  Southampton    no   True  \n",
      "450  man        True  NaN  Southampton    no  False  \n",
      "344  man        True  NaN  Southampton    no   True  \n",
      "292  man        True    D    Cherbourg    no   True  \n",
      "20   man        True  NaN  Southampton    no   True  \n",
      "812  man        True  NaN  Southampton    no   True  \n",
      "21   man        True    D  Southampton   yes   True  \n",
      "800  man        True  NaN  Southampton    no   True  \n",
      "99   man        True  NaN  Southampton    no  False  \n",
      "722  man        True  NaN  Southampton    no   True  \n",
      "476  man        True  NaN  Southampton    no  False  \n",
      "405  man        True  NaN  Southampton    no  False  \n",
      "239  man        True  NaN  Southampton    no   True  \n",
      "122  man        True  NaN    Cherbourg    no  False  \n",
      "543  man        True  NaN  Southampton   yes  False  \n",
      "665  man        True  NaN  Southampton    no  False  \n",
      "70   man        True  NaN  Southampton    no   True  \n",
      "673  man        True  NaN  Southampton   yes   True  \n",
      "637  man        True  NaN  Southampton    no  False  \n",
      "439  man        True  NaN  Southampton    no   True  \n",
      "817  man        True  NaN    Cherbourg    no  False  \n",
      "418  man        True  NaN  Southampton    no   True  \n",
      "178  man        True  NaN  Southampton    no   True  \n",
      "213  man        True  NaN  Southampton    no   True  \n",
      "219  man        True  NaN  Southampton    no   True  \n",
      "308  man        True  NaN    Cherbourg    no  False  \n",
      "242  man        True  NaN  Southampton    no   True  \n",
      "361  man        True  NaN    Cherbourg    no  False  ,      survived  pclass   sex    age  sibsp  parch     fare embarked   class  \\\n",
      "117         0       2  male  29.00      1      0  21.0000        S  Second   \n",
      "848         0       2  male  28.00      0      1  33.0000        S  Second   \n",
      "342         0       2  male  28.00      0      0  13.0000        S  Second   \n",
      "883         0       2  male  28.00      0      0  10.5000        S  Second   \n",
      "562         0       2  male  28.00      0      0  13.5000        S  Second   \n",
      "886         0       2  male  27.00      0      0  13.0000        S  Second   \n",
      "551         0       2  male  27.00      0      0  26.0000        S  Second   \n",
      "221         0       2  male  27.00      0      0  13.0000        S  Second   \n",
      "619         0       2  male  26.00      0      0  10.5000        S  Second   \n",
      "728         0       2  male  25.00      1      0  26.0000        S  Second   \n",
      "685         0       2  male  25.00      1      2  41.5792        C  Second   \n",
      "134         0       2  male  25.00      0      0  13.0000        S  Second   \n",
      "343         0       2  male  25.00      0      0  13.0000        S  Second   \n",
      "666         0       2  male  25.00      0      0  13.0000        S  Second   \n",
      "234         0       2  male  24.00      0      0  10.5000        S  Second   \n",
      "864         0       2  male  24.00      0      0  13.0000        S  Second   \n",
      "655         0       2  male  24.00      2      0  73.5000        S  Second   \n",
      "658         0       2  male  23.00      0      0  13.0000        S  Second   \n",
      "734         0       2  male  23.00      0      0  13.0000        S  Second   \n",
      "398         0       2  male  23.00      0      0  10.5000        S  Second   \n",
      "733         0       2  male  23.00      0      0  13.0000        S  Second   \n",
      "529         0       2  male  23.00      2      1  11.5000        S  Second   \n",
      "135         0       2  male  23.00      0      0  15.0458        C  Second   \n",
      "861         0       2  male  21.00      1      0  11.5000        S  Second   \n",
      "120         0       2  male  21.00      2      0  73.5000        S  Second   \n",
      "72          0       2  male  21.00      0      0  73.5000        S  Second   \n",
      "191         0       2  male  19.00      0      0  13.0000        S  Second   \n",
      "238         0       2  male  19.00      0      0  10.5000        S  Second   \n",
      "145         0       2  male  19.00      1      1  36.7500        S  Second   \n",
      "226         1       2  male  19.00      0      0  10.5000        S  Second   \n",
      "228         0       2  male  18.00      0      0  13.0000        S  Second   \n",
      "757         0       2  male  18.00      0      0  11.5000        S  Second   \n",
      "144         0       2  male  18.00      0      0  11.5000        S  Second   \n",
      "385         0       2  male  18.00      0      0  73.5000        S  Second   \n",
      "841         0       2  male  16.00      0      0  10.5000        S  Second   \n",
      "791         0       2  male  16.00      0      0  26.0000        S  Second   \n",
      "549         1       2  male   8.00      1      1  36.7500        S  Second   \n",
      "407         1       2  male   3.00      1      1  18.7500        S  Second   \n",
      "193         1       2  male   3.00      1      1  26.0000        S  Second   \n",
      "340         1       2  male   2.00      1      1  26.0000        S  Second   \n",
      "827         1       2  male   1.00      0      2  37.0042        C  Second   \n",
      "183         1       2  male   1.00      2      1  39.0000        S  Second   \n",
      "831         1       2  male   0.83      1      1  18.7500        S  Second   \n",
      "78          1       2  male   0.83      0      2  29.0000        S  Second   \n",
      "755         1       2  male   0.67      1      1  14.5000        S  Second   \n",
      "17          1       2  male    NaN      0      0  13.0000        S  Second   \n",
      "181         0       2  male    NaN      0      0  15.0500        C  Second   \n",
      "277         0       2  male    NaN      0      0   0.0000        S  Second   \n",
      "413         0       2  male    NaN      0      0   0.0000        S  Second   \n",
      "466         0       2  male    NaN      0      0   0.0000        S  Second   \n",
      "481         0       2  male    NaN      0      0   0.0000        S  Second   \n",
      "547         1       2  male    NaN      0      0  13.8625        C  Second   \n",
      "674         0       2  male    NaN      0      0   0.0000        S  Second   \n",
      "732         0       2  male    NaN      0      0   0.0000        S  Second   \n",
      "\n",
      "       who  adult_male deck  embark_town alive  alone  \n",
      "117    man        True  NaN  Southampton    no  False  \n",
      "848    man        True  NaN  Southampton    no  False  \n",
      "342    man        True  NaN  Southampton    no   True  \n",
      "883    man        True  NaN  Southampton    no   True  \n",
      "562    man        True  NaN  Southampton    no   True  \n",
      "886    man        True  NaN  Southampton    no   True  \n",
      "551    man        True  NaN  Southampton    no   True  \n",
      "221    man        True  NaN  Southampton    no   True  \n",
      "619    man        True  NaN  Southampton    no   True  \n",
      "728    man        True  NaN  Southampton    no  False  \n",
      "685    man        True  NaN    Cherbourg    no  False  \n",
      "134    man        True  NaN  Southampton    no   True  \n",
      "343    man        True  NaN  Southampton    no   True  \n",
      "666    man        True  NaN  Southampton    no   True  \n",
      "234    man        True  NaN  Southampton    no   True  \n",
      "864    man        True  NaN  Southampton    no   True  \n",
      "655    man        True  NaN  Southampton    no  False  \n",
      "658    man        True  NaN  Southampton    no   True  \n",
      "734    man        True  NaN  Southampton    no   True  \n",
      "398    man        True  NaN  Southampton    no   True  \n",
      "733    man        True  NaN  Southampton    no   True  \n",
      "529    man        True  NaN  Southampton    no  False  \n",
      "135    man        True  NaN    Cherbourg    no   True  \n",
      "861    man        True  NaN  Southampton    no  False  \n",
      "120    man        True  NaN  Southampton    no  False  \n",
      "72     man        True  NaN  Southampton    no   True  \n",
      "191    man        True  NaN  Southampton    no   True  \n",
      "238    man        True  NaN  Southampton    no   True  \n",
      "145    man        True  NaN  Southampton    no  False  \n",
      "226    man        True  NaN  Southampton   yes   True  \n",
      "228    man        True  NaN  Southampton    no   True  \n",
      "757    man        True  NaN  Southampton    no   True  \n",
      "144    man        True  NaN  Southampton    no   True  \n",
      "385    man        True  NaN  Southampton    no   True  \n",
      "841    man        True  NaN  Southampton    no   True  \n",
      "791    man        True  NaN  Southampton    no   True  \n",
      "549  child       False  NaN  Southampton   yes  False  \n",
      "407  child       False  NaN  Southampton   yes  False  \n",
      "193  child       False    F  Southampton   yes  False  \n",
      "340  child       False    F  Southampton   yes  False  \n",
      "827  child       False  NaN    Cherbourg   yes  False  \n",
      "183  child       False    F  Southampton   yes  False  \n",
      "831  child       False  NaN  Southampton   yes  False  \n",
      "78   child       False  NaN  Southampton   yes  False  \n",
      "755  child       False  NaN  Southampton   yes  False  \n",
      "17     man        True  NaN  Southampton   yes   True  \n",
      "181    man        True  NaN    Cherbourg    no   True  \n",
      "277    man        True  NaN  Southampton    no   True  \n",
      "413    man        True  NaN  Southampton    no   True  \n",
      "466    man        True  NaN  Southampton    no   True  \n",
      "481    man        True  NaN  Southampton    no   True  \n",
      "547    man        True  NaN    Cherbourg   yes   True  \n",
      "674    man        True  NaN  Southampton    no   True  \n",
      "732    man        True  NaN  Southampton    no   True  )\n",
      "(     survived  pclass     sex   age  sibsp  parch   fare embarked   class  \\\n",
      "772         0       2  female  57.0      0      0  10.50        S  Second   \n",
      "15          1       2  female  55.0      0      0  16.00        S  Second   \n",
      "774         1       2  female  54.0      1      3  23.00        S  Second   \n",
      "259         1       2  female  50.0      0      1  26.00        S  Second   \n",
      "526         1       2  female  50.0      0      0  10.50        S  Second   \n",
      "458         1       2  female  50.0      0      0  10.50        S  Second   \n",
      "754         1       2  female  48.0      1      2  65.00        S  Second   \n",
      "440         1       2  female  45.0      1      1  26.25        S  Second   \n",
      "706         1       2  female  45.0      0      0  13.50        S  Second   \n",
      "854         0       2  female  44.0      1      0  26.00        S  Second   \n",
      "865         1       2  female  42.0      0      0  13.00        S  Second   \n",
      "432         1       2  female  42.0      1      0  26.00        S  Second   \n",
      "272         1       2  female  41.0      0      1  19.50        S  Second   \n",
      "346         1       2  female  40.0      0      0  13.00        S  Second   \n",
      "161         1       2  female  40.0      0      0  15.75        S  Second   \n",
      "670         1       2  female  40.0      1      1  39.00        S  Second   \n",
      "357         0       2  female  38.0      0      0  13.00        S  Second   \n",
      "327         1       2  female  36.0      0      0  13.00        S  Second   \n",
      "387         1       2  female  36.0      0      0  13.00        S  Second   \n",
      "518         1       2  female  36.0      1      0  26.00        S  Second   \n",
      "211         1       2  female  35.0      0      0  21.00        S  Second   \n",
      "98          1       2  female  34.0      0      1  23.00        S  Second   \n",
      "516         1       2  female  34.0      0      0  10.50        S  Second   \n",
      "576         1       2  female  34.0      0      0  13.00        S  Second   \n",
      "416         1       2  female  34.0      1      1  32.50        S  Second   \n",
      "506         1       2  female  33.0      0      2  26.00        S  Second   \n",
      "472         1       2  female  33.0      1      2  27.75        S  Second   \n",
      "123         1       2  female  32.5      0      0  13.00        S  Second   \n",
      "190         1       2  female  32.0      0      0  13.00        S  Second   \n",
      "801         1       2  female  31.0      1      1  26.25        S  Second   \n",
      "726         1       2  female  30.0      3      0  21.00        S  Second   \n",
      "322         1       2  female  30.0      0      0  12.35        Q  Second   \n",
      "747         1       2  female  30.0      0      0  13.00        S  Second   \n",
      "133         1       2  female  29.0      1      0  26.00        S  Second   \n",
      "66          1       2  female  29.0      0      0  10.50        S  Second   \n",
      "53          1       2  female  29.0      1      0  26.00        S  Second   \n",
      "443         1       2  female  28.0      0      0  13.00        S  Second   \n",
      "426         1       2  female  28.0      1      0  26.00        S  Second   \n",
      "\n",
      "       who  adult_male deck  embark_town alive  alone  \n",
      "772  woman       False    E  Southampton    no   True  \n",
      "15   woman       False  NaN  Southampton   yes   True  \n",
      "774  woman       False  NaN  Southampton   yes  False  \n",
      "259  woman       False  NaN  Southampton   yes  False  \n",
      "526  woman       False  NaN  Southampton   yes   True  \n",
      "458  woman       False  NaN  Southampton   yes   True  \n",
      "754  woman       False  NaN  Southampton   yes  False  \n",
      "440  woman       False  NaN  Southampton   yes  False  \n",
      "706  woman       False  NaN  Southampton   yes   True  \n",
      "854  woman       False  NaN  Southampton    no  False  \n",
      "865  woman       False  NaN  Southampton   yes   True  \n",
      "432  woman       False  NaN  Southampton   yes  False  \n",
      "272  woman       False  NaN  Southampton   yes  False  \n",
      "346  woman       False  NaN  Southampton   yes   True  \n",
      "161  woman       False  NaN  Southampton   yes   True  \n",
      "670  woman       False  NaN  Southampton   yes  False  \n",
      "357  woman       False  NaN  Southampton    no   True  \n",
      "327  woman       False    D  Southampton   yes   True  \n",
      "387  woman       False  NaN  Southampton   yes   True  \n",
      "518  woman       False  NaN  Southampton   yes  False  \n",
      "211  woman       False  NaN  Southampton   yes   True  \n",
      "98   woman       False  NaN  Southampton   yes  False  \n",
      "516  woman       False    F  Southampton   yes   True  \n",
      "576  woman       False  NaN  Southampton   yes   True  \n",
      "416  woman       False  NaN  Southampton   yes  False  \n",
      "506  woman       False  NaN  Southampton   yes  False  \n",
      "472  woman       False  NaN  Southampton   yes  False  \n",
      "123  woman       False    E  Southampton   yes   True  \n",
      "190  woman       False  NaN  Southampton   yes   True  \n",
      "801  woman       False  NaN  Southampton   yes  False  \n",
      "726  woman       False  NaN  Southampton   yes  False  \n",
      "322  woman       False  NaN   Queenstown   yes   True  \n",
      "747  woman       False  NaN  Southampton   yes   True  \n",
      "133  woman       False  NaN  Southampton   yes  False  \n",
      "66   woman       False    F  Southampton   yes   True  \n",
      "53   woman       False  NaN  Southampton   yes  False  \n",
      "443  woman       False  NaN  Southampton   yes   True  \n",
      "426  woman       False  NaN  Southampton   yes  False  ,      survived  pclass     sex   age  sibsp  parch     fare embarked   class  \\\n",
      "874         1       2  female  28.0      1      0  24.0000        C  Second   \n",
      "635         1       2  female  28.0      0      0  13.0000        S  Second   \n",
      "399         1       2  female  28.0      0      0  12.6500        S  Second   \n",
      "41          0       2  female  27.0      1      0  21.0000        S  Second   \n",
      "866         1       2  female  27.0      1      0  13.8583        C  Second   \n",
      "717         1       2  female  27.0      0      0  10.5000        S  Second   \n",
      "312         0       2  female  26.0      1      1  26.0000        S  Second   \n",
      "580         1       2  female  25.0      1      1  30.0000        S  Second   \n",
      "880         1       2  female  25.0      0      1  26.0000        S  Second   \n",
      "345         1       2  female  24.0      0      0  13.0000        S  Second   \n",
      "600         1       2  female  24.0      2      1  27.0000        S  Second   \n",
      "615         1       2  female  24.0      1      2  65.0000        S  Second   \n",
      "316         1       2  female  24.0      1      0  26.0000        S  Second   \n",
      "437         1       2  female  24.0      2      3  18.7500        S  Second   \n",
      "199         0       2  female  24.0      0      0  13.0000        S  Second   \n",
      "247         1       2  female  24.0      0      2  14.5000        S  Second   \n",
      "473         1       2  female  23.0      0      0  13.7917        C  Second   \n",
      "323         1       2  female  22.0      1      1  29.0000        S  Second   \n",
      "608         1       2  female  22.0      1      2  41.5792        C  Second   \n",
      "56          1       2  female  21.0      0      0  10.5000        S  Second   \n",
      "546         1       2  female  19.0      1      0  26.0000        S  Second   \n",
      "427         1       2  female  19.0      0      0  26.0000        S  Second   \n",
      "651         1       2  female  18.0      0      1  23.0000        S  Second   \n",
      "417         1       2  female  18.0      0      2  13.0000        S  Second   \n",
      "389         1       2  female  17.0      0      0  12.0000        C  Second   \n",
      "84          1       2  female  17.0      0      0  10.5000        S  Second   \n",
      "9           1       2  female  14.0      1      0  30.0708        C  Second   \n",
      "446         1       2  female  13.0      0      1  19.5000        S  Second   \n",
      "237         1       2  female   8.0      0      2  26.2500        S  Second   \n",
      "535         1       2  female   7.0      0      2  26.2500        S  Second   \n",
      "720         1       2  female   6.0      0      1  33.0000        S  Second   \n",
      "58          1       2  female   5.0      1      2  27.7500        S  Second   \n",
      "750         1       2  female   4.0      1      1  23.0000        S  Second   \n",
      "618         1       2  female   4.0      2      1  39.0000        S  Second   \n",
      "43          1       2  female   3.0      1      2  41.5792        C  Second   \n",
      "530         1       2  female   2.0      1      1  26.0000        S  Second   \n",
      "303         1       2  female   NaN      0      0  12.3500        Q  Second   \n",
      "596         1       2  female   NaN      0      0  33.0000        S  Second   \n",
      "\n",
      "       who  adult_male deck  embark_town alive  alone  \n",
      "874  woman       False  NaN    Cherbourg   yes  False  \n",
      "635  woman       False  NaN  Southampton   yes   True  \n",
      "399  woman       False  NaN  Southampton   yes   True  \n",
      "41   woman       False  NaN  Southampton    no  False  \n",
      "866  woman       False  NaN    Cherbourg   yes  False  \n",
      "717  woman       False    E  Southampton   yes   True  \n",
      "312  woman       False  NaN  Southampton    no  False  \n",
      "580  woman       False  NaN  Southampton   yes  False  \n",
      "880  woman       False  NaN  Southampton   yes  False  \n",
      "345  woman       False    F  Southampton   yes   True  \n",
      "600  woman       False  NaN  Southampton   yes  False  \n",
      "615  woman       False  NaN  Southampton   yes  False  \n",
      "316  woman       False  NaN  Southampton   yes  False  \n",
      "437  woman       False  NaN  Southampton   yes  False  \n",
      "199  woman       False  NaN  Southampton    no   True  \n",
      "247  woman       False  NaN  Southampton   yes  False  \n",
      "473  woman       False    D    Cherbourg   yes   True  \n",
      "323  woman       False  NaN  Southampton   yes  False  \n",
      "608  woman       False  NaN    Cherbourg   yes  False  \n",
      "56   woman       False  NaN  Southampton   yes   True  \n",
      "546  woman       False  NaN  Southampton   yes  False  \n",
      "427  woman       False  NaN  Southampton   yes   True  \n",
      "651  woman       False  NaN  Southampton   yes  False  \n",
      "417  woman       False  NaN  Southampton   yes  False  \n",
      "389  woman       False  NaN    Cherbourg   yes   True  \n",
      "84   woman       False  NaN  Southampton   yes   True  \n",
      "9    child       False  NaN    Cherbourg   yes  False  \n",
      "446  child       False  NaN  Southampton   yes  False  \n",
      "237  child       False  NaN  Southampton   yes  False  \n",
      "535  child       False  NaN  Southampton   yes  False  \n",
      "720  child       False  NaN  Southampton   yes  False  \n",
      "58   child       False  NaN  Southampton   yes  False  \n",
      "750  child       False  NaN  Southampton   yes  False  \n",
      "618  child       False    F  Southampton   yes  False  \n",
      "43   child       False  NaN    Cherbourg   yes  False  \n",
      "530  child       False  NaN  Southampton   yes  False  \n",
      "303  woman       False    E   Queenstown   yes   True  \n",
      "596  woman       False  NaN  Southampton   yes   True  )\n",
      "(     survived  pclass   sex   age  sibsp  parch     fare embarked  class  who  \\\n",
      "851         0       3  male  74.0      0      0   7.7750        S  Third  man   \n",
      "116         0       3  male  70.5      0      0   7.7500        Q  Third  man   \n",
      "280         0       3  male  65.0      0      0   7.7500        Q  Third  man   \n",
      "326         0       3  male  61.0      0      0   6.2375        S  Third  man   \n",
      "94          0       3  male  59.0      0      0   7.2500        S  Third  man   \n",
      "..        ...     ...   ...   ...    ...    ...      ...      ...    ...  ...   \n",
      "624         0       3  male  21.0      0      0  16.1000        S  Third  man   \n",
      "494         0       3  male  21.0      0      0   8.0500        S  Third  man   \n",
      "408         0       3  male  21.0      0      0   7.7750        S  Third  man   \n",
      "115         0       3  male  21.0      0      0   7.9250        S  Third  man   \n",
      "421         0       3  male  21.0      0      0   7.7333        Q  Third  man   \n",
      "\n",
      "     adult_male deck  embark_town alive  alone  \n",
      "851        True  NaN  Southampton    no   True  \n",
      "116        True  NaN   Queenstown    no   True  \n",
      "280        True  NaN   Queenstown    no   True  \n",
      "326        True  NaN  Southampton    no   True  \n",
      "94         True  NaN  Southampton    no   True  \n",
      "..          ...  ...          ...   ...    ...  \n",
      "624        True  NaN  Southampton    no   True  \n",
      "494        True  NaN  Southampton    no   True  \n",
      "408        True  NaN  Southampton    no   True  \n",
      "115        True  NaN  Southampton    no   True  \n",
      "421        True  NaN   Queenstown    no   True  \n",
      "\n",
      "[173 rows x 15 columns],      survived  pclass   sex   age  sibsp  parch     fare embarked  class  who  \\\n",
      "836         0       3  male  21.0      0      0   8.6625        S  Third  man   \n",
      "173         0       3  male  21.0      0      0   7.9250        S  Third  man   \n",
      "491         0       3  male  21.0      0      0   7.2500        S  Third  man   \n",
      "227         0       3  male  20.5      0      0   7.2500        S  Third  man   \n",
      "12          0       3  male  20.0      0      0   8.0500        S  Third  man   \n",
      "..        ...     ...   ...   ...    ...    ...      ...      ...    ...  ...   \n",
      "837         0       3  male   NaN      0      0   8.0500        S  Third  man   \n",
      "846         0       3  male   NaN      8      2  69.5500        S  Third  man   \n",
      "859         0       3  male   NaN      0      0   7.2292        C  Third  man   \n",
      "868         0       3  male   NaN      0      0   9.5000        S  Third  man   \n",
      "878         0       3  male   NaN      0      0   7.8958        S  Third  man   \n",
      "\n",
      "     adult_male deck  embark_town alive  alone  \n",
      "836        True  NaN  Southampton    no   True  \n",
      "173        True  NaN  Southampton    no   True  \n",
      "491        True  NaN  Southampton    no   True  \n",
      "227        True  NaN  Southampton    no   True  \n",
      "12         True  NaN  Southampton    no   True  \n",
      "..          ...  ...          ...   ...    ...  \n",
      "837        True  NaN  Southampton    no   True  \n",
      "846        True  NaN  Southampton    no  False  \n",
      "859        True  NaN    Cherbourg    no   True  \n",
      "868        True  NaN  Southampton    no   True  \n",
      "878        True  NaN  Southampton    no   True  \n",
      "\n",
      "[174 rows x 15 columns])\n",
      "(     survived  pclass     sex   age  sibsp  parch     fare embarked  class  \\\n",
      "483         1       3  female  63.0      0      0   9.5875        S  Third   \n",
      "736         0       3  female  48.0      1      3  34.3750        S  Third   \n",
      "132         0       3  female  47.0      1      0  14.5000        S  Third   \n",
      "167         0       3  female  45.0      1      4  27.9000        S  Third   \n",
      "276         0       3  female  45.0      0      0   7.7500        S  Third   \n",
      "..        ...     ...     ...   ...    ...    ...      ...      ...    ...   \n",
      "114         0       3  female  17.0      0      0  14.4583        C  Third   \n",
      "68          1       3  female  17.0      4      2   7.9250        S  Third   \n",
      "156         1       3  female  16.0      0      0   7.7333        Q  Third   \n",
      "208         1       3  female  16.0      0      0   7.7500        Q  Third   \n",
      "71          0       3  female  16.0      5      2  46.9000        S  Third   \n",
      "\n",
      "       who  adult_male deck  embark_town alive  alone  \n",
      "483  woman       False  NaN  Southampton   yes   True  \n",
      "736  woman       False  NaN  Southampton    no  False  \n",
      "132  woman       False  NaN  Southampton    no  False  \n",
      "167  woman       False  NaN  Southampton    no  False  \n",
      "276  woman       False  NaN  Southampton    no   True  \n",
      "..     ...         ...  ...          ...   ...    ...  \n",
      "114  woman       False  NaN    Cherbourg    no   True  \n",
      "68   woman       False  NaN  Southampton   yes  False  \n",
      "156  woman       False  NaN   Queenstown   yes   True  \n",
      "208  woman       False  NaN   Queenstown   yes   True  \n",
      "71   woman       False  NaN  Southampton    no  False  \n",
      "\n",
      "[72 rows x 15 columns],      survived  pclass     sex   age  sibsp  parch     fare embarked  class  \\\n",
      "22          1       3  female  15.0      0      0   8.0292        Q  Third   \n",
      "875         1       3  female  15.0      0      0   7.2250        C  Third   \n",
      "830         1       3  female  15.0      1      0  14.4542        C  Third   \n",
      "111         0       3  female  14.5      1      0  14.4542        C  Third   \n",
      "39          1       3  female  14.0      1      0  11.2417        C  Third   \n",
      "..        ...     ...     ...   ...    ...    ...      ...      ...    ...   \n",
      "697         1       3  female   NaN      0      0   7.7333        Q  Third   \n",
      "727         1       3  female   NaN      0      0   7.7375        Q  Third   \n",
      "792         0       3  female   NaN      8      2  69.5500        S  Third   \n",
      "863         0       3  female   NaN      8      2  69.5500        S  Third   \n",
      "888         0       3  female   NaN      1      2  23.4500        S  Third   \n",
      "\n",
      "       who  adult_male deck  embark_town alive  alone  \n",
      "22   child       False  NaN   Queenstown   yes   True  \n",
      "875  child       False  NaN    Cherbourg   yes   True  \n",
      "830  child       False  NaN    Cherbourg   yes  False  \n",
      "111  child       False  NaN    Cherbourg    no  False  \n",
      "39   child       False  NaN    Cherbourg   yes  False  \n",
      "..     ...         ...  ...          ...   ...    ...  \n",
      "697  woman       False  NaN   Queenstown   yes   True  \n",
      "727  woman       False  NaN   Queenstown   yes   True  \n",
      "792  woman       False  NaN  Southampton    no  False  \n",
      "863  woman       False  NaN  Southampton    no  False  \n",
      "888  woman       False  NaN  Southampton    no  False  \n",
      "\n",
      "[72 rows x 15 columns])\n"
     ]
    }
   ],
   "source": [
    "#2 Разделите на две возрастные группы такие, что в них входят одинаковое количество пассажиров определенного класса. Определить такие группы для каждого пола (male/female)\n",
    "def group(pclass, sex):\n",
    "    sort = titanic[(titanic['pclass']==pclass)&(titanic['sex']==sex)].sort_values(by=\"age\", ascending = False)\n",
    "    first = sort[:len(sort)//2]\n",
    "    second = sort[len(sort)//2:]\n",
    "    return first, second\n",
    "\n",
    "\n",
    "for pclass in range(1, 4):\n",
    "    for sex in ['male', 'female']:\n",
    "        print(group(pclass, sex))"
   ],
   "metadata": {
    "collapsed": false
   }
  },
  {
   "cell_type": "markdown",
   "source": [],
   "metadata": {
    "collapsed": false
   }
  },
  {
   "cell_type": "code",
   "execution_count": 74,
   "outputs": [
    {
     "name": "stdout",
     "output_type": "stream",
     "text": [
      "   male younger  male older  female younger  female older\n",
      "1      0.509804    0.280000        0.953488      0.976190\n",
      "2      0.200000    0.102041        0.918919      0.918919\n",
      "3      0.157480    0.142857        0.490196      0.431373\n"
     ]
    }
   ],
   "source": [
    "#3 На основе полученных групп определите доли выживших. (должно получится 12 чисел)\n",
    "\n",
    "mo1, my1 = group(1, 'male')\n",
    "mo2, my2 = group(2, 'male')\n",
    "mo3, my3 = group(3, 'male')\n",
    "fo1, fy1 = group(1, 'female')\n",
    "fo2, fy2 = group(2, 'female')\n",
    "fo3, fy3 = group(3, 'female')\n",
    "\n",
    "survived = pd.DataFrame({\"male younger\": [my1['survived'].mean(), my2['survived'].mean() , my3['survived'].mean()],\n",
    "\"male older\": [mo1['survived'].mean(), mo2['survived'].mean() , mo3['survived'].mean()],\n",
    "\"female younger\": [fy1['survived'].mean(), fy2['survived'].mean() , fy3['survived'].mean()],\n",
    "\"female older\": [fo1['survived'].mean(), fo2['survived'].mean() , fo3['survived'].mean()]}, index = [\"1\", \"2\", \"3\"])\n",
    "print(survived)"
   ],
   "metadata": {
    "collapsed": false
   }
  },
  {
   "cell_type": "code",
   "execution_count": 78,
   "outputs": [
    {
     "name": "stdout",
     "output_type": "stream",
     "text": [
      "females:  28.84771573604061 males:  27.276021505376345\n"
     ]
    }
   ],
   "source": [
    "#4 Найдите средний возраст выжившего для каждого из полов на основе полного набора данных\n",
    "females = titanic[(titanic['sex']=='female')&(titanic['survived']==1)].agg({'age': 'mean'})[0]\n",
    "males = titanic[(titanic['sex']=='male')&(titanic['survived']==1)].agg({'age': 'mean'})[0]\n",
    "\n",
    "print(\"females: \", females, \"males: \", males)"
   ],
   "metadata": {
    "collapsed": false
   }
  },
  {
   "cell_type": "code",
   "execution_count": 79,
   "outputs": [
    {
     "data": {
      "text/plain": "14.950951984140428"
     },
     "execution_count": 79,
     "metadata": {},
     "output_type": "execute_result"
    }
   ],
   "source": [
    "# 5 Найдите несмещенное среднеквадратическое отклонение возраста для выживших\n",
    "titanic[titanic['survived']==1]['age'].std()"
   ],
   "metadata": {
    "collapsed": false
   }
  },
  {
   "cell_type": "code",
   "execution_count": 82,
   "outputs": [
    {
     "data": {
      "text/plain": "<Figure size 640x480 with 1 Axes>",
      "image/png": "[encoded data removed]"
     },
     "metadata": {},
     "output_type": "display_data"
    }
   ],
   "source": [
    "#6 Постройте график зависимости доли выживаемости от возроста\n",
    "x=[]\n",
    "y=[]\n",
    "for i in range(20):\n",
    "    x.append(i*5)\n",
    "    y.append(titanic[(titanic['age']>=5*i)&(titanic['age']<5*(i+1))].agg({'survived': 'mean'})[0])\n",
    "plt.title(\"Зависимость доли выживаемости от возраста\")\n",
    "plt.plot(x,y)\n",
    "plt.show()"
   ],
   "metadata": {
    "collapsed": false
   }
  },
  {
   "cell_type": "code",
   "execution_count": 84,
   "outputs": [
    {
     "data": {
      "text/plain": "<Figure size 640x480 with 2 Axes>",
      "image/png": "[encoded data removed]"
     },
     "metadata": {},
     "output_type": "display_data"
    }
   ],
   "source": [
    "#7 Постройте куммулятивный график выживаемости в зависимости от возраста для разных полов\n",
    "xfemale=[]\n",
    "yfemale=[]\n",
    "for i in range(20):\n",
    "    yfemale.append(titanic[(titanic['age']>=5*i)&(titanic['age']<5*(i+1))&(titanic['sex']=='female')].agg({'survived': 'mean'})[0])\n",
    "    xfemale.append(i*5)\n",
    "xmale=[]\n",
    "ymale=[]\n",
    "for i in range(20):\n",
    "    ymale.append(titanic[(titanic['age']>=5*i)&(titanic['age']<5*(i+1))&(titanic['sex']=='male')].agg({'survived': 'mean'})[0])\n",
    "    xmale.append(i*5)\n",
    "\n",
    "f, (ax1, ax2) = plt.subplots(1, 2)\n",
    "ax1.plot(xfemale, yfemale)\n",
    "ax1.set_title('female')\n",
    "ax2.plot(xmale, ymale)\n",
    "ax2.set_title('male')\n",
    "plt.show()"
   ],
   "metadata": {
    "collapsed": false
   }
  },
  {
   "cell_type": "code",
   "execution_count": 85,
   "outputs": [
    {
     "data": {
      "text/plain": "28693.9493"
     },
     "execution_count": 85,
     "metadata": {},
     "output_type": "execute_result"
    }
   ],
   "source": [
    "#8 Определите общие расходы пассажиров\n",
    "general_charges = titanic[\"fare\"].sum()\n",
    "general_charges"
   ],
   "metadata": {
    "collapsed": false
   }
  }
 ],
 "metadata": {
  "kernelspec": {
   "display_name": "Python 3 (ipykernel)",
   "language": "python",
   "name": "python3"
  },
  "language_info": {
   "codemirror_mode": {
    "name": "ipython",
    "version": 3
   },
   "file_extension": ".py",
   "mimetype": "text/x-python",
   "name": "python",
   "nbconvert_exporter": "python",
   "pygments_lexer": "ipython3",
   "version": "3.9.12"
  }
 },
 "nbformat": 4,
 "nbformat_minor": 5
}
