{
 "cells": [
  {
   "cell_type": "markdown",
   "id": "101e7402",
   "metadata": {},
   "source": [
    "# Продолжение numpy, matplotlib\n",
    "\n",
    "В прошлый раз мы научились работать с массивами в numpy. В этот раз мы узнаем о дополнительном функционале в библиотеке numpy и попрактикуемся чуть больше в визуализации."
   ]
  },
  {
   "cell_type": "markdown",
   "id": "3269bdbd",
   "metadata": {},
   "source": [
    "## Объекты\n",
    "В стандартный набор для работы с массивами входят следующие функции:\n",
    "- `np.arange` -- возвращает массив точек на равноудаленных с определенным шагом (по умолчанию шаг=1)\n",
    "- `numpy.linspace` -- возвращает массив определенно количества точек между заданными границами\n",
    "- `numpy.logspace` -- возвращает массив определенно количества точек между заданными границами в логарифмическом масштабе\n",
    "- `np.eye` -- создает двумерный массив в виде единичной матрицы\n",
    "- `np.ones` -- создает массив определенного размера заполненный 1\n",
    "- `np.zeros` -- создает массив определенного размера заполненный 0"
   ]
  },
  {
   "cell_type": "code",
   "execution_count": 1,
   "id": "162a747b",
   "metadata": {},
   "outputs": [
    {
     "name": "stdout",
     "output_type": "stream",
     "text": [
      "arange(3) [0 1 2]\n",
      "arange(-3, 3) [-3 -2 -1  0  1  2]\n",
      "arange(3, 10.1, 1) [ 3.  4.  5.  6.  7.  8.  9. 10.]\n",
      "linspace(3, 10, 8) [ 3.  4.  5.  6.  7.  8.  9. 10.]\n",
      "logspace(-4, 0, 5) [1.e-04 1.e-03 1.e-02 1.e-01 1.e+00]\n",
      "eye(5)\n",
      " [[1. 0. 0. 0. 0.]\n",
      " [0. 1. 0. 0. 0.]\n",
      " [0. 0. 1. 0. 0.]\n",
      " [0. 0. 0. 1. 0.]\n",
      " [0. 0. 0. 0. 1.]]\n",
      "ones(10) [1. 1. 1. 1. 1. 1. 1. 1. 1. 1.]\n",
      "zeros(10) [0. 0. 0. 0. 0. 0. 0. 0. 0. 0.]\n"
     ]
    }
   ],
   "source": [
    "import numpy as np\n",
    "\n",
    "print(\"arange(3)\", np.arange(3))\n",
    "print(\"arange(-3, 3)\", np.arange(-3, 3))\n",
    "print(\"arange(3, 10.1, 1)\", np.arange(3, 10.1, 1))\n",
    "print(\"linspace(3, 10, 8)\", np.linspace(3, 10, 8))\n",
    "print(\"logspace(-4, 0, 5)\", np.logspace(-4, 0, 5))\n",
    "print(\"eye(5)\\n\", np.eye(5))\n",
    "print(\"ones(10)\", np.ones(10))\n",
    "print(\"zeros(10)\", np.zeros(10))"
   ]
  },
  {
   "cell_type": "markdown",
   "id": "ab09e4a3",
   "metadata": {},
   "source": [
    "## Методы объектов\n",
    "\n",
    "Для каждого массива определены следующие методы (операции, которые можно совершать с массивом из **коробки**):\n",
    "- `sum` -- просуммировать элементы\n",
    "- `mean` -- усреднить элементы\n",
    "- `std` -- посчитать среднеквадратичное отклонение\n",
    "- `min` -- найти значение минимального элемента\n",
    "- `max` -- найти значение максимального элемента\n",
    "- `argmin` -- найти индекс минимального элемента\n",
    "- `argmax` -- найти значение максимального элемента\n",
    "- `tolist` -- превратить массив в список\n",
    "- `tobytes` -- превратить массив в байт-строку"
   ]
  },
  {
   "cell_type": "code",
   "execution_count": 2,
   "id": "4923fae3",
   "metadata": {},
   "outputs": [
    {
     "name": "stdout",
     "output_type": "stream",
     "text": [
      "[[ 0.  1.  2.  3.  4.  5.]\n",
      " [ 6.  7.  8.  9. 10. 11.]\n",
      " [12. 13. 14. 15. 16. 17.]\n",
      " [18. 19. 20. 21. 22. 23.]\n",
      " [24. 25. 26. 27. 28. 29.]\n",
      " [30. 31. 32. 33. 34. 35.]] \n",
      "\n",
      "[ 15.  51.  87. 123. 159. 195.] \n",
      "\n",
      "[15. 16. 17. 18. 19. 20.] \n",
      "\n",
      "10.388294694831615 \n",
      "\n",
      "0 \n",
      "\n",
      "[5 5 5 5 5 5] \n",
      "\n",
      "[[0.0, 1.0, 2.0, 3.0, 4.0, 5.0], [6.0, 7.0, 8.0, 9.0, 10.0, 11.0], [12.0, 13.0, 14.0, 15.0, 16.0, 17.0], [18.0, 19.0, 20.0, 21.0, 22.0, 23.0], [24.0, 25.0, 26.0, 27.0, 28.0, 29.0], [30.0, 31.0, 32.0, 33.0, 34.0, 35.0]] \n",
      "\n",
      "b'\\x00\\x00\\x00\\x00\\x00\\x00\\x00\\x00\\x00\\x00\\x00\\x00\\x00\\x00\\xf0?\\x00\\x00\\x00\\x00\\x00\\x00\\x00@\\x00\\x00\\x00\\x00\\x00\\x00\\x08@\\x00\\x00\\x00\\x00\\x00\\x00\\x10@\\x00\\x00\\x00\\x00\\x00\\x00\\x14@\\x00\\x00\\x00\\x00\\x00\\x00\\x18@\\x00\\x00\\x00\\x00\\x00\\x00\\x1c@\\x00\\x00\\x00\\x00\\x00\\x00 @\\x00\\x00\\x00\\x00\\x00\\x00\"@\\x00\\x00\\x00\\x00\\x00\\x00$@\\x00\\x00\\x00\\x00\\x00\\x00&@\\x00\\x00\\x00\\x00\\x00\\x00(@\\x00\\x00\\x00\\x00\\x00\\x00*@\\x00\\x00\\x00\\x00\\x00\\x00,@\\x00\\x00\\x00\\x00\\x00\\x00.@\\x00\\x00\\x00\\x00\\x00\\x000@\\x00\\x00\\x00\\x00\\x00\\x001@\\x00\\x00\\x00\\x00\\x00\\x002@\\x00\\x00\\x00\\x00\\x00\\x003@\\x00\\x00\\x00\\x00\\x00\\x004@\\x00\\x00\\x00\\x00\\x00\\x005@\\x00\\x00\\x00\\x00\\x00\\x006@\\x00\\x00\\x00\\x00\\x00\\x007@\\x00\\x00\\x00\\x00\\x00\\x008@\\x00\\x00\\x00\\x00\\x00\\x009@\\x00\\x00\\x00\\x00\\x00\\x00:@\\x00\\x00\\x00\\x00\\x00\\x00;@\\x00\\x00\\x00\\x00\\x00\\x00<@\\x00\\x00\\x00\\x00\\x00\\x00=@\\x00\\x00\\x00\\x00\\x00\\x00>@\\x00\\x00\\x00\\x00\\x00\\x00?@\\x00\\x00\\x00\\x00\\x00\\x00@@\\x00\\x00\\x00\\x00\\x00\\x80@@\\x00\\x00\\x00\\x00\\x00\\x00A@\\x00\\x00\\x00\\x00\\x00\\x80A@' \n",
      "\n"
     ]
    }
   ],
   "source": [
    "import numpy as np\n",
    "\n",
    "array = np.linspace(0, 35, 36).reshape(6, 6)\n",
    "\n",
    "print(array, \"\\n\")\n",
    "print(array.sum(axis=1), \"\\n\")\n",
    "print(array.mean(axis=0), \"\\n\")\n",
    "print(array.std(axis=(0, 1)), \"\\n\")\n",
    "print(array.argmin(), \"\\n\")\n",
    "print(array.argmax(axis=1), \"\\n\")\n",
    "print(array.tolist(), \"\\n\")\n",
    "print(array.tobytes(), \"\\n\")"
   ]
  },
  {
   "cell_type": "markdown",
   "id": "5615fcce",
   "metadata": {},
   "source": [
    "## Случайности\n",
    "\n",
    "В numpy реализован также пакет для работы со случайными величинами.\n",
    "\n",
    "В реальности, абсолютную случайность достичь невозможно. Никакой алгоритм не может повторить природную случайность. Поэтому при работе с алгоритмами, которые основаны на случайном выборе, говорят о псевдослучайности. Псевдослучайность -- математический алгоритм получения псевдослучайных величин.\n",
    "\n",
    "Псевдослучайны алгортмы могут давать длинную последовательность независимых событий. Повторяются они не очень быстро (можете попробовать проверить).\n",
    "\n",
    "Для псевдопоследовательности вводится понятие `seed`. Это параметр, который формально определяет начало нашей псевдопоследовательности. `seed` фиксируется для воспроизведения псевдо-эксперимента.\n",
    "\n",
    "Модуль, который отвечает за случайные величины находится по пути\n",
    "```python\n",
    "import numpy as np\n",
    "np.random\n",
    "```\n",
    "Рассмотрим основные функции:\n",
    "- `normal` -- нормальное распределение\n",
    "- `poisson` -- распределение Пуассона\n",
    "- `randint` -- равномерное распределение целых чисел\n",
    "- `rand` -- равномерное распределение на отрезке [0, 1]\n",
    "- `seed` -- устанавливает `seed` псевдослучайной последовательности"
   ]
  },
  {
   "cell_type": "code",
   "execution_count": 3,
   "id": "43e88286",
   "metadata": {},
   "outputs": [
    {
     "name": "stdout",
     "output_type": "stream",
     "text": [
      "[ 59.6714153   -3.82643012  74.76885381 162.30298564 -13.41533747\n",
      " -13.41369569 167.92128155  86.74347292 -36.94743859  64.25600436] \n",
      "\n",
      "[ 7  8  9 11  8 10  7 11 11  8 12  6  7  8 10] \n",
      "\n",
      "[17 11  1  9  3 13 15 14  7 13  7 15 12 17 14 12  8 14 12  0  6  8  0] \n",
      "\n",
      "[0.19871568 0.00552212 0.81546143 0.70685734 0.72900717 0.77127035\n",
      " 0.07404465 0.35846573 0.11586906 0.86310343 0.62329813 0.33089802] \n",
      "\n"
     ]
    }
   ],
   "source": [
    "import numpy as np\n",
    "\n",
    "np.random.seed(42)\n",
    "print(np.random.normal(10, 100, size=10), \"\\n\")\n",
    "print(np.random.poisson(10, size=15), \"\\n\")\n",
    "print(np.random.randint(20, size=23), \"\\n\")\n",
    "print(np.random.rand(12), \"\\n\")"
   ]
  },
  {
   "cell_type": "markdown",
   "id": "9b50837f",
   "metadata": {},
   "source": [
    "### numpy Задание\n",
    "\n",
    "1. Выставьте `seed` случайной последовательности в 1\n",
    "2. Сгенерируйте массив из 120 случайных равномернораспределенных чисел с отрезка [0, 1]\n",
    "3. Посчитайте среднее, среднеквадратичное отклонение и сумму для элементов предыдущего массива\n",
    "4. Превратите одномерный массив в двумерный размерности (12, 10)\n",
    "5. Посчитайте среднее, среднеквадратичное отклонение и сумму для элементов предыдущего массива вдоль направлений 0, 1 (для каждой величины должно быть по два вычисления)\n",
    "6. Найдите минимальные и максимальные значения в каждом столбце двумерного массива\n",
    "8. Найдите индексы минимальных и максимальных элементов в каждой строке двумерного массива"
   ]
  },
  {
   "cell_type": "code",
   "execution_count": null,
   "id": "2dfb61c0",
   "metadata": {},
   "outputs": [],
   "source": [
    "import numpy as np\n",
    "\n",
    "np.random.seed(1)"
   ]
  },
  {
   "cell_type": "code",
   "execution_count": 3,
   "id": "57ad7978",
   "metadata": {},
   "outputs": [
    {
     "name": "stdout",
     "output_type": "stream",
     "text": [
      "[0.78248967 0.00581413 0.99222998 0.2779903  0.00763352 0.07230867\n",
      " 0.49540152 0.99343811 0.28676626 0.97618582 0.74563393 0.62244506\n",
      " 0.14695469 0.97078093 0.10032189 0.13014687 0.26637461 0.00353934\n",
      " 0.14011547 0.30069167 0.46278599 0.37893006 0.22405674 0.8826284\n",
      " 0.18250938 0.79541589 0.36594141 0.2868551  0.97941408 0.75932574\n",
      " 0.55032252 0.68045236 0.45329818 0.83315114 0.30928006 0.55470647\n",
      " 0.42293115 0.51791917 0.79960026 0.70007307 0.07906673 0.8704998\n",
      " 0.56836505 0.10256231 0.29098495 0.30548653 0.68108006 0.89760633\n",
      " 0.56640037 0.27941543 0.0962919  0.10392333 0.53667253 0.45901312\n",
      " 0.92432222 0.16942818 0.90585722 0.65242237 0.00977764 0.22737278\n",
      " 0.42106914 0.07385734 0.95888383 0.85351186 0.00718739 0.72578712\n",
      " 0.75395116 0.70049994 0.22633217 0.80150199 0.44021234 0.65454784\n",
      " 0.76056007 0.6430676  0.17736236 0.21090938 0.24646911 0.47377543\n",
      " 0.49510809 0.15185773 0.7091902  0.13217406 0.48300535 0.62745616\n",
      " 0.27831583 0.63568555 0.76807201 0.52365205 0.14624232 0.43206446\n",
      " 0.49497217 0.0603493  0.79910739 0.73395653 0.56821916 0.66625379\n",
      " 0.57501407 0.87979934 0.84481587 0.83445201 0.11429843 0.70346906\n",
      " 0.07010959 0.28189989 0.15536746 0.63027134 0.86677723 0.90183604\n",
      " 0.98170059 0.98633942 0.59063955 0.63935913 0.56112608 0.68591494\n",
      " 0.4246427  0.53717496 0.27878321 0.57255718 0.42392363 0.21913511] \n",
      "\n"
     ]
    }
   ],
   "source": [
    "print(np.random.rand(120), \"\\n\")"
   ]
  },
  {
   "cell_type": "code",
   "execution_count": 22,
   "id": "b1864478",
   "metadata": {},
   "outputs": [
    {
     "name": "stdout",
     "output_type": "stream",
     "text": [
      "0.5010260890588503 \n",
      "\n",
      "0.3016583383967994 \n",
      "\n",
      "60.12313068706203 \n",
      "\n"
     ]
    }
   ],
   "source": [
    "\n",
    "np.random.seed(1)\n",
    "array = np.random.rand(120)\n",
    "print(array.mean(), \"\\n\")\n",
    "print(array.std(), \"\\n\")\n",
    "print(array.sum(), \"\\n\")"
   ]
  },
  {
   "cell_type": "code",
   "execution_count": 23,
   "id": "47e46752",
   "metadata": {},
   "outputs": [
    {
     "name": "stdout",
     "output_type": "stream",
     "text": [
      "[[4.17022005e-01 7.20324493e-01 1.14374817e-04 3.02332573e-01\n",
      "  1.46755891e-01 9.23385948e-02 1.86260211e-01 3.45560727e-01\n",
      "  3.96767474e-01 5.38816734e-01]\n",
      " [4.19194514e-01 6.85219500e-01 2.04452250e-01 8.78117436e-01\n",
      "  2.73875932e-02 6.70467510e-01 4.17304802e-01 5.58689828e-01\n",
      "  1.40386939e-01 1.98101489e-01]\n",
      " [8.00744569e-01 9.68261576e-01 3.13424178e-01 6.92322616e-01\n",
      "  8.76389152e-01 8.94606664e-01 8.50442114e-02 3.90547832e-02\n",
      "  1.69830420e-01 8.78142503e-01]\n",
      " [9.83468338e-02 4.21107625e-01 9.57889530e-01 5.33165285e-01\n",
      "  6.91877114e-01 3.15515631e-01 6.86500928e-01 8.34625672e-01\n",
      "  1.82882773e-02 7.50144315e-01]\n",
      " [9.88861089e-01 7.48165654e-01 2.80443992e-01 7.89279328e-01\n",
      "  1.03226007e-01 4.47893526e-01 9.08595503e-01 2.93614148e-01\n",
      "  2.87775339e-01 1.30028572e-01]\n",
      " [1.93669579e-02 6.78835533e-01 2.11628116e-01 2.65546659e-01\n",
      "  4.91573159e-01 5.33625451e-02 5.74117605e-01 1.46728575e-01\n",
      "  5.89305537e-01 6.99758360e-01]\n",
      " [1.02334429e-01 4.14055988e-01 6.94400158e-01 4.14179270e-01\n",
      "  4.99534589e-02 5.35896406e-01 6.63794645e-01 5.14889112e-01\n",
      "  9.44594756e-01 5.86555041e-01]\n",
      " [9.03401915e-01 1.37474704e-01 1.39276347e-01 8.07391289e-01\n",
      "  3.97676837e-01 1.65354197e-01 9.27508580e-01 3.47765860e-01\n",
      "  7.50812103e-01 7.25997985e-01]\n",
      " [8.83306091e-01 6.23672207e-01 7.50942434e-01 3.48898342e-01\n",
      "  2.69927892e-01 8.95886218e-01 4.28091190e-01 9.64840047e-01\n",
      "  6.63441498e-01 6.21695720e-01]\n",
      " [1.14745973e-01 9.49489259e-01 4.49912133e-01 5.78389614e-01\n",
      "  4.08136803e-01 2.37026980e-01 9.03379521e-01 5.73679487e-01\n",
      "  2.87032703e-03 6.17144914e-01]\n",
      " [3.26644902e-01 5.27058102e-01 8.85942099e-01 3.57269760e-01\n",
      "  9.08535151e-01 6.23360116e-01 1.58212428e-02 9.29437234e-01\n",
      "  6.90896918e-01 9.97322850e-01]\n",
      " [1.72340508e-01 1.37135750e-01 9.32595463e-01 6.96818161e-01\n",
      "  6.60001727e-02 7.55463053e-01 7.53876188e-01 9.23024536e-01\n",
      "  7.11524759e-01 1.24270962e-01]]\n"
     ]
    }
   ],
   "source": [
    "array = array.reshape(12, 10)\n",
    "print(array)"
   ]
  },
  {
   "cell_type": "code",
   "execution_count": 24,
   "id": "73c7350a",
   "metadata": {},
   "outputs": [
    {
     "name": "stdout",
     "output_type": "stream",
     "text": [
      "[0.31462931 0.41993219 0.57178207 0.53074612 0.49778832 0.3730223\n",
      " 0.49206533 0.53026598 0.64507016 0.4834775  0.62622884 0.52730496] \n",
      "\n",
      "[0.43719248 0.58423337 0.48508509 0.55530919 0.3697866  0.47393095\n",
      " 0.54585789 0.53932583 0.44720786 0.57233162] \n",
      "\n",
      "[0.20644137 0.26271989 0.35553253 0.29683083 0.31369062 0.24851814\n",
      " 0.25418269 0.30854284 0.22583132 0.29376577 0.30422129 0.33769616] \n",
      "\n",
      "[0.34658708 0.25905538 0.32658399 0.2065622  0.30417984 0.28848411\n",
      " 0.30765386 0.30398003 0.30498824 0.27200111] \n",
      "\n",
      "[3.14629308 4.19932186 5.71782067 5.30746121 4.97788316 3.73022305\n",
      " 4.92065326 5.30265982 6.45070164 4.83477501 6.26228837 5.27304955] \n",
      "\n",
      "[5.24630979 7.01080039 5.82102108 6.66371033 4.43743923 5.68717144\n",
      " 6.55029463 6.47191001 5.36649435 6.86797945] \n",
      "\n",
      "[0.98886109 0.96826158 0.95788953 0.87811744 0.90853515 0.89588622\n",
      " 0.92750858 0.96484005 0.94459476 0.99732285] \n",
      "\n",
      "[1.93669579e-02 1.37135750e-01 1.14374817e-04 2.65546659e-01\n",
      " 2.73875932e-02 5.33625451e-02 1.58212428e-02 3.90547832e-02\n",
      " 2.87032703e-03 1.24270962e-01] \n",
      "\n",
      "[1 3 1 2 0 9 8 6 7 1 9 2] \n",
      "\n",
      "[2 4 7 8 4 0 4 1 4 8 6 4] \n",
      "\n"
     ]
    }
   ],
   "source": [
    "print(array.mean(axis = 1), \"\\n\")\n",
    "print(array.mean(axis = 0), \"\\n\")\n",
    "print(array.std(axis = 1), \"\\n\")\n",
    "print(array.std(axis = 0), \"\\n\")\n",
    "print(array.sum(axis = 1), \"\\n\")\n",
    "print(array.sum(axis = 0), \"\\n\")\n",
    "print(array.max(axis=0), \"\\n\")\n",
    "print(array.min(axis=0), \"\\n\")\n",
    "print(array.argmax(axis = 1), \"\\n\")\n",
    "print(array.argmin(axis = 1), \"\\n\")"
   ]
  },
  {
   "cell_type": "code",
   "execution_count": null,
   "id": "dff8d291",
   "metadata": {},
   "outputs": [],
   "source": []
  },
  {
   "cell_type": "markdown",
   "id": "7be1bb74",
   "metadata": {},
   "source": [
    "## Еще больше рисования\n",
    "\n",
    "В прошлый раз был разобран метод рисовки ломаной кривой и точек с *усами*. В этот раз предстоит узнать о гистограммах и просто точечных изображениях.\n",
    "\n",
    "Гистограммы применимы в случае экспериентов с большим количеством повторений. Например, количество частиц на счетчике Гейгера за определенный промежуток времени.\n",
    "\n",
    "Посмотрим на следующий пример, который генирирует по распределению Пуассона 10000 событий, а затем отображает их."
   ]
  },
  {
   "cell_type": "code",
   "execution_count": null,
   "id": "85b41721",
   "metadata": {},
   "outputs": [],
   "source": []
  },
  {
   "cell_type": "code",
   "execution_count": 4,
   "id": "b9fba0cd",
   "metadata": {},
   "outputs": [
    {
     "data": {
      "image/png": "[encoded data removed]",
      "text/plain": [
       "<Figure size 1080x331.2 with 3 Axes>"
      ]
     },
     "metadata": {
      "needs_background": "light"
     },
     "output_type": "display_data"
    }
   ],
   "source": [
    "import numpy as np\n",
    "from matplotlib import pyplot as plt\n",
    "\n",
    "np.random.seed(42)\n",
    "data = np.random.poisson(5, size=(10000,))\n",
    "\n",
    "fig, axs = plt.subplots(1, 3, figsize=(15, 4.6))\n",
    "\n",
    "axs[0].hist(data, label=\"coarse hist\")\n",
    "axs[1].hist(data, \"auto\", label=\"fine hist\")\n",
    "axs[2].hist(data, np.array([0, 4, 5, 6, 8.5, 9, 9.5, 10, 10.5, 15]), label=\"sad hist\")\n",
    "\n",
    "titles = [\"Strange data\", \"Interesting data\", \"Weird master\"]\n",
    "for ax, title in zip(axs, titles):\n",
    "    ax.set_title(title)\n",
    "    ax.set_ylabel(\"Events\")\n",
    "    ax.set_xlabel(\"value\")\n",
    "    ax.legend()\n",
    "\n",
    "plt.tight_layout()"
   ]
  },
  {
   "cell_type": "markdown",
   "id": "91488dd7",
   "metadata": {},
   "source": [
    "`pyplot.subplots` -- создает фигуру с несколькими окнами для отрисовки данных\n",
    "\n",
    "Как видно, одни те же данные могут быть совсем по разному отображены, если использовать разное разбиение (или же разный биннинг) для оси икс. Разбиение может быть задано вариативно (третий график).\n",
    "\n",
    "Отоброзим наши данные на плоскости. Первую половину точек возьмем в качестве первой координаты, вторую половину -- в качестве второй координаты"
   ]
  },
  {
   "cell_type": "code",
   "execution_count": 5,
   "id": "20a702b6",
   "metadata": {},
   "outputs": [
    {
     "data": {
      "image/png": "[encoded data removed]",
      "text/plain": [
       "<Figure size 432x288 with 1 Axes>"
      ]
     },
     "metadata": {
      "needs_background": "light"
     },
     "output_type": "display_data"
    }
   ],
   "source": [
    "import numpy as np\n",
    "from matplotlib import pyplot as plt\n",
    "\n",
    "np.random.seed(42)\n",
    "data = np.random.poisson(5, size=(10000,))\n",
    "x = data[:5000]\n",
    "y = data[5000:]\n",
    "\n",
    "plt.scatter(x, y, s=10)\n",
    "\n",
    "plt.tight_layout()"
   ]
  },
  {
   "cell_type": "markdown",
   "id": "a3f0af29",
   "metadata": {},
   "source": [
    "В плоском виде это не информативно. Нельзя понять сколько точек попало в одну ячейку. Воспользуемся методом из numpy для разделения на разные корзины (бины)"
   ]
  },
  {
   "cell_type": "code",
   "execution_count": 6,
   "id": "aa7c5ac4",
   "metadata": {},
   "outputs": [
    {
     "data": {
      "text/plain": [
       "<matplotlib.colorbar.Colorbar at 0x7fb6615b3a60>"
      ]
     },
     "execution_count": 6,
     "metadata": {},
     "output_type": "execute_result"
    },
    {
     "data": {
      "image/png": "[encoded data removed]",
      "text/plain": [
       "<Figure size 288x288 with 2 Axes>"
      ]
     },
     "metadata": {
      "needs_background": "light"
     },
     "output_type": "display_data"
    }
   ],
   "source": [
    "xedges = np.linspace(-0.5, 18.5, 19)\n",
    "yedges = np.linspace(-0.5, 18.5, 19)\n",
    "distribution, xedges, yedges = np.histogram2d(x, y, bins=(xedges, yedges))\n",
    "\n",
    "cs = plt.matshow(distribution)\n",
    "plt.colorbar(cs)"
   ]
  },
  {
   "cell_type": "markdown",
   "id": "efeb158c",
   "metadata": {},
   "source": [
    "## Data Analysis again\n",
    "\n",
    "\n",
    "Функция `fake_data_generator` выдает данные какого-то эксперимента. Но это не беда, ведь мы всегда можем обработать данные!\n",
    "\n",
    "Узнайте свой порядковый номер в группе и с помощью функции `get_numbers` получите свои входные значения для функции `fake_data_generator`.\n",
    "\n",
    "Полученные  экспериентальные данные используйте для нанесения на график. Затем попрбуйте *прикинуть* параметры прямой, которая могла бы проходить через экспериентальные точки.\n",
    "\n",
    "Пример генерации данных:\n",
    "```python\n",
    "student = 0  # Teacher's number\n",
    "x, y = fake_data_generator(*get_numbers(student))\n",
    "```\n",
    "\n",
    "В этот раз мы попробуем обработать данные с помощью numpy. Требуется воспользоваться функцией `numpy.polynomial`. На вход она принимает три аргумента: x/y координаты точек для подгонки и `deg=1` количество степеней свободы кривой. При значении `deg=1` кривая будет прямой.\n",
    "\n",
    "Попробуйте сгенерировать данные в соотвествии с порядковым номером в списке группы. После подгоните данные с использованием функции `numpy.polynomial`. Проверьте дополнительно методом МНК какие коэффициенты должны поучится для наклона и смещения прямой"
   ]
  },
  {
   "cell_type": "code",
   "execution_count": 55,
   "id": "6758be04",
   "metadata": {},
   "outputs": [
    {
     "name": "stdout",
     "output_type": "stream",
     "text": [
      "(7, 4, 22, 39)\n"
     ]
    },
    {
     "data": {
      "image/png": "[encoded data removed]",
      "text/plain": [
       "<Figure size 640x480 with 1 Axes>"
      ]
     },
     "metadata": {},
     "output_type": "display_data"
    }
   ],
   "source": [
    "import numpy as np\n",
    "import matplotlib\n",
    "from matplotlib import pyplot as plt\n",
    "\n",
    "matplotlib.rcParams.update(matplotlib.rcParamsDefault)\n",
    "\n",
    "\n",
    "def get_numbers(student):\n",
    "    return student, (student + 4) % 5 + 3, student % 2 * 10 + 12, (student % 5 * 3 + 7) * 3 \n",
    "\n",
    "def fake_data_generator(seed, vmin=0, vmax=10, size=100):\n",
    "    import numpy as np\n",
    "    np.random.seed(seed)\n",
    "    data = np.random.randint(vmin, vmax, size=20)\n",
    "    mean = data.mean()\n",
    "    std = data.std()\n",
    "    noise = np.random.normal(loc=mean, scale=std**.5, size=size)\n",
    "    fake_x = np.array([-5 + i * 20 / size for i in range(size)])\n",
    "    \n",
    "    linear = lambda x, k=(.5 - np.random.rand()) * 15, b=np.random.rand()*10: k * x + b\n",
    "    linear_data = linear(fake_x)\n",
    "    fake_y = linear_data + noise\n",
    "    return fake_x, fake_y\n",
    "print(get_numbers(7))\n",
    "x_num, y_num = fake_data_generator(*get_numbers(7))\n",
    "plt.scatter(x_num, y_num, s=2)\n",
    "x = np.linspace(-5, 15, 2)\n",
    "y = -7/2*x+17\n",
    "plt.plot(x,y)\n",
    "k, b = np.polyfit(x_num, y_num, 1)\n",
    "y_polyfit = k*x+b\n",
    "plt.plot(x, y_polyfit)\n",
    "plt.show()"
   ]
  },
  {
   "cell_type": "code",
   "execution_count": 52,
   "id": "f0ee84bd",
   "metadata": {},
   "outputs": [
    {
     "data": {
      "image/png": "[encoded data removed]",
      "text/plain": [
       "<Figure size 640x480 with 1 Axes>"
      ]
     },
     "metadata": {},
     "output_type": "display_data"
    }
   ],
   "source": [
    "k, b = np.polyfit(x_num, y_num, 1)\n",
    "y_polyfit = k*x+b\n",
    "plt.plot(x, y_polyfit)\n",
    "plt.show()"
   ]
  },
  {
   "cell_type": "code",
   "execution_count": null,
   "id": "a51a1a6c",
   "metadata": {},
   "outputs": [],
   "source": []
  }
 ],
 "metadata": {
  "kernelspec": {
   "display_name": "Python 3 (ipykernel)",
   "language": "python",
   "name": "python3"
  },
  "language_info": {
   "codemirror_mode": {
    "name": "ipython",
    "version": 3
   },
   "file_extension": ".py",
   "mimetype": "text/x-python",
   "name": "python",
   "nbconvert_exporter": "python",
   "pygments_lexer": "ipython3",
   "version": "3.9.12"
  }
 },
 "nbformat": 4,
 "nbformat_minor": 5
}
