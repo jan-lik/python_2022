{
 "cells": [
  {
   "cell_type": "markdown",
   "metadata": {},
   "source": [
    "### Аннотация\n",
    "\n",
    "Ноутбук составлен на основе материалов [[1]](https://github.com/SciProgCentre/python-scientific-book/blob/master/pages/StudentEdition/05.ipynb), [[2]](https://github.com/SciProgCentre/python-scientific-book/blob/master/pages/StudentEdition/07.ipynb)"
   ]
  },
  {
   "cell_type": "code",
   "execution_count": 1,
   "metadata": {},
   "outputs": [],
   "source": [
    "from math import sin"
   ]
  },
  {
   "cell_type": "code",
   "execution_count": 3,
   "metadata": {},
   "outputs": [
    {
     "name": "stderr",
     "output_type": "stream",
     "text": [
      "ERROR: Invalid requirement: 'numpy\\\\'\n",
      "Hint: It looks like a path. File 'numpy\\' does not exist.\n"
     ]
    }
   ],
   "source": [
    "!pip install numpy\\"
   ]
  },
  {
   "cell_type": "markdown",
   "metadata": {},
   "source": [
    "# NumPy\n"
   ]
  },
  {
   "cell_type": "markdown",
   "metadata": {},
   "source": [
    "## Создание Numpy массивов"
   ]
  },
  {
   "cell_type": "code",
   "execution_count": 4,
   "metadata": {},
   "outputs": [
    {
     "name": "stdout",
     "output_type": "stream",
     "text": [
      "[1. 2. 3.]\n",
      "\n",
      "[-1. -1. -1. -1. -1. -1. -1. -1. -1. -1.]\n",
      "\n",
      "[[0. 0. 0. 0. 0.]\n",
      " [0. 0. 0. 0. 0.]\n",
      " [0. 0. 0. 0. 0.]]\n",
      "\n",
      "[[[1. 1.]\n",
      "  [1. 1.]]\n",
      "\n",
      " [[1. 1.]\n",
      "  [1. 1.]]]\n",
      "\n",
      "[[1. 0. 0. 0. 0.]\n",
      " [0. 1. 0. 0. 0.]\n",
      " [0. 0. 1. 0. 0.]\n",
      " [0. 0. 0. 1. 0.]\n",
      " [0. 0. 0. 0. 1.]]\n",
      "(3, 5)\n"
     ]
    }
   ],
   "source": [
    "import numpy as np\n",
    "\n",
    "a = np.array([1, 2, 3], float) # Однмемерный массив из списка \n",
    "b = np.repeat(-1. ,10) # Массив полученные повоторением исходного объекта\n",
    "c = np.zeros((3, 5)) # Матрица из нулей размера 3х5\n",
    "d = np.ones((2, 2, 2)) # Трехмерный массив из единиц\n",
    "e = np.eye(5) # Единичная матрица\n",
    "print(a, b, c, d, e, sep='\\n\\n')\n",
    "print(c.shape) # Возвращает размерность массива, для двумерного это количество строк и столбцов"
   ]
  },
  {
   "cell_type": "markdown",
   "metadata": {},
   "source": [
    "## Арифметические операции с массивами  и векторизация\n",
    "\n",
    "Полезной особенностью numpy-массивов является так называемая _векторизация_ --- возможность делать быстрые поэлементные операции с массивами без использования цикла `for`."
   ]
  },
  {
   "cell_type": "code",
   "execution_count": 15,
   "metadata": {},
   "outputs": [
    {
     "name": "stdout",
     "output_type": "stream",
     "text": [
      "[1. 2. 3.]\n",
      "[5. 2. 6.]\n",
      "[6. 4. 9.]\n",
      "[-4.  0. -3.]\n",
      "[ 5.  4. 18.]\n",
      "[5. 1. 2.]\n",
      "[1. 0. 3.]\n",
      "[  5.   4. 216.]\n",
      "[1.         1.41421356 1.73205081]\n",
      "6.0\n",
      "60.0\n",
      "27.0\n",
      "[False False False]\n",
      "[1.         2.         0.33333333]\n"
     ]
    }
   ],
   "source": [
    "a = np.array([1, 2, 3], float)\n",
    "print(a)\n",
    "b = np.array([5, 2, 6], float)\n",
    "print(b)\n",
    "print(a + b)\n",
    "print(a - b)\n",
    "print(a * b)\n",
    "print(b / a)\n",
    "print(a % b)\n",
    "print(b ** a)\n",
    "print(np.sqrt(a))\n",
    "print(np.sum(a))\n",
    "print(np.prod(b))\n",
    "print(a.dot(b)) # Скалярное произведение\n",
    "print(a > b)\n",
    "print(np.where(a != 2, 1 / a, a))"
   ]
  },
  {
   "cell_type": "markdown",
   "metadata": {},
   "source": [
    "## Линейная алгебра\n",
    "\n",
    "NumPy также предоставляет набор встроенных функций и методов для работы с линейной алгеброй. Это всё можно найти в под-модуле `linalg`."
   ]
  },
  {
   "cell_type": "code",
   "execution_count": 49,
   "metadata": {},
   "outputs": [
    {
     "name": "stdout",
     "output_type": "stream",
     "text": [
      "[[4. 2. 0.]\n",
      " [9. 3. 7.]\n",
      " [1. 2. 1.]]\n",
      "[[4. 9. 1.]\n",
      " [2. 3. 2.]\n",
      " [0. 7. 1.]]\n",
      "-48.00000000000003\n",
      "[ 8.85591316  1.9391628  -2.79507597]\n",
      "[[-0.3663565  -0.54736745  0.25928158]\n",
      " [-0.88949768  0.5640176  -0.88091903]\n",
      " [-0.27308752  0.61828231  0.39592263]]\n"
     ]
    }
   ],
   "source": [
    "a = np.array([[4, 2, 0], [9, 3, 7], [1, 2, 1]], float)\n",
    "print(a)\n",
    "b = a.T # Транспонированый массив\n",
    "print(b)\n",
    "print(np.linalg.det(a)) # Ищем детерминант \n",
    "vals, vecs = np.linalg.eig(a)\n",
    "print(vals)\n",
    "print(vecs)"
   ]
  },
  {
   "cell_type": "code",
   "execution_count": 22,
   "metadata": {},
   "outputs": [
    {
     "name": "stdout",
     "output_type": "stream",
     "text": [
      "[13, 11, 8, 14, 9, 11, 8, 13, 7, 4]\n",
      "[11, 7, 10, 10, 6, 8, 12, 11, 12, 11]\n",
      "[[2 0 2 2 0 0 2 1 2 2]\n",
      " [2 2 0 2 1 0 1 1 1 1]\n",
      " [0 0 1 1 0 0 0 2 2 2]\n",
      " [1 2 1 1 2 1 2 2 0 2]\n",
      " [0 2 2 0 0 2 1 0 1 1]\n",
      " [1 0 1 0 1 2 2 0 2 2]\n",
      " [1 0 1 1 1 1 1 1 1 0]\n",
      " [2 1 1 1 1 1 1 2 2 1]\n",
      " [2 0 1 0 0 1 2 0 1 0]\n",
      " [0 0 0 2 0 0 0 2 0 0]] \n",
      "\n",
      "[[2 0 2]\n",
      " [0 0 1]\n",
      " [2 0 1]]\n",
      "390.00000000000006\n",
      "[[2 0 2 2 0 0 2 1 2 2]\n",
      " [2 2 0 2 1 0 1 1 1 1]]\n",
      "[2 2 0 1 0 1 1 2 2 0]\n",
      "[[2 0 2 2 0 0 2 1 2 2]\n",
      " [0 0 1 1 0 0 0 2 2 2]\n",
      " [0 2 2 0 0 2 1 0 1 1]\n",
      " [1 0 1 1 1 1 1 1 1 0]\n",
      " [2 0 1 0 0 1 2 0 1 0]]\n",
      "[[2 0 2]\n",
      " [2 2 0]\n",
      " [0 0 1]\n",
      " [1 2 1]\n",
      " [0 2 2]]\n"
     ]
    }
   ],
   "source": [
    "np.random.seed(42)\n",
    "array = np.random.randint(3, size=100)\n",
    "#print(array)\n",
    "\n",
    "matrix = array.reshape(10, 10)\n",
    "#print(matrix)\n",
    "print([np.sum(row) for row in matrix])\n",
    "print([np.sum(row) for row in matrix.T])\n",
    "print(matrix, \"\\n\")\n",
    "print(matrix[::4, ::4])\n",
    "print(np.linalg.det(matrix[::, ::]))\n",
    "print(matrix[:2])\n",
    "print(matrix[:, 0])\n",
    "print(matrix[::2])\n",
    "print(matrix[:5,:3])"
   ]
  },
  {
   "cell_type": "code",
   "execution_count": null,
   "metadata": {},
   "outputs": [],
   "source": [
    "np.floor(array) #округление снизу\n",
    "np.ceil(array) #округление сверху"
   ]
  },
  {
   "cell_type": "markdown",
   "metadata": {},
   "source": [
    "## Операции с индексами \n",
    "Оперативная память компьютера линейна, и поэтому даже многомерные массивы, на самом деле являются некоторыми линейными структурами, над которыми существуют система индексов, говорящих как именно читать этот линейный блок. Проведение операций над индексами в большистве случаев эффективно и поэтому операции смены размерности массива или транспонирования выполняются быстро"
   ]
  },
  {
   "cell_type": "code",
   "execution_count": 23,
   "metadata": {},
   "outputs": [
    {
     "name": "stdout",
     "output_type": "stream",
     "text": [
      "[[1 3]\n",
      " [2 4]]\n"
     ]
    }
   ],
   "source": [
    "a = np.asarray([[1, 2], [3, 4]])\n",
    "b = a.T # Транспонированый массив\n",
    "print(b)"
   ]
  },
  {
   "cell_type": "code",
   "execution_count": 28,
   "metadata": {},
   "outputs": [
    {
     "name": "stdout",
     "output_type": "stream",
     "text": [
      "[[10 10]\n",
      " [ 2 10]]\n"
     ]
    }
   ],
   "source": [
    "b[0, 0] = 10\n",
    "print(b)"
   ]
  },
  {
   "cell_type": "code",
   "execution_count": 29,
   "metadata": {},
   "outputs": [
    {
     "name": "stdout",
     "output_type": "stream",
     "text": [
      "[[10  2]\n",
      " [10 10]]\n"
     ]
    }
   ],
   "source": [
    "print(a)"
   ]
  },
  {
   "cell_type": "markdown",
   "metadata": {},
   "source": [
    "Как мы видим при изменени переменной `b` изменилась переменная `a`. Это произошло потому, что обе эти переменные использубют один и тот же кусок памяти, но по разному "
   ]
  },
  {
   "cell_type": "markdown",
   "metadata": {},
   "source": [
    "## Срезы\n",
    "\n",
    "В numpy реализован удобный способ работы с элементами матрицы. Он позволяет пройтись по элементам с определенным шагом и в определенном направлении.\n",
    "\n",
    "Пусть у нас есть двумерная матрица. Стоит запомнить следущий синтаксис:\n",
    "- `[:]` -- получить все элементы матрицы\n",
    "- `[:, 0]` -- получить первый столбец матрицы\n",
    "- `[2, :]` -- получить третью строку матрицы\n",
    "- `[-2, :]` -- получить вторую строку матрицы с конца\n",
    "- `[::3, 0]` -- получить каждый третий элемент из первой строки\n",
    "- `[1:-1:3, 0]`-- получить каждый третий элемент первой строки начиная со второго и, возможно, закнчивая предпоследним"
   ]
  },
  {
   "cell_type": "code",
   "execution_count": 30,
   "metadata": {},
   "outputs": [
    {
     "name": "stdout",
     "output_type": "stream",
     "text": [
      "[  0   4   8  12  16  20  24  28  32  36  40  44  48  52  56  60  64  68\n",
      "  72  76  80  84  88  92  96 100 104 108 112 116 120 124 128 132 136 140\n",
      " 144 148 152 156 160 164 168 172 176 180 184 188 192 196 200 204 208 212\n",
      " 216 220 224 228 232 236 240 244 248 252 256 260 264 268 272 276 280 284\n",
      " 288 292 296 300 304 308 312 316 320]\n",
      "\n",
      "(81,)\n",
      "\n",
      "\n",
      "\n",
      "[[  0   4   8  12  16  20  24  28  32]\n",
      " [ 36  40  44  48  52  56  60  64  68]\n",
      " [ 72  76  80  84  88  92  96 100 104]\n",
      " [108 112 116 120 124 128 132 136 140]\n",
      " [144 148 152 156 160 164 168 172 176]\n",
      " [180 184 188 192 196 200 204 208 212]\n",
      " [216 220 224 228 232 236 240 244 248]\n",
      " [252 256 260 264 268 272 276 280 284]\n",
      " [288 292 296 300 304 308 312 316 320]]\n",
      "\n",
      "(9, 9)\n",
      "\n",
      "\n",
      "\n",
      "[[  0   8  16  24  32]\n",
      " [ 72  80  88  96 104]\n",
      " [144 152 160 168 176]\n",
      " [216 224 232 240 248]\n",
      " [288 296 304 312 320]] \n",
      "\n",
      "[[0.  2.4 4.8]\n",
      " [2.4 4.8 7.2]\n",
      " [4.8 7.2 9.6]] \n",
      "\n"
     ]
    }
   ],
   "source": [
    "array = np.array([i for i in range(0, 81*4, 4)])\n",
    "print(array, array.shape, \"\\n\", sep=\"\\n\\n\")\n",
    "\n",
    "matrix = array.reshape(9, 9)\n",
    "print(matrix, matrix.shape, \"\\n\", sep=\"\\n\\n\")\n",
    "\n",
    "print(matrix[::2, ::2], \"\\n\")\n",
    "\n",
    "print((matrix[::3, ::3] + matrix[::3, ::3].T) / 50, \"\\n\")"
   ]
  },
  {
   "cell_type": "markdown",
   "metadata": {},
   "source": [
    "## Чтение даных\n",
    "\n",
    "Numpy также предоставляет функционал для чтения данных, который бывает весьма полезен"
   ]
  },
  {
   "cell_type": "code",
   "execution_count": 31,
   "metadata": {},
   "outputs": [
    {
     "name": "stderr",
     "output_type": "stream",
     "text": [
      "\"cat\" ­Ґ пў«пҐвбп ў­гваҐ­­Ґ© Ё«Ё ў­Ґи­Ґ©\n",
      "Є®¬ ­¤®©, ЁбЇ®«­пҐ¬®© Їа®Ја ¬¬®© Ё«Ё Ї ЄҐв­л¬ д ©«®¬.\n"
     ]
    }
   ],
   "source": [
    "!cat data/data.txt"
   ]
  },
  {
   "cell_type": "code",
   "execution_count": 32,
   "metadata": {},
   "outputs": [
    {
     "ename": "OSError",
     "evalue": "./data/data.txt not found.",
     "output_type": "error",
     "traceback": [
      "\u001b[1;31m---------------------------------------------------------------------------\u001b[0m",
      "\u001b[1;31mOSError\u001b[0m                                   Traceback (most recent call last)",
      "Input \u001b[1;32mIn [32]\u001b[0m, in \u001b[0;36m<cell line: 1>\u001b[1;34m()\u001b[0m\n\u001b[1;32m----> 1\u001b[0m data \u001b[38;5;241m=\u001b[39m \u001b[43mnp\u001b[49m\u001b[38;5;241;43m.\u001b[39;49m\u001b[43mloadtxt\u001b[49m\u001b[43m(\u001b[49m\u001b[38;5;124;43m'\u001b[39;49m\u001b[38;5;124;43m./data/data.txt\u001b[39;49m\u001b[38;5;124;43m'\u001b[39;49m\u001b[43m)\u001b[49m\n\u001b[0;32m      2\u001b[0m data\n",
      "File \u001b[1;32m~\\anaconda3\\lib\\site-packages\\numpy\\lib\\npyio.py:1067\u001b[0m, in \u001b[0;36mloadtxt\u001b[1;34m(fname, dtype, comments, delimiter, converters, skiprows, usecols, unpack, ndmin, encoding, max_rows, like)\u001b[0m\n\u001b[0;32m   1065\u001b[0m     fname \u001b[38;5;241m=\u001b[39m os_fspath(fname)\n\u001b[0;32m   1066\u001b[0m \u001b[38;5;28;01mif\u001b[39;00m _is_string_like(fname):\n\u001b[1;32m-> 1067\u001b[0m     fh \u001b[38;5;241m=\u001b[39m \u001b[43mnp\u001b[49m\u001b[38;5;241;43m.\u001b[39;49m\u001b[43mlib\u001b[49m\u001b[38;5;241;43m.\u001b[39;49m\u001b[43m_datasource\u001b[49m\u001b[38;5;241;43m.\u001b[39;49m\u001b[43mopen\u001b[49m\u001b[43m(\u001b[49m\u001b[43mfname\u001b[49m\u001b[43m,\u001b[49m\u001b[43m \u001b[49m\u001b[38;5;124;43m'\u001b[39;49m\u001b[38;5;124;43mrt\u001b[39;49m\u001b[38;5;124;43m'\u001b[39;49m\u001b[43m,\u001b[49m\u001b[43m \u001b[49m\u001b[43mencoding\u001b[49m\u001b[38;5;241;43m=\u001b[39;49m\u001b[43mencoding\u001b[49m\u001b[43m)\u001b[49m\n\u001b[0;32m   1068\u001b[0m     fencoding \u001b[38;5;241m=\u001b[39m \u001b[38;5;28mgetattr\u001b[39m(fh, \u001b[38;5;124m'\u001b[39m\u001b[38;5;124mencoding\u001b[39m\u001b[38;5;124m'\u001b[39m, \u001b[38;5;124m'\u001b[39m\u001b[38;5;124mlatin1\u001b[39m\u001b[38;5;124m'\u001b[39m)\n\u001b[0;32m   1069\u001b[0m     fh \u001b[38;5;241m=\u001b[39m \u001b[38;5;28miter\u001b[39m(fh)\n",
      "File \u001b[1;32m~\\anaconda3\\lib\\site-packages\\numpy\\lib\\_datasource.py:193\u001b[0m, in \u001b[0;36mopen\u001b[1;34m(path, mode, destpath, encoding, newline)\u001b[0m\n\u001b[0;32m    156\u001b[0m \u001b[38;5;124;03m\"\"\"\u001b[39;00m\n\u001b[0;32m    157\u001b[0m \u001b[38;5;124;03mOpen `path` with `mode` and return the file object.\u001b[39;00m\n\u001b[0;32m    158\u001b[0m \n\u001b[1;32m   (...)\u001b[0m\n\u001b[0;32m    189\u001b[0m \n\u001b[0;32m    190\u001b[0m \u001b[38;5;124;03m\"\"\"\u001b[39;00m\n\u001b[0;32m    192\u001b[0m ds \u001b[38;5;241m=\u001b[39m DataSource(destpath)\n\u001b[1;32m--> 193\u001b[0m \u001b[38;5;28;01mreturn\u001b[39;00m \u001b[43mds\u001b[49m\u001b[38;5;241;43m.\u001b[39;49m\u001b[43mopen\u001b[49m\u001b[43m(\u001b[49m\u001b[43mpath\u001b[49m\u001b[43m,\u001b[49m\u001b[43m \u001b[49m\u001b[43mmode\u001b[49m\u001b[43m,\u001b[49m\u001b[43m \u001b[49m\u001b[43mencoding\u001b[49m\u001b[38;5;241;43m=\u001b[39;49m\u001b[43mencoding\u001b[49m\u001b[43m,\u001b[49m\u001b[43m \u001b[49m\u001b[43mnewline\u001b[49m\u001b[38;5;241;43m=\u001b[39;49m\u001b[43mnewline\u001b[49m\u001b[43m)\u001b[49m\n",
      "File \u001b[1;32m~\\anaconda3\\lib\\site-packages\\numpy\\lib\\_datasource.py:533\u001b[0m, in \u001b[0;36mDataSource.open\u001b[1;34m(self, path, mode, encoding, newline)\u001b[0m\n\u001b[0;32m    530\u001b[0m     \u001b[38;5;28;01mreturn\u001b[39;00m _file_openers[ext](found, mode\u001b[38;5;241m=\u001b[39mmode,\n\u001b[0;32m    531\u001b[0m                               encoding\u001b[38;5;241m=\u001b[39mencoding, newline\u001b[38;5;241m=\u001b[39mnewline)\n\u001b[0;32m    532\u001b[0m \u001b[38;5;28;01melse\u001b[39;00m:\n\u001b[1;32m--> 533\u001b[0m     \u001b[38;5;28;01mraise\u001b[39;00m \u001b[38;5;167;01mIOError\u001b[39;00m(\u001b[38;5;124m\"\u001b[39m\u001b[38;5;132;01m%s\u001b[39;00m\u001b[38;5;124m not found.\u001b[39m\u001b[38;5;124m\"\u001b[39m \u001b[38;5;241m%\u001b[39m path)\n",
      "\u001b[1;31mOSError\u001b[0m: ./data/data.txt not found."
     ]
    }
   ],
   "source": [
    "data = np.loadtxt('./data/data.txt')\n",
    "data"
   ]
  },
  {
   "cell_type": "markdown",
   "metadata": {},
   "source": [
    "## Задание по numpy\n",
    "\n",
    "1. Создайте вектор с элементами от 1 до 99 включительно\n",
    "2. Выведите все значения с шагом 3\n",
    "3. Посчитайте сумму троек элементов из пункта `1`\n",
    "4. Сделайте `reshape` для массива из предыдущего пункта в матрицу размера 11х3\n",
    "5. Транспонируйте матрицу из предыдущего пункта\n",
    "6. Произведите векторное умножение матрицы из предыдущего пункта на вектор размерности 11 из элементов от -9 до 1\n",
    "7. Запишите срез матрицы из пункта `5` в файл `matrix.dat`. Срез должен включать в себя 1, 5, 9 столбцы и 0 и 2 строки. **Подсказка**: требуется вписать элементы матрицы, которая состоит из пересечения соответсвующих столбцов и строк.\n",
    "8. Посчитайте детерминант матрицы, которая содержит в себе строки 2, 5, 8 из матрицы пункта `4`.\n",
    "9. `*`Создайте два вектора длины 10. Элементы первого вектора -- первые 10 простых чисел со знаком минус, второго вектора -- первые 10 чисел последовательности Фибоначчи. Посчитайте скалярное произведение двух векторов. **Указание**: для получения простых чисел и чисел из последовательности Фибоначчи реализуйте функции `prime_number` и `fibonacci_number`.\n",
    "10. `*`Реализуйте функцию вычисления матричной экспоненты\n",
    "$e^X = \\sum\\limits_{k = 0}^{n} \\frac{1}{k!} X^k$, $X^k$ -- матрица $X$ в степени $k$, $X^0 = I$\n",
    "\n",
    "Замечания:\n",
    "- Пункты `*` реализуются по завршению блока заданий на `matplotlib`.\n",
    "- Задания делать внутри следующей ячейки ноутбука. Если работаете в Pycharm, то сохраняйте в файлы `numpy_i.py`, где `i` указывает пункт задания.\n",
    "- Задания, или готовый ноутбук, сохранять в директории (папке) `classwork04`. **Никак иначе диеректорию не называть!**"
   ]
  },
  {
   "cell_type": "code",
   "execution_count": 34,
   "metadata": {},
   "outputs": [
    {
     "name": "stdout",
     "output_type": "stream",
     "text": [
      "[ 1  2  3  4  5  6  7  8  9 10 11 12 13 14 15 16 17 18 19 20 21 22 23 24\n",
      " 25 26 27 28 29 30 31 32 33 34 35 36 37 38 39 40 41 42 43 44 45 46 47 48\n",
      " 49 50 51 52 53 54 55 56 57 58 59 60 61 62 63 64 65 66 67 68 69 70 71 72\n",
      " 73 74 75 76 77 78 79 80 81 82 83 84 85 86 87 88 89 90 91 92 93 94 95 96\n",
      " 97 98 99]\n"
     ]
    }
   ],
   "source": [
    "array = np.array([i for i in range(1, 100)])\n",
    "print(array)"
   ]
  },
  {
   "cell_type": "code",
   "execution_count": 35,
   "metadata": {},
   "outputs": [
    {
     "name": "stdout",
     "output_type": "stream",
     "text": [
      "[ 1  4  7 10 13 16 19 22 25 28 31 34 37 40 43 46 49 52 55 58 61 64 67 70\n",
      " 73 76 79 82 85 88 91 94 97]\n"
     ]
    }
   ],
   "source": [
    "array = np.array([i for i in range(1, 100, 3)])\n",
    "print(array)"
   ]
  },
  {
   "cell_type": "code",
   "execution_count": 42,
   "metadata": {},
   "outputs": [
    {
     "name": "stdout",
     "output_type": "stream",
     "text": [
      "[ 1  2  3  4  5  6  7  8  9 10 11 12 13 14 15 16 17 18 19 20 21 22 23 24\n",
      " 25 26 27 28 29 30 31 32 33 34 35 36 37 38 39 40 41 42 43 44 45 46 47 48\n",
      " 49 50 51 52 53 54 55 56 57 58 59 60 61 62 63 64 65 66 67 68 69 70 71 72\n",
      " 73 74 75 76 77 78 79 80 81 82 83 84 85 86 87 88 89 90 91 92 93 94 95 96\n",
      " 97 98 99]\n",
      "[  6  15  24  33  42  51  60  69  78  87  96 105 114 123 132 141 150 159\n",
      " 168 177 186 195 204 213 222 231 240 249 258 267 276 285 294]\n"
     ]
    }
   ],
   "source": [
    "array = np.array([i for i in range(1, 100)])\n",
    "print(array)\n",
    "array_33 = np.array([array[3*i]+array[3*i+1]+array[3*i+2] for i in range (0,33)])\n",
    "print(array_33)"
   ]
  },
  {
   "cell_type": "code",
   "execution_count": 43,
   "metadata": {},
   "outputs": [
    {
     "name": "stdout",
     "output_type": "stream",
     "text": [
      "[[  6  15  24]\n",
      " [ 33  42  51]\n",
      " [ 60  69  78]\n",
      " [ 87  96 105]\n",
      " [114 123 132]\n",
      " [141 150 159]\n",
      " [168 177 186]\n",
      " [195 204 213]\n",
      " [222 231 240]\n",
      " [249 258 267]\n",
      " [276 285 294]]\n"
     ]
    }
   ],
   "source": [
    "matrix = array_33.reshape(11, 3)\n",
    "print(matrix)"
   ]
  },
  {
   "cell_type": "code",
   "execution_count": 50,
   "metadata": {},
   "outputs": [
    {
     "name": "stdout",
     "output_type": "stream",
     "text": [
      "[[  6  33  60  87 114 141 168 195 222 249 276]\n",
      " [ 15  42  69  96 123 150 177 204 231 258 285]\n",
      " [ 24  51  78 105 132 159 186 213 240 267 294]]\n"
     ]
    }
   ],
   "source": [
    "print(matrix.T)"
   ]
  },
  {
   "cell_type": "code",
   "execution_count": 55,
   "metadata": {},
   "outputs": [
    {
     "name": "stdout",
     "output_type": "stream",
     "text": [
      "[-9 -8 -7 -6 -5 -4 -3 -2 -1  0  1]\n",
      "[-3234 -3630 -4026]\n"
     ]
    }
   ],
   "source": [
    "c = np.array([i for i in range(-9, 2)])\n",
    "print(c)\n",
    "print(matrix.T @ c)"
   ]
  },
  {
   "cell_type": "code",
   "execution_count": 65,
   "metadata": {},
   "outputs": [
    {
     "name": "stdout",
     "output_type": "stream",
     "text": [
      "[[  6  33  60  87 114 141 168 195 222 249 276]\n",
      " [ 15  42  69  96 123 150 177 204 231 258 285]\n",
      " [ 24  51  78 105 132 159 186 213 240 267 294]]\n",
      "[[  6 114 222]\n",
      " [ 24 132 240]]\n"
     ]
    }
   ],
   "source": [
    "transp = matrix.T\n",
    "print(transp)\n",
    "print(transp[0::2, 0::4])"
   ]
  },
  {
   "cell_type": "code",
   "execution_count": 82,
   "metadata": {},
   "outputs": [
    {
     "name": "stdout",
     "output_type": "stream",
     "text": [
      "[[  6  15  24]\n",
      " [ 33  42  51]\n",
      " [ 60  69  78]\n",
      " [ 87  96 105]\n",
      " [114 123 132]\n",
      " [141 150 159]\n",
      " [168 177 186]\n",
      " [195 204 213]\n",
      " [222 231 240]\n",
      " [249 258 267]\n",
      " [276 285 294]]\n",
      "[[ 60  69  78]\n",
      " [141 150 159]\n",
      " [222 231 240]]\n",
      "-1.8846978032281543e-11\n"
     ]
    }
   ],
   "source": [
    "matrix = array_33.reshape(11, 3)\n",
    "print(matrix)\n",
    "b = (matrix[2::3,:])\n",
    "print(b)\n",
    "print(np.linalg.det(b))"
   ]
  },
  {
   "cell_type": "markdown",
   "metadata": {},
   "source": [
    "# Matplotlib"
   ]
  },
  {
   "cell_type": "markdown",
   "metadata": {},
   "source": [
    "# Построение графиков\n",
    "\n",
    "Для построения графиков чаще всего используется `matplotlib.pyplot`. Больше информации можно найти по этим ссылкам:\n",
    "* [Научная графика в python](https://nbviewer.jupyter.org/github/whitehorn/Scientific_graphics_in_python/tree/master/) --- уроки по `matplotlib` на русском языке.\n",
    "* [Галерея  `matplotlib`](https://matplotlib.org/3.1.1/gallery/index.html) --- галерея примеров на официальном сайте `matplotlib`, выбираете нужный вам пример и смотрите как он сделан.\n",
    "\n",
    "Построить график достаточно просто:"
   ]
  },
  {
   "cell_type": "code",
   "execution_count": 10,
   "metadata": {},
   "outputs": [
    {
     "data": {
      "image/png": "[encoded data removed]",
      "text/plain": [
       "<Figure size 432x288 with 1 Axes>"
      ]
     },
     "metadata": {
      "needs_background": "light"
     },
     "output_type": "display_data"
    }
   ],
   "source": [
    "import numpy as np\n",
    "import matplotlib.pyplot as plt\n",
    "%matplotlib inline\n",
    "\n",
    "x = np.linspace(-1, 1, 100)  # Создаем массив из ста точек на промежутке (-1; 1)\n",
    "y = x**3\n",
    "plt.plot(x, y)\n",
    "y2 = np.exp(-x)\n",
    "plt.plot(x, y2)\n",
    "plt.show()"
   ]
  },
  {
   "cell_type": "markdown",
   "metadata": {},
   "source": [
    "Как вы можете заметить построеный график хорош всем, кромо того обстоятельства что он нарушает все правила оформления графиков для лабораторных работ. Постораемся оформить его. \n",
    "Следующая иллюстрация поможет нам узнать как называются элементы изображения:\n",
    "\n",
    "\n",
    "![](https://matplotlib.org/_images/anatomy.png)\n",
    "\n",
    "\n",
    "Используя поиск по сайту [matplotlib.org](https://matplotlib.org/3.1.1/index.html) можно подробно узнать как настроить тот или иной элемент изображения. А мы приведем краткое описание полезных функции:"
   ]
  },
  {
   "cell_type": "code",
   "execution_count": 12,
   "metadata": {},
   "outputs": [
    {
     "name": "stderr",
     "output_type": "stream",
     "text": [
      "C:\\Users\\HP\\AppData\\Local\\Temp\\ipykernel_11944\\594084838.py:34: MatplotlibDeprecationWarning: The 'b' parameter of grid() has been renamed 'visible' since Matplotlib 3.5; support for the old name will be dropped two minor releases later.\n",
      "  plt.grid(b=True, which='major', axis='both', alpha=1)\n",
      "C:\\Users\\HP\\AppData\\Local\\Temp\\ipykernel_11944\\594084838.py:35: MatplotlibDeprecationWarning: The 'b' parameter of grid() has been renamed 'visible' since Matplotlib 3.5; support for the old name will be dropped two minor releases later.\n",
      "  plt.grid(b=True, which='minor', axis='both', alpha=0.5)\n"
     ]
    },
    {
     "data": {
      "image/png": "[encoded data removed]",
      "text/plain": [
       "<Figure size 504x504 with 1 Axes>"
      ]
     },
     "metadata": {
      "needs_background": "light"
     },
     "output_type": "display_data"
    }
   ],
   "source": [
    "import numpy as np\n",
    "import matplotlib.pyplot as plt\n",
    "import matplotlib as mpl\n",
    "mpl.rcParams['font.size'] = 16 # Управление стилем, в данном случаем - размером шрифта \n",
    " # Создаем фигуру\n",
    "plt.figure(figsize=(7,7))\n",
    "\n",
    "# Подписываем оси и график\n",
    "plt.title(r\"Это название  графика  $y = x^3$ - да, можно использовать LaTeX:\")\n",
    "plt.ylabel(\"Это ось Y\")\n",
    "plt.xlabel(r\"Это ось X, $F(x) = \\int f(x) dx + C$\")\n",
    "\n",
    "\n",
    "\n",
    "# Добавляем данные\n",
    "x = np.linspace(-1,1,100)\n",
    "y = x**3\n",
    "plt.plot(x,y, label=\"Синия линия\")\n",
    "\n",
    "# Еще данные\n",
    "x2 = x[::10]\n",
    "y2 = np.sin(x2)\n",
    "plt.plot(x2,y2, 'r^', label='Красные треугольники')\n",
    "# 'r^' - задает стиль линии - красные (red) треугольники (^), подробнее в документации\n",
    "\n",
    "# Данные с ошибками\n",
    "mu = np.sin(x2)\n",
    "sigma = np.abs(mu)**0.5\n",
    "y2 = np.random.normal(mu, sigma)\n",
    "# Можно рисовать ошибки\n",
    "plt.errorbar(x2,y2, yerr=sigma, xerr=0.1, fmt='.', label='Кресты') \n",
    "\n",
    "# Активируем сетку\n",
    "plt.grid(b=True, which='major', axis='both', alpha=1)\n",
    "plt.grid(b=True, which='minor', axis='both', alpha=0.5)\n",
    "\n",
    "# Активируем легенду графика\n",
    "plt.legend()\n",
    "# Внимание, запускаете вашу программу как сценарий, то что бы показать график\n",
    "# Используйте эту команду\n",
    "# plt.show()\n",
    "# Сохраняем изображение в текущую директорию\n",
    "plt.savefig('example.png')"
   ]
  },
  {
   "cell_type": "code",
   "execution_count": 14,
   "metadata": {},
   "outputs": [
    {
     "data": {
      "text/plain": [
       "[<matplotlib.lines.Line2D at 0x7f75e87efbb0>]"
      ]
     },
     "execution_count": 14,
     "metadata": {},
     "output_type": "execute_result"
    },
    {
     "data": {
      "image/png": "[encoded data removed]",
      "text/plain": [
       "<Figure size 432x288 with 1 Axes>"
      ]
     },
     "metadata": {
      "needs_background": "light"
     },
     "output_type": "display_data"
    }
   ],
   "source": [
    "# Логарифмический масштаб по оси x (аналогично для y)\n",
    "plt.xscale('log')\n",
    "plt.yscale('log')\n",
    "# Сетка\n",
    "plt.grid(True)\n",
    "# Добавляем данные\n",
    "x = np.linspace(0,100,100)\n",
    "y = x**3\n",
    "plt.plot(x,y,\"k--\", label=\"Синия линия\") # \"k--\" --- черная прерывистая линия"
   ]
  },
  {
   "cell_type": "code",
   "execution_count": 15,
   "metadata": {},
   "outputs": [],
   "source": [
    "plt.xscale??"
   ]
  },
  {
   "cell_type": "markdown",
   "metadata": {},
   "source": [
    "## Общие замечания\n",
    "\n",
    "1. Не советуется сильно изменять стандартный размер фигуры, который равен `[6.4, 4.8]`. Тогда не потребуется подстраивать раземер шрифта.\n",
    "2. Попробуйте воспользоваться функцией `plt.tight_layout()`. Она *уберет* лишнее пустое пространство вокруг графика.\n",
    "3. Для передачи *сырых* строк стоит пользоваться `r\"my favorite $\\LaTeX$\"` $\\rightarrow$ my favorite $\\LaTeX$\n",
    "4. Для сохранения графиков можно воспользоваться функцией `plt.savefig()`. По умолчанию возможно сохранять в `.pdf/.jpg/.png` и так далее."
   ]
  },
  {
   "cell_type": "markdown",
   "metadata": {},
   "source": [
    "## Задание matplotlib\n",
    "\n",
    "1. Нарисуйте точками график $\\sin(x) x^{-2}$ для x со значениями от 0 до 100 с шагом 10\n",
    "2. Добавьте сетку и описание осей для предыдущего графика\n",
    "2. Нарисуйте непрерывной прямой график $e^{-x \\sin(x)}$ для x со значениями от 10 до 100\n",
    "3. Добавьте сетку и описание осей для предыдущего графика\n",
    "4. Добавьте мелкую сетку для предыдущего графика (опция `plt.minorticks_on()`\n",
    "5. Нарисуйте точками график $e^{\\sqrt{x} \\sin(x)}$ для x со значениями от 10 до 100\n",
    "6. Нарисуйте график $x \\sin^2(x)$ для x со значениями от 50 до 100\n",
    "7. Сделайте логарифмический масштаб по оси ординат. Отразите этот факт в подписи к оси\n",
    "8. Добавьте легенду точкам и подписи к графику\n",
    "\n",
    "Замечания:\n",
    "- Если указано сделать подпись осей, то нужно добавить подписи к двум осям графика\n",
    "- Если указано ссделать подписи к графику, то нужно добавить оглавление графика, легенду для точек и кривых, подписи к осям\n",
    "- Задания делать внутри следующей ячейки ноутбука. Если работаете в Pycharm, то сохраняйте в файлы `matplotlib_i.py`, где `i` указывает пункт задания.\n",
    "- Задания, или готовый ноутбук, сохранять в директории (папке) `classwork04`. **Никак иначе диеректорию не называть!**"
   ]
  },
  {
   "cell_type": "code",
   "execution_count": null,
   "metadata": {},
   "outputs": [],
   "source": []
  },
  {
   "cell_type": "markdown",
   "metadata": {},
   "source": [
    "## Data Analysis\n",
    "\n",
    "Функция `fake_data_generator` выдает данные какого-то эксперимента. Но это не беда, ведь мы всегда можем обработать данные!\n",
    "\n",
    "Узнайте свой порядковый номер в группе и с помощью функции `get_numbers` получите свои входные значения для функции `fake_data_generator`.\n",
    "\n",
    "Полученные  экспериентальные данные используйте для нанесения на график. Затем попрбуйте *прикинуть* параметры прямой, которая могла бы проходить через экспериентальные точки.\n",
    "\n",
    "### План действий\n",
    "\n",
    "1. Сгенерируйте свои числа для задачи\n",
    "2. Нанесите точки на график. В качестве ошибок по `x` используйте половину расстояния между соседними точками. Для ошибок по `y` используйте корень квадратный от модуля значения. Добавьте легенду \"DATA\"\n",
    "3. Нанесите сетку на график\n",
    "4. Выделите штрихованную прямую синего цвета, которая выделяет средний уровень точек по оси абсцисс. Добавьте легенду со значением среднего \"mean x = \"\n",
    "5. Выделите штрих-пунктирную прямую красного цвета, которая выделяет средний уровень точек по оси ординат. Добавьте легенду со значением среднего \"mean y = \"\n",
    "6. Нарисуйте черным цветом прямую, которая примерно описывает данные на графике. Добавьте легенду \"fit\"\n",
    "7. Точки пересечения подгоночной кривой и средних значений выделить синим цветом\n",
    "8. Добавить описание для оси абсцисс $\\xi, cm\\rightarrow$ `$\\xi, cm$`\n",
    "9. Добавить описание для оси ординат $\\rho, mm^{-3}\\rightarrow$`$\\rho, mm^{-3}$`\n",
    "10. Легенду разместите в правом нижнем углу или же в верхнем правом"
   ]
  },
  {
   "cell_type": "code",
   "execution_count": 16,
   "metadata": {},
   "outputs": [],
   "source": [
    "import matplotlib\n",
    "from matplotlib import pyplot as plt\n",
    "\n",
    "matplotlib.rcParams.update(matplotlib.rcParamsDefault)\n",
    "\n",
    "\n",
    "def get_numbers(student):\n",
    "    return student, (student + 4) % 5 + 3, student % 2 * 10 + 12, (student % 5 * 3 + 7) * 3 \n",
    "\n",
    "def fake_data_generator(seed, vmin=0, vmax=10, size=100):\n",
    "    import numpy as np\n",
    "    np.random.seed(seed)\n",
    "    data = np.random.randint(vmin, vmax, size=20)\n",
    "    mean = data.mean()\n",
    "    std = data.std()\n",
    "    noise = np.random.normal(loc=mean, scale=std**.5, size=size)\n",
    "    fake_x = np.array([-5 + i * 20 / size for i in range(size)])\n",
    "    \n",
    "    linear = lambda x, k=(.5 - np.random.rand()) * 15, b=np.random.rand()*10: k * x + b\n",
    "    linear_data = linear(fake_x)\n",
    "    fake_y = linear_data + noise\n",
    "    return fake_x, fake_y"
   ]
  },
  {
   "cell_type": "code",
   "execution_count": null,
   "metadata": {},
   "outputs": [],
   "source": []
  }
 ],
 "metadata": {
  "kernelspec": {
   "display_name": "Python 3 (ipykernel)",
   "language": "python",
   "name": "python3"
  },
  "language_info": {
   "codemirror_mode": {
    "name": "ipython",
    "version": 3
   },
   "file_extension": ".py",
   "mimetype": "text/x-python",
   "name": "python",
   "nbconvert_exporter": "python",
   "pygments_lexer": "ipython3",
   "version": "3.9.12"
  }
 },
 "nbformat": 4,
 "nbformat_minor": 2
}
